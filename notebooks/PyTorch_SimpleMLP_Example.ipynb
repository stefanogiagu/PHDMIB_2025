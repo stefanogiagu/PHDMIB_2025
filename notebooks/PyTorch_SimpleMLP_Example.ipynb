{
  "cells": [
    {
      "cell_type": "markdown",
      "metadata": {
        "id": "view-in-github",
        "colab_type": "text"
      },
      "source": [
        "<a href=\"https://colab.research.google.com/github/stefanogiagu/PHDMIB_2025/blob/main/notebooks/PyTorch_SimpleMLP_Example.ipynb\" target=\"_parent\"><img src=\"https://colab.research.google.com/assets/colab-badge.svg\" alt=\"Open In Colab\"/></a>"
      ]
    },
    {
      "cell_type": "code",
      "execution_count": null,
      "metadata": {
        "id": "q_cd7xkhhQo6"
      },
      "outputs": [],
      "source": [
        "# Implementation of a basic pytorch MLP shallow architecture to illustrate\n",
        "# a tipical DL pipeline implemented in pytorch\n",
        "#\n",
        "# Stefano Giagu - v1.3 - 16.6.2025"
      ]
    },
    {
      "cell_type": "code",
      "execution_count": 1,
      "metadata": {
        "id": "F6cJhPLThtRq"
      },
      "outputs": [],
      "source": [
        "import numpy as np\n",
        "import matplotlib.pyplot as plt\n",
        "from scipy.stats import norm"
      ]
    },
    {
      "cell_type": "code",
      "execution_count": 2,
      "metadata": {
        "colab": {
          "base_uri": "https://localhost:8080/"
        },
        "id": "V3rnBiO-nwPM",
        "outputId": "7ac296fd-264c-482e-e4dc-a54371f8df9a"
      },
      "outputs": [
        {
          "output_type": "stream",
          "name": "stdout",
          "text": [
            "2.6.0+cu124\n",
            "0.21.0+cu124\n"
          ]
        }
      ],
      "source": [
        "import torch\n",
        "import torchvision\n",
        "\n",
        "print(torch.__version__)\n",
        "print(torchvision.__version__)"
      ]
    },
    {
      "cell_type": "code",
      "execution_count": 3,
      "metadata": {
        "colab": {
          "base_uri": "https://localhost:8080/"
        },
        "id": "ZL2plVoan5H6",
        "outputId": "1ce6f752-d311-42dc-b6ee-48ae64d46b01"
      },
      "outputs": [
        {
          "output_type": "stream",
          "name": "stdout",
          "text": [
            "number fo devices:  1\n",
            "Tesla T4\n",
            "Mon Jun 16 17:16:00 2025       \n",
            "+-----------------------------------------------------------------------------------------+\n",
            "| NVIDIA-SMI 550.54.15              Driver Version: 550.54.15      CUDA Version: 12.4     |\n",
            "|-----------------------------------------+------------------------+----------------------+\n",
            "| GPU  Name                 Persistence-M | Bus-Id          Disp.A | Volatile Uncorr. ECC |\n",
            "| Fan  Temp   Perf          Pwr:Usage/Cap |           Memory-Usage | GPU-Util  Compute M. |\n",
            "|                                         |                        |               MIG M. |\n",
            "|=========================================+========================+======================|\n",
            "|   0  Tesla T4                       Off |   00000000:00:04.0 Off |                    0 |\n",
            "| N/A   48C    P8             10W /   70W |       2MiB /  15360MiB |      0%      Default |\n",
            "|                                         |                        |                  N/A |\n",
            "+-----------------------------------------+------------------------+----------------------+\n",
            "                                                                                         \n",
            "+-----------------------------------------------------------------------------------------+\n",
            "| Processes:                                                                              |\n",
            "|  GPU   GI   CI        PID   Type   Process name                              GPU Memory |\n",
            "|        ID   ID                                                               Usage      |\n",
            "|=========================================================================================|\n",
            "|  No running processes found                                                             |\n",
            "+-----------------------------------------------------------------------------------------+\n",
            "Computation device: cuda\n",
            "\n"
          ]
        }
      ],
      "source": [
        "# in torch/pytorch data and models need to be moved in the specific processing unit\n",
        "# this code snippet allows to set the variable \"device\" according to available resoirce (cpu or cuda gpu)\n",
        "\n",
        "if torch.cuda.is_available():\n",
        "  print('number fo devices: ', torch.cuda.device_count())\n",
        "  print(torch.cuda.get_device_name(0))\n",
        "  !nvidia-smi\n",
        "device = ('cuda' if torch.cuda.is_available() else 'cpu')\n",
        "print(f\"Computation device: {device}\\n\")"
      ]
    },
    {
      "cell_type": "code",
      "execution_count": 4,
      "metadata": {
        "colab": {
          "base_uri": "https://localhost:8080/"
        },
        "id": "1F3TrSrLuRJW",
        "outputId": "b005caee-b950-4458-8d3d-274325745189"
      },
      "outputs": [
        {
          "output_type": "stream",
          "name": "stdout",
          "text": [
            "(6400, 8)\n",
            "(6400,)\n",
            "(800, 8)\n",
            "(800,)\n",
            "(800, 8)\n",
            "(800,)\n"
          ]
        }
      ],
      "source": [
        "# Dataset: in this simple example, we'll produce a toy dataset generated using\n",
        "# numpy\n",
        "#\n",
        "# two class problem, with 8 uncorrelated features, gaussian distributed with different\n",
        "# means and variance among features and classes\n",
        "\n",
        "meanS = [-4.,-3.,-2.,-1.,1.,2.,3.,4.]\n",
        "meanB = [-4.5,-3.5,-2.5,-1.5,1.5,2.5,3.5,4.5]\n",
        "features_S = np.random.normal(loc=meanS, scale=np.random.uniform(0.2,0.7,size=(8)), size=(4000,8))\n",
        "features_B = np.random.normal(loc=meanB, scale=np.random.uniform(0.2,0.7,size=(8)), size=(4000,8))\n",
        "labels_S = np.zeros(shape=(4000))\n",
        "labels_B = np.ones(shape=(4000))\n",
        "\n",
        "X = np.concatenate((features_S, features_B), axis=0)\n",
        "Y = np.concatenate((labels_S, labels_B), axis=0)\n",
        "\n",
        "# divide the dataset in train and test\n",
        "from sklearn.model_selection import train_test_split\n",
        "\n",
        "X_train, X_test, Y_train, Y_test = train_test_split(X, Y, test_size=0.2, random_state=12345)\n",
        "X_test, X_vali, Y_test, Y_vali = train_test_split(X_test, Y_test, test_size=0.5, random_state=456789)\n",
        "print(X_train.shape)\n",
        "print(Y_train.shape)\n",
        "print(X_vali.shape)\n",
        "print(Y_vali.shape)\n",
        "print(X_test.shape)\n",
        "print(Y_test.shape)"
      ]
    },
    {
      "cell_type": "code",
      "source": [
        "# plot variables\n",
        "\n",
        "sel_S = tuple([Y_train<0.5])\n",
        "sel_B = tuple([Y_train>0.5])\n",
        "\n",
        "for idx in range(8):\n",
        "  plt.subplot(2,4,idx+1)\n",
        "  minr = min(meanS[idx],meanB[idx])\n",
        "  maxr = max(meanS[idx],meanB[idx])\n",
        "  plt.hist((X_train[sel_S])[:,idx], bins=50, range=[minr-1.4,maxr+1.4], alpha=0.5, log=True, density=True)\n",
        "  plt.hist((X_train[sel_B])[:,idx], bins=50, range=[minr-1.4,maxr+1.4], alpha=0.5, log=True, density=True)\n",
        "plt.tight_layout()"
      ],
      "metadata": {
        "colab": {
          "base_uri": "https://localhost:8080/",
          "height": 485
        },
        "id": "qHpIRa6SmFQO",
        "outputId": "3cfdc498-a996-4878-9399-66ece0018a02"
      },
      "execution_count": 5,
      "outputs": [
        {
          "output_type": "display_data",
          "data": {
            "text/plain": [
              "<Figure size 640x480 with 8 Axes>"
            ],
            "image/png": "[encoded data removed]"
          },
          "metadata": {}
        }
      ]
    },
    {
      "cell_type": "code",
      "execution_count": 6,
      "metadata": {
        "colab": {
          "base_uri": "https://localhost:8080/"
        },
        "id": "u1Lymch5XTw8",
        "outputId": "c146777b-6bdb-4903-cc80-390854608bc3"
      },
      "outputs": [
        {
          "output_type": "stream",
          "name": "stdout",
          "text": [
            "torch.Size([6400, 8])\n",
            "torch.Size([6400])\n",
            "torch.Size([800, 8])\n",
            "torch.Size([800])\n",
            "torch.Size([800, 8])\n",
            "torch.Size([800])\n"
          ]
        }
      ],
      "source": [
        "# transform the numpy arrays to torch tensors (pytorch works with torch tensors)\n",
        "\n",
        "X_train_pt = torch.Tensor(X_train).float()\n",
        "Y_train_pt = torch.Tensor(Y_train).float()\n",
        "X_vali_pt = torch.Tensor(X_vali).float()\n",
        "Y_vali_pt = torch.Tensor(Y_vali).float()\n",
        "X_test_pt = torch.Tensor(X_test).float()\n",
        "Y_test_pt = torch.Tensor(Y_test).float()\n",
        "\n",
        "print(X_train_pt.shape)\n",
        "print(Y_train_pt.shape)\n",
        "print(X_vali_pt.shape)\n",
        "print(Y_vali_pt.shape)\n",
        "print(X_test_pt.shape)\n",
        "print(Y_test_pt.shape)\n",
        "\n",
        "# create a pytorch dataset and a pytroch dataloader (a python iterable that allows to iterate among sample's events\n",
        "# mini-batch it, reshuffle at every epoch, etc...)\n",
        "from torch.utils.data import TensorDataset, DataLoader\n",
        "\n",
        "dataset_train = TensorDataset(X_train_pt, Y_train_pt)\n",
        "dataloader_train = DataLoader(dataset_train, batch_size=32, shuffle=True)\n",
        "\n",
        "dataset_vali = TensorDataset(X_vali_pt, Y_vali_pt)\n",
        "dataloader_vali = DataLoader(dataset_vali, batch_size=32, shuffle=True)"
      ]
    },
    {
      "cell_type": "code",
      "source": [
        "# note: move torch tensors between cpu and gpu\n",
        "\n",
        "print('X_train_pt is in GPU: ', X_train_pt.is_cuda)\n",
        "X_train_pt = X_train_pt.to(device)\n",
        "print('X_train_pt is in GPU: ', X_train_pt.is_cuda)\n",
        "X_train_pt = X_train_pt.to('cpu')\n",
        "print('X_train_pt is in GPU: ', X_train_pt.is_cuda)\n",
        "\n",
        "\n",
        "# alteranative way (earlier torch style)\n",
        "# use .cuda() e .cpu()\n",
        "print('X_train_pt is in GPU: ', X_train_pt.cpu())\n",
        "print('X_train_pt is in GPU: ', X_train_pt.cuda())"
      ],
      "metadata": {
        "colab": {
          "base_uri": "https://localhost:8080/"
        },
        "id": "eL6Lhlndh3Ee",
        "outputId": "84a0947b-7fec-4b70-b652-300900d85c85"
      },
      "execution_count": 7,
      "outputs": [
        {
          "output_type": "stream",
          "name": "stdout",
          "text": [
            "X_train_pt is in GPU:  False\n",
            "X_train_pt is in GPU:  True\n",
            "X_train_pt is in GPU:  False\n",
            "X_train_pt is in GPU:  tensor([[-5.1456, -4.1152, -2.8060,  ...,  2.6085,  3.8572,  4.3653],\n",
            "        [-3.6925, -3.4780, -1.5316,  ...,  0.9972,  2.9023,  3.3483],\n",
            "        [-3.1660, -4.4137, -2.6901,  ...,  1.9892,  3.7497,  4.6869],\n",
            "        ...,\n",
            "        [-5.2636, -3.9224, -2.5298,  ...,  2.6543,  3.6800,  4.4259],\n",
            "        [-2.8539, -3.6823, -1.7327,  ...,  1.7245,  3.2554,  3.5639],\n",
            "        [-4.0743, -3.6302, -2.6765,  ...,  3.0973,  3.5256,  4.5674]])\n",
            "X_train_pt is in GPU:  tensor([[-5.1456, -4.1152, -2.8060,  ...,  2.6085,  3.8572,  4.3653],\n",
            "        [-3.6925, -3.4780, -1.5316,  ...,  0.9972,  2.9023,  3.3483],\n",
            "        [-3.1660, -4.4137, -2.6901,  ...,  1.9892,  3.7497,  4.6869],\n",
            "        ...,\n",
            "        [-5.2636, -3.9224, -2.5298,  ...,  2.6543,  3.6800,  4.4259],\n",
            "        [-2.8539, -3.6823, -1.7327,  ...,  1.7245,  3.2554,  3.5639],\n",
            "        [-4.0743, -3.6302, -2.6765,  ...,  3.0973,  3.5256,  4.5674]],\n",
            "       device='cuda:0')\n"
          ]
        }
      ]
    },
    {
      "cell_type": "code",
      "source": [
        "# example of iteration through the dataloader\n",
        "\n",
        "train_features, train_labels = next(iter(dataloader_train))\n",
        "\n",
        "print(f\"Feature batch shape: {train_features.size()}\")\n",
        "print(f\"Labels batch shape: {train_labels.size()}\")\n",
        "\n",
        "an_event = train_features[0].squeeze()\n",
        "a_label = train_labels[0]\n",
        "\n",
        "print(f\"Feature: {an_event}\")\n",
        "print(f\"Label: {a_label}\")"
      ],
      "metadata": {
        "colab": {
          "base_uri": "https://localhost:8080/"
        },
        "id": "hzLJyiBNvZVg",
        "outputId": "b4c3f225-9a0f-4c8b-908a-290d45abfd83"
      },
      "execution_count": 8,
      "outputs": [
        {
          "output_type": "stream",
          "name": "stdout",
          "text": [
            "Feature batch shape: torch.Size([32, 8])\n",
            "Labels batch shape: torch.Size([32])\n",
            "Feature: tensor([-5.1501, -2.8104, -2.7603, -1.0159,  1.2470,  2.5063,  3.8637,  4.9763])\n",
            "Label: 1.0\n"
          ]
        }
      ]
    },
    {
      "cell_type": "code",
      "execution_count": 9,
      "metadata": {
        "id": "At2pTSb5uJ0O"
      },
      "outputs": [],
      "source": [
        "# a pytorch nn model: it is just a python class inheriting from nn.Module that defines\n",
        "# the layers and activations used in the DNN model and a forward(x) method that defines\n",
        "# how the model act on an input example x\n",
        "\n",
        "from torch import nn\n",
        "import torch.nn.functional as F\n",
        "\n",
        "# as a basic example let'd define a shallow ANN with a dense layer with 20 neurons\n",
        "class ShallowANN(nn.Module):\n",
        "  def __init__(self, input_dim):\n",
        "    super(ShallowANN, self).__init__()\n",
        "\n",
        "    #torch.nn.Linear(in_features, out_features, bias=True, device=None, dtype=None)\n",
        "    #Linear in pytorch is the equivalent of Dense in keras\n",
        "    self.layer1 = nn.Linear(input_dim, 20)\n",
        "    self.activ1 = nn.ReLU()\n",
        "    self.layer2 = nn.Linear(20, 1)\n",
        "    self.activ2 = nn.Sigmoid()\n",
        "\n",
        "  def forward(self, x):\n",
        "    out = self.layer1(x)\n",
        "    out = self.activ1(out)\n",
        "    out = self.layer2(out) #alternatively the two statements can be replaced\n",
        "    out = self.activ2(out) #out = torch.sigmoid(self.layer2(out))\n",
        "    return out\n",
        "\n",
        "# note: it is strightfoward to modify the class to implement a MLP\n",
        "\n",
        "# example MLP: with 3 hidden layers\n",
        "\n",
        "class MyMLP(nn.Module):\n",
        "  def __init__(self):\n",
        "    super(MyMLP, self).__init__()\n",
        "\n",
        "    self.layer1 = nn.Linear(8, 20)\n",
        "    self.activ1 = nn.ReLU()\n",
        "    self.layer2 = nn.Linear(20, 50)\n",
        "    self.activ2 = nn.ReLU()\n",
        "    self.layer3 = nn.Linear(50, 100)\n",
        "    self.activ3 = nn.ReLU()\n",
        "    self.layer4 = nn.Linear(100, 1)\n",
        "    self.activ4 = nn.Sigmoid()\n",
        "\n",
        "  def forward(self, x):\n",
        "    out = self.layer1(x)\n",
        "    out = self.activ1(out)\n",
        "    out = self.layer2(out)\n",
        "    out = self.activ2(out)\n",
        "    out = self.layer3(out)\n",
        "    out = self.activ3(out)\n",
        "    out = self.layer4(out)\n",
        "    out = self.activ4(out)\n",
        "    return out\n",
        "\n",
        "\n",
        "# alternative implementation using nn.Sequential()\n",
        "class MyMLP2(nn.Module):\n",
        "  def __init__(self):\n",
        "    super(MyMLP2, self).__init__()\n",
        "\n",
        "    self.mlp_block = nn.Sequential( #similar to keras keras.Sequential module\n",
        "      nn.Linear(8, 20),\n",
        "      nn.ReLU(),\n",
        "      nn.Linear(20, 50),\n",
        "      nn.ReLU(),\n",
        "      nn.Linear(50, 100),\n",
        "      nn.ReLU()\n",
        "    )\n",
        "\n",
        "    self.out_block = nn.Linear(100, 1)\n",
        "\n",
        "  def forward(self, x):\n",
        "    out = torch.sigmoid(self.out_block(self.mlp(x)))\n",
        "    return out"
      ]
    },
    {
      "cell_type": "code",
      "execution_count": null,
      "metadata": {
        "id": "CW_NlvdnuRJZ"
      },
      "outputs": [],
      "source": [
        "#%pip install torchsummary #already installed in google colab"
      ]
    },
    {
      "cell_type": "code",
      "execution_count": 10,
      "metadata": {
        "colab": {
          "base_uri": "https://localhost:8080/"
        },
        "id": "uaLMNMzt1TAK",
        "outputId": "391a4da4-c213-41dd-acab-8b953aa049de"
      },
      "outputs": [
        {
          "output_type": "stream",
          "name": "stdout",
          "text": [
            "ShallowANN(\n",
            "  (layer1): Linear(in_features=8, out_features=20, bias=True)\n",
            "  (activ1): ReLU()\n",
            "  (layer2): Linear(in_features=20, out_features=1, bias=True)\n",
            "  (activ2): Sigmoid()\n",
            ")\n",
            "----------------------------------------------------------------\n",
            "        Layer (type)               Output Shape         Param #\n",
            "================================================================\n",
            "            Linear-1                [-1, 1, 20]             180\n",
            "              ReLU-2                [-1, 1, 20]               0\n",
            "            Linear-3                 [-1, 1, 1]              21\n",
            "           Sigmoid-4                 [-1, 1, 1]               0\n",
            "================================================================\n",
            "Total params: 201\n",
            "Trainable params: 201\n",
            "Non-trainable params: 0\n",
            "----------------------------------------------------------------\n",
            "Input size (MB): 0.00\n",
            "Forward/backward pass size (MB): 0.00\n",
            "Params size (MB): 0.00\n",
            "Estimated Total Size (MB): 0.00\n",
            "----------------------------------------------------------------\n"
          ]
        }
      ],
      "source": [
        "model = ShallowANN(input_dim=8)\n",
        "print(model)\n",
        "\n",
        "from torchsummary import summary\n",
        "if torch.cuda.is_available():\n",
        "  summary(model.cuda(), input_size=(1,8))\n",
        "else:\n",
        "  summary(model, input_size=(1,8))"
      ]
    },
    {
      "cell_type": "code",
      "source": [
        "#install torchmetrics: collection of useful PyTorch metrics implementations and an easy-to-use API to create custom metrics]\n",
        "%pip install torchmetrics"
      ],
      "metadata": {
        "colab": {
          "base_uri": "https://localhost:8080/"
        },
        "id": "bn2FIc6jlvnz",
        "outputId": "c7431345-559e-4723-ff69-93ddbdc4a7f9"
      },
      "execution_count": 11,
      "outputs": [
        {
          "output_type": "stream",
          "name": "stdout",
          "text": [
            "Collecting torchmetrics\n",
            "  Downloading torchmetrics-1.7.3-py3-none-any.whl.metadata (21 kB)\n",
            "Requirement already satisfied: numpy>1.20.0 in /usr/local/lib/python3.11/dist-packages (from torchmetrics) (2.0.2)\n",
            "Requirement already satisfied: packaging>17.1 in /usr/local/lib/python3.11/dist-packages (from torchmetrics) (24.2)\n",
            "Requirement already satisfied: torch>=2.0.0 in /usr/local/lib/python3.11/dist-packages (from torchmetrics) (2.6.0+cu124)\n",
            "Collecting lightning-utilities>=0.8.0 (from torchmetrics)\n",
            "  Downloading lightning_utilities-0.14.3-py3-none-any.whl.metadata (5.6 kB)\n",
            "Requirement already satisfied: setuptools in /usr/local/lib/python3.11/dist-packages (from lightning-utilities>=0.8.0->torchmetrics) (75.2.0)\n",
            "Requirement already satisfied: typing_extensions in /usr/local/lib/python3.11/dist-packages (from lightning-utilities>=0.8.0->torchmetrics) (4.14.0)\n",
            "Requirement already satisfied: filelock in /usr/local/lib/python3.11/dist-packages (from torch>=2.0.0->torchmetrics) (3.18.0)\n",
            "Requirement already satisfied: networkx in /usr/local/lib/python3.11/dist-packages (from torch>=2.0.0->torchmetrics) (3.5)\n",
            "Requirement already satisfied: jinja2 in /usr/local/lib/python3.11/dist-packages (from torch>=2.0.0->torchmetrics) (3.1.6)\n",
            "Requirement already satisfied: fsspec in /usr/local/lib/python3.11/dist-packages (from torch>=2.0.0->torchmetrics) (2025.3.2)\n",
            "Collecting nvidia-cuda-nvrtc-cu12==12.4.127 (from torch>=2.0.0->torchmetrics)\n",
            "  Downloading nvidia_cuda_nvrtc_cu12-12.4.127-py3-none-manylinux2014_x86_64.whl.metadata (1.5 kB)\n",
            "Collecting nvidia-cuda-runtime-cu12==12.4.127 (from torch>=2.0.0->torchmetrics)\n",
            "  Downloading nvidia_cuda_runtime_cu12-12.4.127-py3-none-manylinux2014_x86_64.whl.metadata (1.5 kB)\n",
            "Collecting nvidia-cuda-cupti-cu12==12.4.127 (from torch>=2.0.0->torchmetrics)\n",
            "  Downloading nvidia_cuda_cupti_cu12-12.4.127-py3-none-manylinux2014_x86_64.whl.metadata (1.6 kB)\n",
            "Collecting nvidia-cudnn-cu12==9.1.0.70 (from torch>=2.0.0->torchmetrics)\n",
            "  Downloading nvidia_cudnn_cu12-9.1.0.70-py3-none-manylinux2014_x86_64.whl.metadata (1.6 kB)\n",
            "Collecting nvidia-cublas-cu12==12.4.5.8 (from torch>=2.0.0->torchmetrics)\n",
            "  Downloading nvidia_cublas_cu12-12.4.5.8-py3-none-manylinux2014_x86_64.whl.metadata (1.5 kB)\n",
            "Collecting nvidia-cufft-cu12==11.2.1.3 (from torch>=2.0.0->torchmetrics)\n",
            "  Downloading nvidia_cufft_cu12-11.2.1.3-py3-none-manylinux2014_x86_64.whl.metadata (1.5 kB)\n",
            "Collecting nvidia-curand-cu12==10.3.5.147 (from torch>=2.0.0->torchmetrics)\n",
            "  Downloading nvidia_curand_cu12-10.3.5.147-py3-none-manylinux2014_x86_64.whl.metadata (1.5 kB)\n",
            "Collecting nvidia-cusolver-cu12==11.6.1.9 (from torch>=2.0.0->torchmetrics)\n",
            "  Downloading nvidia_cusolver_cu12-11.6.1.9-py3-none-manylinux2014_x86_64.whl.metadata (1.6 kB)\n",
            "Collecting nvidia-cusparse-cu12==12.3.1.170 (from torch>=2.0.0->torchmetrics)\n",
            "  Downloading nvidia_cusparse_cu12-12.3.1.170-py3-none-manylinux2014_x86_64.whl.metadata (1.6 kB)\n",
            "Requirement already satisfied: nvidia-cusparselt-cu12==0.6.2 in /usr/local/lib/python3.11/dist-packages (from torch>=2.0.0->torchmetrics) (0.6.2)\n",
            "Requirement already satisfied: nvidia-nccl-cu12==2.21.5 in /usr/local/lib/python3.11/dist-packages (from torch>=2.0.0->torchmetrics) (2.21.5)\n",
            "Requirement already satisfied: nvidia-nvtx-cu12==12.4.127 in /usr/local/lib/python3.11/dist-packages (from torch>=2.0.0->torchmetrics) (12.4.127)\n",
            "Collecting nvidia-nvjitlink-cu12==12.4.127 (from torch>=2.0.0->torchmetrics)\n",
            "  Downloading nvidia_nvjitlink_cu12-12.4.127-py3-none-manylinux2014_x86_64.whl.metadata (1.5 kB)\n",
            "Requirement already satisfied: triton==3.2.0 in /usr/local/lib/python3.11/dist-packages (from torch>=2.0.0->torchmetrics) (3.2.0)\n",
            "Requirement already satisfied: sympy==1.13.1 in /usr/local/lib/python3.11/dist-packages (from torch>=2.0.0->torchmetrics) (1.13.1)\n",
            "Requirement already satisfied: mpmath<1.4,>=1.1.0 in /usr/local/lib/python3.11/dist-packages (from sympy==1.13.1->torch>=2.0.0->torchmetrics) (1.3.0)\n",
            "Requirement already satisfied: MarkupSafe>=2.0 in /usr/local/lib/python3.11/dist-packages (from jinja2->torch>=2.0.0->torchmetrics) (3.0.2)\n",
            "Downloading torchmetrics-1.7.3-py3-none-any.whl (962 kB)\n",
            "\u001b[2K   \u001b[90m━━━━━━━━━━━━━━━━━━━━━━━━━━━━━━━━━━━━━━━━\u001b[0m \u001b[32m962.6/962.6 kB\u001b[0m \u001b[31m27.3 MB/s\u001b[0m eta \u001b[36m0:00:00\u001b[0m\n",
            "\u001b[?25hDownloading lightning_utilities-0.14.3-py3-none-any.whl (28 kB)\n",
            "Downloading nvidia_cublas_cu12-12.4.5.8-py3-none-manylinux2014_x86_64.whl (363.4 MB)\n",
            "\u001b[2K   \u001b[90m━━━━━━━━━━━━━━━━━━━━━━━━━━━━━━━━━━━━━━━━\u001b[0m \u001b[32m363.4/363.4 MB\u001b[0m \u001b[31m4.1 MB/s\u001b[0m eta \u001b[36m0:00:00\u001b[0m\n",
            "\u001b[?25hDownloading nvidia_cuda_cupti_cu12-12.4.127-py3-none-manylinux2014_x86_64.whl (13.8 MB)\n",
            "\u001b[2K   \u001b[90m━━━━━━━━━━━━━━━━━━━━━━━━━━━━━━━━━━━━━━━━\u001b[0m \u001b[32m13.8/13.8 MB\u001b[0m \u001b[31m114.2 MB/s\u001b[0m eta \u001b[36m0:00:00\u001b[0m\n",
            "\u001b[?25hDownloading nvidia_cuda_nvrtc_cu12-12.4.127-py3-none-manylinux2014_x86_64.whl (24.6 MB)\n",
            "\u001b[2K   \u001b[90m━━━━━━━━━━━━━━━━━━━━━━━━━━━━━━━━━━━━━━━━\u001b[0m \u001b[32m24.6/24.6 MB\u001b[0m \u001b[31m86.7 MB/s\u001b[0m eta \u001b[36m0:00:00\u001b[0m\n",
            "\u001b[?25hDownloading nvidia_cuda_runtime_cu12-12.4.127-py3-none-manylinux2014_x86_64.whl (883 kB)\n",
            "\u001b[2K   \u001b[90m━━━━━━━━━━━━━━━━━━━━━━━━━━━━━━━━━━━━━━━━\u001b[0m \u001b[32m883.7/883.7 kB\u001b[0m \u001b[31m63.5 MB/s\u001b[0m eta \u001b[36m0:00:00\u001b[0m\n",
            "\u001b[?25hDownloading nvidia_cudnn_cu12-9.1.0.70-py3-none-manylinux2014_x86_64.whl (664.8 MB)\n",
            "\u001b[2K   \u001b[90m━━━━━━━━━━━━━━━━━━━━━━━━━━━━━━━━━━━━━━━━\u001b[0m \u001b[32m664.8/664.8 MB\u001b[0m \u001b[31m2.0 MB/s\u001b[0m eta \u001b[36m0:00:00\u001b[0m\n",
            "\u001b[?25hDownloading nvidia_cufft_cu12-11.2.1.3-py3-none-manylinux2014_x86_64.whl (211.5 MB)\n",
            "\u001b[2K   \u001b[90m━━━━━━━━━━━━━━━━━━━━━━━━━━━━━━━━━━━━━━━━\u001b[0m \u001b[32m211.5/211.5 MB\u001b[0m \u001b[31m2.3 MB/s\u001b[0m eta \u001b[36m0:00:00\u001b[0m\n",
            "\u001b[?25hDownloading nvidia_curand_cu12-10.3.5.147-py3-none-manylinux2014_x86_64.whl (56.3 MB)\n",
            "\u001b[2K   \u001b[90m━━━━━━━━━━━━━━━━━━━━━━━━━━━━━━━━━━━━━━━━\u001b[0m \u001b[32m56.3/56.3 MB\u001b[0m \u001b[31m13.4 MB/s\u001b[0m eta \u001b[36m0:00:00\u001b[0m\n",
            "\u001b[?25hDownloading nvidia_cusolver_cu12-11.6.1.9-py3-none-manylinux2014_x86_64.whl (127.9 MB)\n",
            "\u001b[2K   \u001b[90m━━━━━━━━━━━━━━━━━━━━━━━━━━━━━━━━━━━━━━━━\u001b[0m \u001b[32m127.9/127.9 MB\u001b[0m \u001b[31m8.2 MB/s\u001b[0m eta \u001b[36m0:00:00\u001b[0m\n",
            "\u001b[?25hDownloading nvidia_cusparse_cu12-12.3.1.170-py3-none-manylinux2014_x86_64.whl (207.5 MB)\n",
            "\u001b[2K   \u001b[90m━━━━━━━━━━━━━━━━━━━━━━━━━━━━━━━━━━━━━━━━\u001b[0m \u001b[32m207.5/207.5 MB\u001b[0m \u001b[31m6.8 MB/s\u001b[0m eta \u001b[36m0:00:00\u001b[0m\n",
            "\u001b[?25hDownloading nvidia_nvjitlink_cu12-12.4.127-py3-none-manylinux2014_x86_64.whl (21.1 MB)\n",
            "\u001b[2K   \u001b[90m━━━━━━━━━━━━━━━━━━━━━━━━━━━━━━━━━━━━━━━━\u001b[0m \u001b[32m21.1/21.1 MB\u001b[0m \u001b[31m61.9 MB/s\u001b[0m eta \u001b[36m0:00:00\u001b[0m\n",
            "\u001b[?25hInstalling collected packages: nvidia-nvjitlink-cu12, nvidia-curand-cu12, nvidia-cufft-cu12, nvidia-cuda-runtime-cu12, nvidia-cuda-nvrtc-cu12, nvidia-cuda-cupti-cu12, nvidia-cublas-cu12, lightning-utilities, nvidia-cusparse-cu12, nvidia-cudnn-cu12, nvidia-cusolver-cu12, torchmetrics\n",
            "  Attempting uninstall: nvidia-nvjitlink-cu12\n",
            "    Found existing installation: nvidia-nvjitlink-cu12 12.5.82\n",
            "    Uninstalling nvidia-nvjitlink-cu12-12.5.82:\n",
            "      Successfully uninstalled nvidia-nvjitlink-cu12-12.5.82\n",
            "  Attempting uninstall: nvidia-curand-cu12\n",
            "    Found existing installation: nvidia-curand-cu12 10.3.6.82\n",
            "    Uninstalling nvidia-curand-cu12-10.3.6.82:\n",
            "      Successfully uninstalled nvidia-curand-cu12-10.3.6.82\n",
            "  Attempting uninstall: nvidia-cufft-cu12\n",
            "    Found existing installation: nvidia-cufft-cu12 11.2.3.61\n",
            "    Uninstalling nvidia-cufft-cu12-11.2.3.61:\n",
            "      Successfully uninstalled nvidia-cufft-cu12-11.2.3.61\n",
            "  Attempting uninstall: nvidia-cuda-runtime-cu12\n",
            "    Found existing installation: nvidia-cuda-runtime-cu12 12.5.82\n",
            "    Uninstalling nvidia-cuda-runtime-cu12-12.5.82:\n",
            "      Successfully uninstalled nvidia-cuda-runtime-cu12-12.5.82\n",
            "  Attempting uninstall: nvidia-cuda-nvrtc-cu12\n",
            "    Found existing installation: nvidia-cuda-nvrtc-cu12 12.5.82\n",
            "    Uninstalling nvidia-cuda-nvrtc-cu12-12.5.82:\n",
            "      Successfully uninstalled nvidia-cuda-nvrtc-cu12-12.5.82\n",
            "  Attempting uninstall: nvidia-cuda-cupti-cu12\n",
            "    Found existing installation: nvidia-cuda-cupti-cu12 12.5.82\n",
            "    Uninstalling nvidia-cuda-cupti-cu12-12.5.82:\n",
            "      Successfully uninstalled nvidia-cuda-cupti-cu12-12.5.82\n",
            "  Attempting uninstall: nvidia-cublas-cu12\n",
            "    Found existing installation: nvidia-cublas-cu12 12.5.3.2\n",
            "    Uninstalling nvidia-cublas-cu12-12.5.3.2:\n",
            "      Successfully uninstalled nvidia-cublas-cu12-12.5.3.2\n",
            "  Attempting uninstall: nvidia-cusparse-cu12\n",
            "    Found existing installation: nvidia-cusparse-cu12 12.5.1.3\n",
            "    Uninstalling nvidia-cusparse-cu12-12.5.1.3:\n",
            "      Successfully uninstalled nvidia-cusparse-cu12-12.5.1.3\n",
            "  Attempting uninstall: nvidia-cudnn-cu12\n",
            "    Found existing installation: nvidia-cudnn-cu12 9.3.0.75\n",
            "    Uninstalling nvidia-cudnn-cu12-9.3.0.75:\n",
            "      Successfully uninstalled nvidia-cudnn-cu12-9.3.0.75\n",
            "  Attempting uninstall: nvidia-cusolver-cu12\n",
            "    Found existing installation: nvidia-cusolver-cu12 11.6.3.83\n",
            "    Uninstalling nvidia-cusolver-cu12-11.6.3.83:\n",
            "      Successfully uninstalled nvidia-cusolver-cu12-11.6.3.83\n",
            "Successfully installed lightning-utilities-0.14.3 nvidia-cublas-cu12-12.4.5.8 nvidia-cuda-cupti-cu12-12.4.127 nvidia-cuda-nvrtc-cu12-12.4.127 nvidia-cuda-runtime-cu12-12.4.127 nvidia-cudnn-cu12-9.1.0.70 nvidia-cufft-cu12-11.2.1.3 nvidia-curand-cu12-10.3.5.147 nvidia-cusolver-cu12-11.6.1.9 nvidia-cusparse-cu12-12.3.1.170 nvidia-nvjitlink-cu12-12.4.127 torchmetrics-1.7.3\n"
          ]
        }
      ]
    },
    {
      "cell_type": "code",
      "execution_count": 12,
      "metadata": {
        "colab": {
          "base_uri": "https://localhost:8080/"
        },
        "id": "qKuuD7vzrdff",
        "outputId": "838b667b-d146-40df-d44a-9d58f592bf63"
      },
      "outputs": [
        {
          "output_type": "stream",
          "name": "stdout",
          "text": [
            "model is on GPU:  True\n"
          ]
        }
      ],
      "source": [
        "# reinstantiate a new model (reset weight etc) and put it on GPU\n",
        "model = ShallowANN(input_dim=8)\n",
        "model.to(device)\n",
        "print('model is on GPU: ',next(model.parameters()).is_cuda)"
      ]
    },
    {
      "cell_type": "code",
      "execution_count": 15,
      "metadata": {
        "id": "asMI2TET1_wS"
      },
      "outputs": [],
      "source": [
        "#loss\n",
        "\n",
        "# NOTE: BCELoss for binary classification\n",
        "#       CrossEntropyLoss for multiclass classification (already includes softmax calculation, output the ANN foward method must be logits)\n",
        "loss_func = nn.BCELoss() #binary cross entropy loss\n",
        "\n",
        "# metrics\n",
        "import torchmetrics\n",
        "from torchmetrics.classification import BinaryAccuracy\n",
        "\n",
        "#metric binary accuracy (hand's made)\n",
        "def my_binary_accuracy(yhat, y):\n",
        "  assert y.ndim == 1 and y.size() == yhat.size()\n",
        "  yhat = yhat > 0.5\n",
        "  return (y == yhat).sum().item() / y.size(0)\n",
        "\n",
        "# NOTE: better to use metrics from torchmetrics:\n",
        "my_metric_func = BinaryAccuracy()\n",
        "my_metric_func.to(device)\n",
        "\n",
        "# optim\n",
        "from torch import optim\n",
        "#opt = optim.SGD(model.parameters(), lr=0.001, momentum=0.9)\n",
        "\n",
        "# alternative\n",
        "\n",
        "opt = optim.Adam(model.parameters(), lr=1e-3)\n",
        "\n",
        "# scheduler for multi step decay lr schedule\n",
        "# Decays the learning rate of each parameter group by gamma once the number of epoch reaches one of the milestones\n",
        "#lr_scheduler = optim.lr_scheduler.MultiStepLR(opt, milestones=[20,40,60], gamma=0.1)"
      ]
    },
    {
      "cell_type": "code",
      "source": [
        "# test implementation on one batch before to train\n",
        "xb,yb = next(iter(dataloader_train))\n",
        "\n",
        "xb=xb.type(torch.float).to(device) #put tensors on device\n",
        "yb=yb.type(torch.float).to(device)\n",
        "\n",
        "# prediction\n",
        "\n",
        "pred = model(xb)\n",
        "print('output shape: ', pred.shape)\n",
        "\n",
        "# loss and metric\n",
        "loss = loss_func(pred, torch.unsqueeze(yb,1))\n",
        "#metric = binary_accuracy(pred, torch.unsqueeze(yb,1))\n",
        "#or also: metric = binary_accuracy(torch.squeeze(pred), yb)\n",
        "metric = my_metric_func(torch.squeeze(pred), yb)\n",
        "mymetric = my_binary_accuracy(torch.squeeze(pred), yb)\n",
        "\n",
        "print('loss: ', loss.item())\n",
        "print('metric: ', metric.item())\n",
        "print('my_metric: ', mymetric)"
      ],
      "metadata": {
        "colab": {
          "base_uri": "https://localhost:8080/"
        },
        "id": "6Aev66vFnbiq",
        "outputId": "977734cf-36af-475a-fb67-b1b3333bef28"
      },
      "execution_count": 14,
      "outputs": [
        {
          "output_type": "stream",
          "name": "stdout",
          "text": [
            "output shape:  torch.Size([32, 1])\n",
            "loss:  0.7033722996711731\n",
            "metric:  0.5\n",
            "my_metric:  0.5\n"
          ]
        }
      ]
    },
    {
      "cell_type": "code",
      "execution_count": 16,
      "metadata": {
        "colab": {
          "base_uri": "https://localhost:8080/"
        },
        "id": "ULR6JSud2M0e",
        "outputId": "5749aec1-4388-4dd7-9247-27e119653092"
      },
      "outputs": [
        {
          "output_type": "stream",
          "name": "stdout",
          "text": [
            "epoch: 1, time(s): 0.8979, train loss: 0.664452, train metric: 0.600938, vali loss: 0.624745, vali metric: 0.785000\n",
            "epoch: 2, time(s): 0.6009, train loss: 0.588684, train metric: 0.756250, vali loss: 0.541916, vali metric: 0.796250\n",
            "epoch: 3, time(s): 0.5969, train loss: 0.519533, train metric: 0.791562, vali loss: 0.482329, vali metric: 0.826250\n",
            "epoch: 4, time(s): 0.5983, train loss: 0.471379, train metric: 0.807031, vali loss: 0.444798, vali metric: 0.833750\n",
            "epoch: 5, time(s): 0.6044, train loss: 0.437252, train metric: 0.817969, vali loss: 0.417653, vali metric: 0.842500\n",
            "epoch: 6, time(s): 0.5826, train loss: 0.413290, train metric: 0.831562, vali loss: 0.402695, vali metric: 0.831250\n",
            "epoch: 7, time(s): 0.5973, train loss: 0.393397, train metric: 0.837969, vali loss: 0.379294, vali metric: 0.847500\n",
            "epoch: 8, time(s): 0.5757, train loss: 0.375183, train metric: 0.847344, vali loss: 0.363090, vali metric: 0.848750\n",
            "epoch: 9, time(s): 0.6097, train loss: 0.357636, train metric: 0.859688, vali loss: 0.344511, vali metric: 0.873750\n",
            "epoch: 10, time(s): 0.5947, train loss: 0.342206, train metric: 0.864688, vali loss: 0.330828, vali metric: 0.863750\n",
            "epoch: 11, time(s): 0.6003, train loss: 0.328189, train metric: 0.870156, vali loss: 0.318414, vali metric: 0.870000\n",
            "epoch: 12, time(s): 0.6084, train loss: 0.314462, train metric: 0.880781, vali loss: 0.302606, vali metric: 0.887500\n",
            "epoch: 13, time(s): 0.6011, train loss: 0.299023, train metric: 0.888750, vali loss: 0.288518, vali metric: 0.890000\n",
            "epoch: 14, time(s): 0.6118, train loss: 0.285714, train metric: 0.893906, vali loss: 0.281185, vali metric: 0.886250\n",
            "epoch: 15, time(s): 0.6053, train loss: 0.273662, train metric: 0.896406, vali loss: 0.272658, vali metric: 0.886250\n",
            "epoch: 16, time(s): 0.6392, train loss: 0.261074, train metric: 0.906250, vali loss: 0.251789, vali metric: 0.908750\n",
            "epoch: 17, time(s): 0.7784, train loss: 0.250093, train metric: 0.911406, vali loss: 0.240295, vali metric: 0.912500\n",
            "epoch: 18, time(s): 0.7295, train loss: 0.237244, train metric: 0.916250, vali loss: 0.227272, vali metric: 0.917500\n",
            "epoch: 19, time(s): 0.7392, train loss: 0.224683, train metric: 0.923281, vali loss: 0.217292, vali metric: 0.925000\n",
            "epoch: 20, time(s): 0.6168, train loss: 0.214061, train metric: 0.926250, vali loss: 0.205571, vali metric: 0.931250\n",
            "epoch: 21, time(s): 0.5872, train loss: 0.203945, train metric: 0.932031, vali loss: 0.195632, vali metric: 0.940000\n",
            "epoch: 22, time(s): 0.6027, train loss: 0.193430, train metric: 0.936250, vali loss: 0.198536, vali metric: 0.945000\n",
            "epoch: 23, time(s): 0.5908, train loss: 0.183016, train metric: 0.943281, vali loss: 0.180949, vali metric: 0.953750\n",
            "epoch: 24, time(s): 0.5957, train loss: 0.174318, train metric: 0.947812, vali loss: 0.168904, vali metric: 0.952500\n",
            "epoch: 25, time(s): 0.6085, train loss: 0.164833, train metric: 0.951406, vali loss: 0.157783, vali metric: 0.958750\n",
            "epoch: 26, time(s): 0.9926, train loss: 0.156140, train metric: 0.954844, vali loss: 0.151888, vali metric: 0.962500\n",
            "epoch: 27, time(s): 0.9421, train loss: 0.152949, train metric: 0.955156, vali loss: 0.145055, vali metric: 0.962500\n",
            "epoch: 28, time(s): 0.9119, train loss: 0.143759, train metric: 0.958594, vali loss: 0.138409, vali metric: 0.966250\n",
            "epoch: 29, time(s): 0.6168, train loss: 0.137501, train metric: 0.960938, vali loss: 0.137164, vali metric: 0.971250\n",
            "epoch: 30, time(s): 0.6076, train loss: 0.132284, train metric: 0.963594, vali loss: 0.131690, vali metric: 0.971250\n",
            "epoch: 31, time(s): 0.5864, train loss: 0.126366, train metric: 0.967656, vali loss: 0.121751, vali metric: 0.975000\n",
            "epoch: 32, time(s): 0.5994, train loss: 0.122084, train metric: 0.967500, vali loss: 0.114679, vali metric: 0.972500\n",
            "epoch: 33, time(s): 0.6020, train loss: 0.115855, train metric: 0.971094, vali loss: 0.111947, vali metric: 0.975000\n",
            "epoch: 34, time(s): 0.6952, train loss: 0.112778, train metric: 0.970625, vali loss: 0.105800, vali metric: 0.973750\n",
            "epoch: 35, time(s): 0.7260, train loss: 0.108244, train metric: 0.972500, vali loss: 0.108682, vali metric: 0.972500\n",
            "epoch: 36, time(s): 0.7833, train loss: 0.105008, train metric: 0.972656, vali loss: 0.101219, vali metric: 0.976250\n",
            "epoch: 37, time(s): 0.6293, train loss: 0.101428, train metric: 0.974531, vali loss: 0.097564, vali metric: 0.976250\n",
            "epoch: 38, time(s): 0.5982, train loss: 0.098416, train metric: 0.976094, vali loss: 0.102141, vali metric: 0.972500\n",
            "epoch: 39, time(s): 0.5880, train loss: 0.096108, train metric: 0.974688, vali loss: 0.090576, vali metric: 0.980000\n",
            "epoch: 40, time(s): 0.5970, train loss: 0.093996, train metric: 0.975469, vali loss: 0.095934, vali metric: 0.978750\n",
            "epoch: 41, time(s): 0.5835, train loss: 0.091833, train metric: 0.975313, vali loss: 0.088561, vali metric: 0.978750\n",
            "epoch: 42, time(s): 0.5937, train loss: 0.089822, train metric: 0.976875, vali loss: 0.091536, vali metric: 0.977500\n",
            "epoch: 43, time(s): 0.5846, train loss: 0.086335, train metric: 0.978125, vali loss: 0.097384, vali metric: 0.968750\n",
            "epoch: 44, time(s): 0.5974, train loss: 0.086398, train metric: 0.975156, vali loss: 0.080808, vali metric: 0.977500\n",
            "epoch: 45, time(s): 0.5884, train loss: 0.084134, train metric: 0.978437, vali loss: 0.079461, vali metric: 0.981250\n",
            "epoch: 46, time(s): 0.5891, train loss: 0.082788, train metric: 0.978437, vali loss: 0.075862, vali metric: 0.977500\n",
            "epoch: 47, time(s): 0.6089, train loss: 0.079755, train metric: 0.977812, vali loss: 0.074564, vali metric: 0.976250\n",
            "epoch: 48, time(s): 0.5886, train loss: 0.079203, train metric: 0.977187, vali loss: 0.076065, vali metric: 0.981250\n",
            "epoch: 49, time(s): 0.5984, train loss: 0.078430, train metric: 0.977969, vali loss: 0.074121, vali metric: 0.978750\n",
            "epoch: 50, time(s): 0.5719, train loss: 0.076112, train metric: 0.980469, vali loss: 0.069830, vali metric: 0.978750\n",
            "epoch: 51, time(s): 0.5928, train loss: 0.074666, train metric: 0.978437, vali loss: 0.068256, vali metric: 0.982500\n",
            "epoch: 52, time(s): 0.5968, train loss: 0.076581, train metric: 0.978594, vali loss: 0.071176, vali metric: 0.981250\n",
            "epoch: 53, time(s): 0.6350, train loss: 0.074474, train metric: 0.979688, vali loss: 0.068798, vali metric: 0.980000\n",
            "epoch: 54, time(s): 0.7567, train loss: 0.072531, train metric: 0.979531, vali loss: 0.069817, vali metric: 0.980000\n",
            "epoch: 55, time(s): 0.7460, train loss: 0.071779, train metric: 0.979844, vali loss: 0.068702, vali metric: 0.981250\n",
            "epoch: 56, time(s): 0.7126, train loss: 0.071205, train metric: 0.979688, vali loss: 0.063660, vali metric: 0.982500\n",
            "epoch: 57, time(s): 0.6022, train loss: 0.070805, train metric: 0.979062, vali loss: 0.068917, vali metric: 0.980000\n",
            "epoch: 58, time(s): 0.5830, train loss: 0.070547, train metric: 0.980313, vali loss: 0.062342, vali metric: 0.981250\n",
            "epoch: 59, time(s): 0.6044, train loss: 0.069294, train metric: 0.977812, vali loss: 0.062031, vali metric: 0.980000\n",
            "epoch: 60, time(s): 0.6031, train loss: 0.068505, train metric: 0.981406, vali loss: 0.068327, vali metric: 0.982500\n",
            "epoch: 61, time(s): 0.5759, train loss: 0.069804, train metric: 0.977187, vali loss: 0.062234, vali metric: 0.980000\n",
            "epoch: 62, time(s): 0.6316, train loss: 0.067966, train metric: 0.980156, vali loss: 0.061685, vali metric: 0.980000\n",
            "epoch: 63, time(s): 0.5935, train loss: 0.065732, train metric: 0.980313, vali loss: 0.060971, vali metric: 0.978750\n",
            "epoch: 64, time(s): 0.5969, train loss: 0.065898, train metric: 0.980938, vali loss: 0.059182, vali metric: 0.981250\n",
            "epoch: 65, time(s): 0.6031, train loss: 0.065099, train metric: 0.981406, vali loss: 0.060494, vali metric: 0.982500\n",
            "epoch: 66, time(s): 0.5829, train loss: 0.065997, train metric: 0.980781, vali loss: 0.058262, vali metric: 0.981250\n",
            "epoch: 67, time(s): 0.6085, train loss: 0.065961, train metric: 0.980313, vali loss: 0.063199, vali metric: 0.981250\n",
            "epoch: 68, time(s): 0.5844, train loss: 0.064273, train metric: 0.980625, vali loss: 0.060949, vali metric: 0.980000\n",
            "epoch: 69, time(s): 0.6012, train loss: 0.063212, train metric: 0.980781, vali loss: 0.058609, vali metric: 0.980000\n",
            "epoch: 70, time(s): 0.5859, train loss: 0.063696, train metric: 0.979375, vali loss: 0.070579, vali metric: 0.976250\n",
            "epoch: 71, time(s): 0.5891, train loss: 0.065679, train metric: 0.976719, vali loss: 0.061704, vali metric: 0.977500\n",
            "epoch: 72, time(s): 0.6071, train loss: 0.064378, train metric: 0.981094, vali loss: 0.057003, vali metric: 0.981250\n",
            "epoch: 73, time(s): 0.7113, train loss: 0.062720, train metric: 0.980156, vali loss: 0.057763, vali metric: 0.982500\n",
            "epoch: 74, time(s): 0.7219, train loss: 0.062396, train metric: 0.980156, vali loss: 0.062122, vali metric: 0.977500\n",
            "epoch: 75, time(s): 0.8037, train loss: 0.061188, train metric: 0.982344, vali loss: 0.057125, vali metric: 0.980000\n",
            "epoch: 76, time(s): 0.5861, train loss: 0.061321, train metric: 0.981719, vali loss: 0.056107, vali metric: 0.981250\n",
            "epoch: 77, time(s): 0.5818, train loss: 0.061160, train metric: 0.980938, vali loss: 0.054350, vali metric: 0.985000\n",
            "epoch: 78, time(s): 0.5885, train loss: 0.060645, train metric: 0.982812, vali loss: 0.059204, vali metric: 0.980000\n",
            "epoch: 79, time(s): 0.5924, train loss: 0.060510, train metric: 0.982031, vali loss: 0.063615, vali metric: 0.973750\n",
            "epoch: 80, time(s): 0.6045, train loss: 0.060047, train metric: 0.980156, vali loss: 0.056185, vali metric: 0.982500\n",
            "epoch: 81, time(s): 0.5927, train loss: 0.059420, train metric: 0.980156, vali loss: 0.053939, vali metric: 0.982500\n",
            "epoch: 82, time(s): 0.5921, train loss: 0.060379, train metric: 0.980469, vali loss: 0.052291, vali metric: 0.982500\n",
            "epoch: 83, time(s): 0.5904, train loss: 0.062753, train metric: 0.979219, vali loss: 0.064986, vali metric: 0.980000\n",
            "epoch: 84, time(s): 0.5890, train loss: 0.059299, train metric: 0.981250, vali loss: 0.054212, vali metric: 0.983750\n",
            "epoch: 85, time(s): 0.5923, train loss: 0.058857, train metric: 0.981250, vali loss: 0.055181, vali metric: 0.978750\n",
            "epoch: 86, time(s): 0.5978, train loss: 0.059378, train metric: 0.979688, vali loss: 0.054636, vali metric: 0.982500\n",
            "epoch: 87, time(s): 0.5799, train loss: 0.058202, train metric: 0.980938, vali loss: 0.053524, vali metric: 0.982500\n",
            "epoch: 88, time(s): 0.5802, train loss: 0.058470, train metric: 0.980781, vali loss: 0.053066, vali metric: 0.982500\n",
            "epoch: 89, time(s): 0.5967, train loss: 0.059096, train metric: 0.980625, vali loss: 0.051803, vali metric: 0.983750\n",
            "epoch: 90, time(s): 0.5913, train loss: 0.060266, train metric: 0.980781, vali loss: 0.056020, vali metric: 0.977500\n",
            "epoch: 91, time(s): 0.5924, train loss: 0.059083, train metric: 0.980781, vali loss: 0.053735, vali metric: 0.980000\n",
            "epoch: 92, time(s): 0.6371, train loss: 0.057814, train metric: 0.981250, vali loss: 0.053608, vali metric: 0.980000\n",
            "epoch: 93, time(s): 0.7537, train loss: 0.057361, train metric: 0.981563, vali loss: 0.052603, vali metric: 0.980000\n",
            "epoch: 94, time(s): 0.7563, train loss: 0.059501, train metric: 0.979375, vali loss: 0.056251, vali metric: 0.978750\n",
            "epoch: 95, time(s): 0.7146, train loss: 0.057097, train metric: 0.981094, vali loss: 0.051923, vali metric: 0.983750\n",
            "epoch: 96, time(s): 0.7893, train loss: 0.057551, train metric: 0.980938, vali loss: 0.050947, vali metric: 0.982500\n",
            "epoch: 97, time(s): 1.2302, train loss: 0.057139, train metric: 0.981563, vali loss: 0.052226, vali metric: 0.982500\n",
            "epoch: 98, time(s): 1.1480, train loss: 0.057209, train metric: 0.980781, vali loss: 0.052250, vali metric: 0.982500\n",
            "epoch: 99, time(s): 1.2936, train loss: 0.056666, train metric: 0.981250, vali loss: 0.050016, vali metric: 0.985000\n",
            "epoch: 100, time(s): 1.0880, train loss: 0.057746, train metric: 0.980313, vali loss: 0.051199, vali metric: 0.982500\n",
            "epoch: 101, time(s): 1.2592, train loss: 0.058084, train metric: 0.981406, vali loss: 0.052257, vali metric: 0.980000\n",
            "epoch: 102, time(s): 1.1275, train loss: 0.056389, train metric: 0.980781, vali loss: 0.054156, vali metric: 0.982500\n",
            "epoch: 103, time(s): 0.5992, train loss: 0.055699, train metric: 0.981563, vali loss: 0.054504, vali metric: 0.977500\n",
            "epoch: 104, time(s): 0.5848, train loss: 0.056914, train metric: 0.981563, vali loss: 0.050242, vali metric: 0.981250\n",
            "epoch: 105, time(s): 0.6625, train loss: 0.055593, train metric: 0.981250, vali loss: 0.053551, vali metric: 0.983750\n",
            "epoch: 106, time(s): 0.7613, train loss: 0.055600, train metric: 0.981719, vali loss: 0.048419, vali metric: 0.985000\n",
            "epoch: 107, time(s): 0.7425, train loss: 0.056765, train metric: 0.981094, vali loss: 0.051487, vali metric: 0.981250\n",
            "epoch: 108, time(s): 0.6994, train loss: 0.056581, train metric: 0.981250, vali loss: 0.051982, vali metric: 0.981250\n",
            "epoch: 109, time(s): 0.5987, train loss: 0.056433, train metric: 0.980781, vali loss: 0.050145, vali metric: 0.985000\n",
            "epoch: 110, time(s): 0.5836, train loss: 0.056838, train metric: 0.981563, vali loss: 0.052328, vali metric: 0.985000\n",
            "epoch: 111, time(s): 0.5980, train loss: 0.055551, train metric: 0.981563, vali loss: 0.053589, vali metric: 0.982500\n",
            "epoch: 112, time(s): 0.5913, train loss: 0.055807, train metric: 0.980781, vali loss: 0.057094, vali metric: 0.982500\n",
            "epoch: 113, time(s): 0.5878, train loss: 0.054695, train metric: 0.981406, vali loss: 0.057088, vali metric: 0.980000\n",
            "epoch: 114, time(s): 0.5968, train loss: 0.057416, train metric: 0.981250, vali loss: 0.058031, vali metric: 0.981250\n",
            "epoch: 115, time(s): 0.5984, train loss: 0.055421, train metric: 0.981094, vali loss: 0.048549, vali metric: 0.981250\n",
            "epoch: 116, time(s): 0.5975, train loss: 0.054600, train metric: 0.980938, vali loss: 0.050701, vali metric: 0.981250\n",
            "epoch: 117, time(s): 0.6000, train loss: 0.054963, train metric: 0.980938, vali loss: 0.050452, vali metric: 0.985000\n",
            "epoch: 118, time(s): 0.5981, train loss: 0.056911, train metric: 0.981250, vali loss: 0.048113, vali metric: 0.985000\n",
            "epoch: 119, time(s): 0.5922, train loss: 0.054931, train metric: 0.981719, vali loss: 0.052207, vali metric: 0.980000\n",
            "epoch: 120, time(s): 0.5955, train loss: 0.055303, train metric: 0.981250, vali loss: 0.049945, vali metric: 0.986250\n",
            "epoch: 121, time(s): 0.5845, train loss: 0.054501, train metric: 0.981406, vali loss: 0.049261, vali metric: 0.982500\n",
            "epoch: 122, time(s): 0.5913, train loss: 0.054922, train metric: 0.980469, vali loss: 0.049485, vali metric: 0.983750\n",
            "epoch: 123, time(s): 0.5913, train loss: 0.054311, train metric: 0.981719, vali loss: 0.051107, vali metric: 0.985000\n",
            "epoch: 124, time(s): 0.5824, train loss: 0.055154, train metric: 0.980625, vali loss: 0.047739, vali metric: 0.987500\n",
            "epoch: 125, time(s): 0.7104, train loss: 0.053174, train metric: 0.981875, vali loss: 0.045733, vali metric: 0.985000\n",
            "epoch: 126, time(s): 0.7142, train loss: 0.055168, train metric: 0.981094, vali loss: 0.047419, vali metric: 0.983750\n",
            "epoch: 127, time(s): 0.7938, train loss: 0.056877, train metric: 0.979062, vali loss: 0.050299, vali metric: 0.986250\n",
            "epoch: 128, time(s): 0.5855, train loss: 0.058238, train metric: 0.978906, vali loss: 0.058388, vali metric: 0.982500\n",
            "epoch: 129, time(s): 0.5798, train loss: 0.053275, train metric: 0.980938, vali loss: 0.047017, vali metric: 0.982500\n",
            "epoch: 130, time(s): 0.5970, train loss: 0.052995, train metric: 0.982031, vali loss: 0.051176, vali metric: 0.985000\n",
            "epoch: 131, time(s): 0.5806, train loss: 0.052928, train metric: 0.981875, vali loss: 0.049350, vali metric: 0.982500\n",
            "epoch: 132, time(s): 0.5914, train loss: 0.054209, train metric: 0.982031, vali loss: 0.049967, vali metric: 0.981250\n",
            "epoch: 133, time(s): 0.5945, train loss: 0.052945, train metric: 0.981406, vali loss: 0.046783, vali metric: 0.985000\n",
            "epoch: 134, time(s): 0.5737, train loss: 0.054641, train metric: 0.981094, vali loss: 0.051949, vali metric: 0.983750\n",
            "epoch: 135, time(s): 0.5942, train loss: 0.055636, train metric: 0.980938, vali loss: 0.047964, vali metric: 0.980000\n",
            "epoch: 136, time(s): 0.5788, train loss: 0.054394, train metric: 0.981875, vali loss: 0.059036, vali metric: 0.982500\n",
            "epoch: 137, time(s): 0.6168, train loss: 0.054843, train metric: 0.980625, vali loss: 0.047280, vali metric: 0.985000\n",
            "epoch: 138, time(s): 0.5815, train loss: 0.053504, train metric: 0.981094, vali loss: 0.052404, vali metric: 0.983750\n",
            "epoch: 139, time(s): 0.5819, train loss: 0.054392, train metric: 0.981250, vali loss: 0.046741, vali metric: 0.985000\n",
            "epoch: 140, time(s): 0.5957, train loss: 0.052471, train metric: 0.982812, vali loss: 0.045545, vali metric: 0.986250\n",
            "epoch: 141, time(s): 0.5826, train loss: 0.054063, train metric: 0.981719, vali loss: 0.047624, vali metric: 0.983750\n",
            "epoch: 142, time(s): 0.6022, train loss: 0.053348, train metric: 0.982344, vali loss: 0.052786, vali metric: 0.978750\n",
            "epoch: 143, time(s): 0.5844, train loss: 0.056091, train metric: 0.980781, vali loss: 0.045762, vali metric: 0.985000\n",
            "epoch: 144, time(s): 0.6498, train loss: 0.053420, train metric: 0.981094, vali loss: 0.047671, vali metric: 0.983750\n",
            "epoch: 145, time(s): 0.7540, train loss: 0.053347, train metric: 0.982344, vali loss: 0.046365, vali metric: 0.983750\n",
            "epoch: 146, time(s): 0.7359, train loss: 0.055106, train metric: 0.981094, vali loss: 0.051161, vali metric: 0.983750\n",
            "epoch: 147, time(s): 0.7094, train loss: 0.053736, train metric: 0.981563, vali loss: 0.045484, vali metric: 0.983750\n",
            "epoch: 148, time(s): 0.5949, train loss: 0.054907, train metric: 0.981719, vali loss: 0.045691, vali metric: 0.983750\n",
            "epoch: 149, time(s): 0.5818, train loss: 0.052290, train metric: 0.981563, vali loss: 0.045561, vali metric: 0.986250\n",
            "epoch: 150, time(s): 0.6040, train loss: 0.053831, train metric: 0.980781, vali loss: 0.046619, vali metric: 0.988750\n",
            "epoch: 151, time(s): 0.5853, train loss: 0.055392, train metric: 0.980000, vali loss: 0.048298, vali metric: 0.982500\n",
            "epoch: 152, time(s): 0.5902, train loss: 0.053988, train metric: 0.981406, vali loss: 0.063927, vali metric: 0.972500\n",
            "epoch: 153, time(s): 0.5881, train loss: 0.054916, train metric: 0.980625, vali loss: 0.046142, vali metric: 0.982500\n",
            "epoch: 154, time(s): 0.6116, train loss: 0.052857, train metric: 0.981719, vali loss: 0.055889, vali metric: 0.981250\n",
            "epoch: 155, time(s): 0.5830, train loss: 0.054775, train metric: 0.982500, vali loss: 0.069328, vali metric: 0.977500\n",
            "epoch: 156, time(s): 0.5810, train loss: 0.055203, train metric: 0.980781, vali loss: 0.050475, vali metric: 0.982500\n",
            "epoch: 157, time(s): 0.5978, train loss: 0.052212, train metric: 0.982031, vali loss: 0.046335, vali metric: 0.985000\n",
            "epoch: 158, time(s): 0.6594, train loss: 0.053180, train metric: 0.981406, vali loss: 0.046199, vali metric: 0.982500\n",
            "epoch: 159, time(s): 1.3256, train loss: 0.053646, train metric: 0.981250, vali loss: 0.047194, vali metric: 0.983750\n",
            "epoch: 160, time(s): 1.0650, train loss: 0.053865, train metric: 0.981406, vali loss: 0.049612, vali metric: 0.982500\n",
            "epoch: 161, time(s): 0.7777, train loss: 0.053690, train metric: 0.981563, vali loss: 0.053550, vali metric: 0.981250\n",
            "epoch: 162, time(s): 0.7645, train loss: 0.053496, train metric: 0.981875, vali loss: 0.055072, vali metric: 0.983750\n",
            "epoch: 163, time(s): 0.7470, train loss: 0.052816, train metric: 0.980625, vali loss: 0.058546, vali metric: 0.975000\n",
            "epoch: 164, time(s): 0.7407, train loss: 0.055042, train metric: 0.980781, vali loss: 0.051705, vali metric: 0.983750\n",
            "epoch: 165, time(s): 0.5930, train loss: 0.052230, train metric: 0.982500, vali loss: 0.048434, vali metric: 0.982500\n",
            "epoch: 166, time(s): 0.6006, train loss: 0.053677, train metric: 0.980469, vali loss: 0.050917, vali metric: 0.980000\n",
            "epoch: 167, time(s): 0.5814, train loss: 0.051747, train metric: 0.981875, vali loss: 0.045995, vali metric: 0.986250\n",
            "epoch: 168, time(s): 0.6028, train loss: 0.052118, train metric: 0.981406, vali loss: 0.046727, vali metric: 0.981250\n",
            "epoch: 169, time(s): 0.5912, train loss: 0.053115, train metric: 0.980781, vali loss: 0.046055, vali metric: 0.982500\n",
            "epoch: 170, time(s): 0.5875, train loss: 0.052837, train metric: 0.981719, vali loss: 0.045357, vali metric: 0.987500\n",
            "epoch: 171, time(s): 0.5841, train loss: 0.051352, train metric: 0.982500, vali loss: 0.045589, vali metric: 0.983750\n",
            "epoch: 172, time(s): 0.5842, train loss: 0.052226, train metric: 0.982344, vali loss: 0.045128, vali metric: 0.983750\n",
            "epoch: 173, time(s): 0.5939, train loss: 0.056909, train metric: 0.979375, vali loss: 0.048132, vali metric: 0.980000\n",
            "epoch: 174, time(s): 0.5814, train loss: 0.053022, train metric: 0.982031, vali loss: 0.046010, vali metric: 0.985000\n",
            "epoch: 175, time(s): 0.6016, train loss: 0.052431, train metric: 0.979531, vali loss: 0.046217, vali metric: 0.985000\n",
            "epoch: 176, time(s): 0.5789, train loss: 0.050628, train metric: 0.981563, vali loss: 0.052811, vali metric: 0.981250\n",
            "epoch: 177, time(s): 0.5988, train loss: 0.052208, train metric: 0.982812, vali loss: 0.045842, vali metric: 0.981250\n",
            "epoch: 178, time(s): 0.5983, train loss: 0.052378, train metric: 0.982969, vali loss: 0.054906, vali metric: 0.982500\n",
            "epoch: 179, time(s): 0.5842, train loss: 0.053403, train metric: 0.981094, vali loss: 0.071299, vali metric: 0.971250\n",
            "epoch: 180, time(s): 0.5977, train loss: 0.054487, train metric: 0.980938, vali loss: 0.044001, vali metric: 0.982500\n",
            "epoch: 181, time(s): 0.6995, train loss: 0.053651, train metric: 0.981406, vali loss: 0.047334, vali metric: 0.982500\n",
            "epoch: 182, time(s): 0.7354, train loss: 0.052374, train metric: 0.981719, vali loss: 0.057954, vali metric: 0.981250\n",
            "epoch: 183, time(s): 0.8134, train loss: 0.053024, train metric: 0.982031, vali loss: 0.048213, vali metric: 0.985000\n",
            "epoch: 184, time(s): 0.5757, train loss: 0.052305, train metric: 0.981406, vali loss: 0.043368, vali metric: 0.983750\n",
            "epoch: 185, time(s): 0.5845, train loss: 0.051669, train metric: 0.982187, vali loss: 0.046837, vali metric: 0.986250\n",
            "epoch: 186, time(s): 0.5853, train loss: 0.050663, train metric: 0.982031, vali loss: 0.053313, vali metric: 0.982500\n",
            "epoch: 187, time(s): 0.5972, train loss: 0.053387, train metric: 0.981250, vali loss: 0.046576, vali metric: 0.982500\n",
            "epoch: 188, time(s): 0.5957, train loss: 0.054362, train metric: 0.980156, vali loss: 0.044971, vali metric: 0.982500\n",
            "epoch: 189, time(s): 0.5939, train loss: 0.053020, train metric: 0.981875, vali loss: 0.047289, vali metric: 0.983750\n",
            "epoch: 190, time(s): 0.5944, train loss: 0.052430, train metric: 0.982969, vali loss: 0.049995, vali metric: 0.980000\n",
            "epoch: 191, time(s): 0.5890, train loss: 0.052882, train metric: 0.981094, vali loss: 0.044240, vali metric: 0.983750\n",
            "epoch: 192, time(s): 0.6002, train loss: 0.052708, train metric: 0.981719, vali loss: 0.052480, vali metric: 0.985000\n",
            "epoch: 193, time(s): 0.5887, train loss: 0.052577, train metric: 0.980469, vali loss: 0.054032, vali metric: 0.980000\n",
            "epoch: 194, time(s): 0.5889, train loss: 0.053868, train metric: 0.980313, vali loss: 0.043363, vali metric: 0.985000\n",
            "epoch: 195, time(s): 0.5824, train loss: 0.054311, train metric: 0.981719, vali loss: 0.046899, vali metric: 0.983750\n",
            "epoch: 196, time(s): 0.5831, train loss: 0.051664, train metric: 0.980625, vali loss: 0.045514, vali metric: 0.982500\n",
            "epoch: 197, time(s): 0.5804, train loss: 0.051972, train metric: 0.981094, vali loss: 0.047266, vali metric: 0.985000\n",
            "epoch: 198, time(s): 0.5976, train loss: 0.051928, train metric: 0.981250, vali loss: 0.046721, vali metric: 0.982500\n",
            "epoch: 199, time(s): 0.6005, train loss: 0.054877, train metric: 0.980313, vali loss: 0.048966, vali metric: 0.980000\n",
            "epoch: 200, time(s): 0.6192, train loss: 0.052054, train metric: 0.981875, vali loss: 0.046705, vali metric: 0.982500\n"
          ]
        }
      ],
      "source": [
        "#training loop (in pytorch you need to write yourself it (alternatively use PyTorch Lightning for more keras-like APIs))\n",
        "import time\n",
        "epochs = 200\n",
        "\n",
        "# define a couple of lists to store loss and accuracy during training for monitorin purposes\n",
        "hist_loss = []\n",
        "hist_metric = []\n",
        "hist_val_loss = []\n",
        "hist_val_metric = []\n",
        "\n",
        "# loop over epochs\n",
        "for epoch in range(epochs):\n",
        "    t0 = time.time()\n",
        "\n",
        "    #training step\n",
        "    model.train() #important!\n",
        "    train_loss = 0.0\n",
        "    train_metric = 0.0\n",
        "    counter = 0\n",
        "    for xb, yb in dataloader_train: #loop over minibatches\n",
        "        counter += 1\n",
        "        xb=xb.type(torch.float).to(device)\n",
        "        yb=yb.type(torch.float).to(device)\n",
        "        pred = model(xb)\n",
        "        loss = loss_func(pred, torch.unsqueeze(yb,1))\n",
        "        metric = my_metric_func(pred, torch.unsqueeze(yb,1))\n",
        "        train_loss += loss.item()\n",
        "        train_metric += metric.item()\n",
        "\n",
        "        # backpropagation\n",
        "        loss.backward()\n",
        "        opt.step()\n",
        "        opt.zero_grad()\n",
        "\n",
        "    train_loss = train_loss/counter\n",
        "    train_metric = train_metric/counter\n",
        "\n",
        "    hist_loss.append(train_loss)\n",
        "    hist_metric.append(train_metric)\n",
        "\n",
        "    # validation step\n",
        "    model.eval() #important!\n",
        "    vali_loss = 0.0\n",
        "    vali_metric = 0.0\n",
        "    counter = 0\n",
        "    with torch.no_grad():\n",
        "      for xb, yb in dataloader_vali:\n",
        "        counter += 1\n",
        "        xb=xb.type(torch.float).to(device)\n",
        "        yb=yb.type(torch.float).to(device)\n",
        "        pred = model(xb)\n",
        "        vloss = loss_func(pred, torch.unsqueeze(yb,1))\n",
        "        vmetric = my_metric_func(pred, torch.unsqueeze(yb,1))\n",
        "        vali_loss += vloss.item()\n",
        "        vali_metric += vmetric.item()\n",
        "\n",
        "    vali_loss = vali_loss/counter\n",
        "    vali_metric = vali_metric/counter\n",
        "\n",
        "    hist_val_loss.append(vali_loss)\n",
        "    hist_val_metric.append(vali_metric)\n",
        "\n",
        "    elapsed_time = time.time()-t0\n",
        "    #current_lr = lr_scheduler.get_last_lr()[0]\n",
        "    #print(\"epoch: %d, time(s): %.4f, train loss: %.6f, train metric: %.6f, vali loss: %.6f, vali metric: %.6f, lr : %1.2e\"\n",
        "    #      % (epoch+1, elapsed_time, train_loss, train_metric, vali_loss, vali_metric, current_lr))\n",
        "    print(\"epoch: %d, time(s): %.4f, train loss: %.6f, train metric: %.6f, vali loss: %.6f, vali metric: %.6f\"\n",
        "          % (epoch+1, elapsed_time, train_loss, train_metric, vali_loss, vali_metric))\n",
        "\n",
        "    # update learning rate schedule\n",
        "    #lr_scheduler.step()"
      ]
    },
    {
      "cell_type": "code",
      "execution_count": 17,
      "metadata": {
        "id": "FZyfz3ZsX5Br",
        "colab": {
          "base_uri": "https://localhost:8080/",
          "height": 637
        },
        "outputId": "55795748-4120-4575-d8cd-57648730cf6d"
      },
      "outputs": [
        {
          "output_type": "execute_result",
          "data": {
            "text/plain": [
              "<matplotlib.legend.Legend at 0x7dcc110b8b50>"
            ]
          },
          "metadata": {},
          "execution_count": 17
        },
        {
          "output_type": "display_data",
          "data": {
            "text/plain": [
              "<Figure size 1000x700 with 2 Axes>"
            ],
            "image/png": "[encoded data removed]"
          },
          "metadata": {}
        }
      ],
      "source": [
        "# plot training results (loss and accuracy vs epoch)\n",
        "plt.figure(figsize=(10, 7))\n",
        "plt.subplot(1,2,1)\n",
        "plt.plot(range(1,len(hist_loss)+1), hist_loss, color='green', linestyle='-', label='train loss')\n",
        "plt.plot(range(1,len(hist_val_loss)+1), hist_val_loss, color='blue', linestyle='-', label='validation loss')\n",
        "plt.xlabel('Epochs')\n",
        "plt.ylabel('Loss')\n",
        "plt.ylim(ymin = 0.0)\n",
        "plt.legend()\n",
        "plt.subplot(1,2,2)\n",
        "plt.plot(range(1,len(hist_metric)+1), hist_metric,  color='green', linestyle='-', label='train metric')\n",
        "plt.plot(range(1,len(hist_val_metric)+1),hist_val_metric, color='blue', linestyle='-', label='validation metric')\n",
        "plt.xlabel('Epochs')\n",
        "plt.ylabel('Accuracy')\n",
        "plt.ylim(ymin = 0.0)\n",
        "plt.legend()"
      ]
    },
    {
      "cell_type": "code",
      "execution_count": 18,
      "metadata": {
        "id": "Mw_C3GGq2QHa"
      },
      "outputs": [],
      "source": [
        "#test the trained model\n",
        "\n",
        "# let's test it on cpu\n",
        "model.to(torch.device(\"cpu\"))\n",
        "\n",
        "X_test_pt = X_test_pt.type(torch.float).to(torch.device(\"cpu\"))\n",
        "res = model(X_test_pt)"
      ]
    },
    {
      "cell_type": "code",
      "execution_count": 19,
      "metadata": {
        "colab": {
          "base_uri": "https://localhost:8080/"
        },
        "id": "l829A8uyuRJd",
        "outputId": "4217388a-b922-4051-c421-dd233cae87f9"
      },
      "outputs": [
        {
          "output_type": "stream",
          "name": "stdout",
          "text": [
            "Test accuracy:  0.9887499809265137\n"
          ]
        }
      ],
      "source": [
        "print('Test accuracy: ',my_metric_func(res, torch.unsqueeze(Y_test_pt,1)).item())"
      ]
    }
  ],
  "metadata": {
    "colab": {
      "provenance": [],
      "include_colab_link": true
    },
    "kernelspec": {
      "display_name": "default:Python",
      "language": "python",
      "name": "conda-env-default-py"
    },
    "language_info": {
      "codemirror_mode": {
        "name": "ipython",
        "version": 3
      },
      "file_extension": ".py",
      "mimetype": "text/x-python",
      "name": "python",
      "nbconvert_exporter": "python",
      "pygments_lexer": "ipython3",
      "version": "3.9.7"
    },
    "accelerator": "GPU",
    "gpuClass": "standard"
  },
  "nbformat": 4,
  "nbformat_minor": 0
}