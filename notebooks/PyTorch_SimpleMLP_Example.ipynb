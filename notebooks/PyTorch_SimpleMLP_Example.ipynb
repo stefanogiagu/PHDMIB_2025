{
  "cells": [
    {
      "cell_type": "markdown",
      "metadata": {
        "id": "view-in-github",
        "colab_type": "text"
      },
      "source": [
        "<a href=\"https://colab.research.google.com/github/stefanogiagu/PHDMIB_2025/blob/main/notebooks/PyTorch_SimpleMLP_Example.ipynb\" target=\"_parent\"><img src=\"https://colab.research.google.com/assets/colab-badge.svg\" alt=\"Open In Colab\"/></a>"
      ]
    },
    {
      "cell_type": "code",
      "execution_count": 1,
      "metadata": {
        "id": "q_cd7xkhhQo6"
      },
      "outputs": [],
      "source": [
        "# Implementation of a basic pytorch MLP shallow architecture to illustrate\n",
        "# a tipical DL pipeline implemented in pytorch\n",
        "#\n",
        "# Stefano Giagu - v1.2 - 16.6.2025"
      ]
    },
    {
      "cell_type": "code",
      "execution_count": 2,
      "metadata": {
        "id": "F6cJhPLThtRq"
      },
      "outputs": [],
      "source": [
        "import numpy as np\n",
        "import matplotlib.pyplot as plt\n",
        "from scipy.stats import norm"
      ]
    },
    {
      "cell_type": "code",
      "execution_count": 3,
      "metadata": {
        "colab": {
          "base_uri": "https://localhost:8080/"
        },
        "id": "V3rnBiO-nwPM",
        "outputId": "30ab782d-6577-4436-99fc-53de1ec66382"
      },
      "outputs": [
        {
          "output_type": "stream",
          "name": "stdout",
          "text": [
            "2.6.0+cu124\n",
            "0.21.0+cu124\n"
          ]
        }
      ],
      "source": [
        "import torch\n",
        "import torchvision\n",
        "\n",
        "print(torch.__version__)\n",
        "print(torchvision.__version__)"
      ]
    },
    {
      "cell_type": "code",
      "execution_count": 4,
      "metadata": {
        "colab": {
          "base_uri": "https://localhost:8080/"
        },
        "id": "ZL2plVoan5H6",
        "outputId": "8c78f183-4c34-4677-be59-37d863c195ef"
      },
      "outputs": [
        {
          "output_type": "stream",
          "name": "stdout",
          "text": [
            "number fo devices:  1\n",
            "Tesla T4\n",
            "Sun Jun 15 13:25:05 2025       \n",
            "+-----------------------------------------------------------------------------------------+\n",
            "| NVIDIA-SMI 550.54.15              Driver Version: 550.54.15      CUDA Version: 12.4     |\n",
            "|-----------------------------------------+------------------------+----------------------+\n",
            "| GPU  Name                 Persistence-M | Bus-Id          Disp.A | Volatile Uncorr. ECC |\n",
            "| Fan  Temp   Perf          Pwr:Usage/Cap |           Memory-Usage | GPU-Util  Compute M. |\n",
            "|                                         |                        |               MIG M. |\n",
            "|=========================================+========================+======================|\n",
            "|   0  Tesla T4                       Off |   00000000:00:04.0 Off |                    0 |\n",
            "| N/A   49C    P8             12W /   70W |       2MiB /  15360MiB |      0%      Default |\n",
            "|                                         |                        |                  N/A |\n",
            "+-----------------------------------------+------------------------+----------------------+\n",
            "                                                                                         \n",
            "+-----------------------------------------------------------------------------------------+\n",
            "| Processes:                                                                              |\n",
            "|  GPU   GI   CI        PID   Type   Process name                              GPU Memory |\n",
            "|        ID   ID                                                               Usage      |\n",
            "|=========================================================================================|\n",
            "|  No running processes found                                                             |\n",
            "+-----------------------------------------------------------------------------------------+\n",
            "Computation device: cuda\n",
            "\n"
          ]
        }
      ],
      "source": [
        "# in torch/pytorch data and models need to be moved in the specific processing unit\n",
        "# this code snippet allows to set the variable \"device\" according to available resoirce (cpu or cuda gpu)\n",
        "\n",
        "if torch.cuda.is_available():\n",
        "  print('number fo devices: ', torch.cuda.device_count())\n",
        "  print(torch.cuda.get_device_name(0))\n",
        "  !nvidia-smi\n",
        "device = ('cuda' if torch.cuda.is_available() else 'cpu')\n",
        "print(f\"Computation device: {device}\\n\")"
      ]
    },
    {
      "cell_type": "code",
      "execution_count": 7,
      "metadata": {
        "colab": {
          "base_uri": "https://localhost:8080/"
        },
        "id": "1F3TrSrLuRJW",
        "outputId": "662a0e4f-30ae-405b-fbf2-dd0a831eb65e"
      },
      "outputs": [
        {
          "output_type": "stream",
          "name": "stdout",
          "text": [
            "(2560, 8)\n",
            "(2560,)\n",
            "(640, 8)\n",
            "(640,)\n",
            "(800, 8)\n",
            "(800,)\n"
          ]
        }
      ],
      "source": [
        "# Dataset: in this simple example, we'll produce a toy dataset generated using\n",
        "# numpy\n",
        "#\n",
        "# two class problem, with 8 uncorrelated features, gaussian distributed with different\n",
        "# means and variance among features and classes\n",
        "\n",
        "meanS = [-4.,-3.,-2.,-1.,1.,2.,3.,4.]\n",
        "meanB = [-4.5,-3.5,-2.5,-1.5,1.5,2.5,3.5,4.5]\n",
        "features_S = np.random.normal(loc=meanS, scale=np.random.uniform(0.2,0.7,size=(8)), size=(2000,8))\n",
        "features_B = np.random.normal(loc=meanB, scale=np.random.uniform(0.2,0.7,size=(8)), size=(2000,8))\n",
        "labels_S = np.zeros(shape=(2000))\n",
        "labels_B = np.ones(shape=(2000))\n",
        "\n",
        "X = np.concatenate((features_S, features_B), axis=0)\n",
        "Y = np.concatenate((labels_S, labels_B), axis=0)\n",
        "\n",
        "# divide the dataset in train and test\n",
        "from sklearn.model_selection import train_test_split\n",
        "\n",
        "X_train, X_test, Y_train, Y_test = train_test_split(X, Y, test_size=0.2, random_state=12345)\n",
        "X_train, X_vali, Y_train, Y_vali = train_test_split(X_train, Y_train, test_size=0.2, random_state=456789)\n",
        "print(X_train.shape)\n",
        "print(Y_train.shape)\n",
        "print(X_vali.shape)\n",
        "print(Y_vali.shape)\n",
        "print(X_test.shape)\n",
        "print(Y_test.shape)"
      ]
    },
    {
      "cell_type": "code",
      "source": [
        "# plot variables\n",
        "\n",
        "sel_S = tuple([Y_train<0.5])\n",
        "sel_B = tuple([Y_train>0.5])\n",
        "\n",
        "for idx in range(8):\n",
        "  plt.subplot(2,4,idx+1)\n",
        "  minr = min(meanS[idx],meanB[idx])\n",
        "  maxr = max(meanS[idx],meanB[idx])\n",
        "  plt.hist((X_train[sel_S])[:,idx], bins=50, range=[minr-1.4,maxr+1.4], alpha=0.5, log=True, density=True)\n",
        "  plt.hist((X_train[sel_B])[:,idx], bins=50, range=[minr-1.4,maxr+1.4], alpha=0.5, log=True, density=True)\n",
        "plt.tight_layout()"
      ],
      "metadata": {
        "colab": {
          "base_uri": "https://localhost:8080/",
          "height": 487
        },
        "id": "qHpIRa6SmFQO",
        "outputId": "4c22d694-4a17-4a59-a67d-5759aa6a4355"
      },
      "execution_count": 10,
      "outputs": [
        {
          "output_type": "display_data",
          "data": {
            "text/plain": [
              "<Figure size 640x480 with 8 Axes>"
            ],
            "image/png": "[encoded data removed]"
          },
          "metadata": {}
        }
      ]
    },
    {
      "cell_type": "code",
      "execution_count": 11,
      "metadata": {
        "colab": {
          "base_uri": "https://localhost:8080/"
        },
        "id": "u1Lymch5XTw8",
        "outputId": "4dd7d251-0f7d-4516-fac1-bb7bd36f77b6"
      },
      "outputs": [
        {
          "output_type": "stream",
          "name": "stdout",
          "text": [
            "torch.Size([2560, 8])\n",
            "torch.Size([2560])\n",
            "torch.Size([640, 8])\n",
            "torch.Size([640])\n",
            "torch.Size([800, 8])\n",
            "torch.Size([800])\n"
          ]
        }
      ],
      "source": [
        "# transform the numpy arrays to torch tensors (pytorch works with torch tensors)\n",
        "\n",
        "X_train_pt = torch.Tensor(X_train).float()\n",
        "Y_train_pt = torch.Tensor(Y_train).float()\n",
        "X_vali_pt = torch.Tensor(X_vali).float()\n",
        "Y_vali_pt = torch.Tensor(Y_vali).float()\n",
        "X_test_pt = torch.Tensor(X_test).float()\n",
        "Y_test_pt = torch.Tensor(Y_test).float()\n",
        "\n",
        "print(X_train_pt.shape)\n",
        "print(Y_train_pt.shape)\n",
        "print(X_vali_pt.shape)\n",
        "print(Y_vali_pt.shape)\n",
        "print(X_test_pt.shape)\n",
        "print(Y_test_pt.shape)\n",
        "\n",
        "# create a pytorch dataset and a pytroch dataloader (a python iterable that allows to iterate among sample's events\n",
        "# mini-batch it, reshuffle at every epoch, etc...)\n",
        "from torch.utils.data import TensorDataset, DataLoader\n",
        "\n",
        "dataset_train = TensorDataset(X_train_pt, Y_train_pt)\n",
        "dataloader_train = DataLoader(dataset_train, batch_size=32, shuffle=True)\n",
        "\n",
        "dataset_vali = TensorDataset(X_vali_pt, Y_vali_pt)\n",
        "dataloader_vali = DataLoader(dataset_vali, batch_size=32, shuffle=True)"
      ]
    },
    {
      "cell_type": "code",
      "source": [
        "# note: move torch tensors between cpu and gpu\n",
        "\n",
        "print('X_train_pt is in GPU: ', X_train_pt.is_cuda)\n",
        "X_train_pt = X_train_pt.to(device)\n",
        "print('X_train_pt is in GPU: ', X_train_pt.is_cuda)\n",
        "X_train_pt = X_train_pt.to('cpu')\n",
        "print('X_train_pt is in GPU: ', X_train_pt.is_cuda)\n",
        "\n",
        "\n",
        "# alteranative way (earlier torch style)\n",
        "# use .cuda() e .cpu()\n",
        "print('X_train_pt is in GPU: ', X_train_pt.cpu())\n",
        "print('X_train_pt is in GPU: ', X_train_pt.cuda())"
      ],
      "metadata": {
        "colab": {
          "base_uri": "https://localhost:8080/"
        },
        "id": "eL6Lhlndh3Ee",
        "outputId": "8883d8bc-8cb9-4eff-d58e-d6d8018631c5"
      },
      "execution_count": 12,
      "outputs": [
        {
          "output_type": "stream",
          "name": "stdout",
          "text": [
            "X_train_pt is in GPU:  False\n",
            "X_train_pt is in GPU:  True\n",
            "X_train_pt is in GPU:  False\n",
            "X_train_pt is in GPU:  tensor([[-4.0643, -3.0267, -1.6686,  ...,  2.1929,  2.7659,  4.5127],\n",
            "        [-3.7976, -3.2264, -1.8369,  ...,  1.6951,  3.2132,  3.4439],\n",
            "        [-4.5065, -3.9140, -2.5733,  ...,  2.2141,  3.5066,  4.8928],\n",
            "        ...,\n",
            "        [-3.4082, -3.4551, -2.0510,  ...,  1.4562,  2.6668,  3.5020],\n",
            "        [-3.9394, -2.8969, -2.1162,  ...,  2.0158,  2.6434,  4.0299],\n",
            "        [-4.0803, -3.2166, -3.1112,  ...,  1.9629,  3.7672,  4.2924]])\n",
            "X_train_pt is in GPU:  tensor([[-4.0643, -3.0267, -1.6686,  ...,  2.1929,  2.7659,  4.5127],\n",
            "        [-3.7976, -3.2264, -1.8369,  ...,  1.6951,  3.2132,  3.4439],\n",
            "        [-4.5065, -3.9140, -2.5733,  ...,  2.2141,  3.5066,  4.8928],\n",
            "        ...,\n",
            "        [-3.4082, -3.4551, -2.0510,  ...,  1.4562,  2.6668,  3.5020],\n",
            "        [-3.9394, -2.8969, -2.1162,  ...,  2.0158,  2.6434,  4.0299],\n",
            "        [-4.0803, -3.2166, -3.1112,  ...,  1.9629,  3.7672,  4.2924]],\n",
            "       device='cuda:0')\n"
          ]
        }
      ]
    },
    {
      "cell_type": "code",
      "source": [
        "# example of iteration through the dataloader\n",
        "\n",
        "train_features, train_labels = next(iter(dataloader_train))\n",
        "\n",
        "print(f\"Feature batch shape: {train_features.size()}\")\n",
        "print(f\"Labels batch shape: {train_labels.size()}\")\n",
        "\n",
        "an_event = train_features[0].squeeze()\n",
        "a_label = train_labels[0]\n",
        "\n",
        "print(f\"Feature: {an_event}\")\n",
        "print(f\"Label: {a_label}\")"
      ],
      "metadata": {
        "colab": {
          "base_uri": "https://localhost:8080/"
        },
        "id": "hzLJyiBNvZVg",
        "outputId": "f9eede6c-093b-4ac9-d88a-ff43cac49f5f"
      },
      "execution_count": 13,
      "outputs": [
        {
          "output_type": "stream",
          "name": "stdout",
          "text": [
            "Feature batch shape: torch.Size([32, 8])\n",
            "Labels batch shape: torch.Size([32])\n",
            "Feature: tensor([-4.8205, -3.9960, -2.9822, -1.2585,  1.4821,  2.4931,  3.4497,  3.5710])\n",
            "Label: 1.0\n"
          ]
        }
      ]
    },
    {
      "cell_type": "code",
      "execution_count": 14,
      "metadata": {
        "id": "At2pTSb5uJ0O"
      },
      "outputs": [],
      "source": [
        "# a pytorch nn model: it is just a python class inheriting from nn.Module that defines\n",
        "# the layers and activations used in the DNN model and a forward(x) method that defines\n",
        "# how the model act on an input example x\n",
        "\n",
        "from torch import nn\n",
        "import torch.nn.functional as F\n",
        "\n",
        "# as a basic example let'd define a shallow ANN with a dense layer with 20 neurons\n",
        "class ShallowANN(nn.Module):\n",
        "  def __init__(self, input_dim):\n",
        "    super(ShallowANN, self).__init__()\n",
        "\n",
        "    #torch.nn.Linear(in_features, out_features, bias=True, device=None, dtype=None)\n",
        "    #Linear in pytorch is the equivalent of Dense in keras\n",
        "    self.layer1 = nn.Linear(input_dim, 20)\n",
        "    self.activ1 = nn.ReLU()\n",
        "    self.layer2 = nn.Linear(20, 1)\n",
        "    self.activ2 = nn.Sigmoid()\n",
        "\n",
        "  def forward(self, x):\n",
        "    out = self.layer1(x)\n",
        "    out = self.activ1(out)\n",
        "    out = self.layer2(out) #alternatively the two statements can be replaced\n",
        "    out = self.activ2(out) #out = torch.sigmoid(self.layer2(out))\n",
        "    return out\n",
        "\n",
        "# note: it is strightfoward to modify the class to implement a MLP\n",
        "\n",
        "# example MLP: with 3 hidden layers\n",
        "\n",
        "class MyMLP(nn.Module):\n",
        "  def __init__(self):\n",
        "    super(MyMLP, self).__init__()\n",
        "\n",
        "    self.layer1 = nn.Linear(8, 20)\n",
        "    self.activ1 = nn.ReLU()\n",
        "    self.layer2 = nn.Linear(20, 50)\n",
        "    self.activ2 = nn.ReLU()\n",
        "    self.layer3 = nn.Linear(50, 100)\n",
        "    self.activ3 = nn.ReLU()\n",
        "    self.layer4 = nn.Linear(100, 1)\n",
        "    self.activ4 = nn.Sigmoid()\n",
        "\n",
        "  def forward(self, x):\n",
        "    out = self.layer1(x)\n",
        "    out = self.activ1(out)\n",
        "    out = self.layer2(out)\n",
        "    out = self.activ2(out)\n",
        "    out = self.layer3(out)\n",
        "    out = self.activ3(out)\n",
        "    out = self.layer4(out)\n",
        "    out = self.activ4(out)\n",
        "    return out\n",
        "\n",
        "\n",
        "# alternative implementation using nn.Sequential()\n",
        "class MyMLP2(nn.Module):\n",
        "  def __init__(self):\n",
        "    super(MyMLP2, self).__init__()\n",
        "\n",
        "    self.mlp_block = nn.Sequential( #similar to keras keras.Sequential module\n",
        "      nn.Linear(8, 20),\n",
        "      nn.ReLU(),\n",
        "      nn.Linear(20, 50),\n",
        "      nn.ReLU(),\n",
        "      nn.Linear(50, 100),\n",
        "      nn.ReLU()\n",
        "    )\n",
        "\n",
        "    self.out_block = nn.Linear(100, 1)\n",
        "\n",
        "  def forward(self, x):\n",
        "    out = torch.sigmoid(self.out_block(self.mlp(x)))\n",
        "    return out"
      ]
    },
    {
      "cell_type": "code",
      "execution_count": null,
      "metadata": {
        "id": "CW_NlvdnuRJZ"
      },
      "outputs": [],
      "source": [
        "#%pip install torchsummary #already installed in google colab"
      ]
    },
    {
      "cell_type": "code",
      "execution_count": 15,
      "metadata": {
        "colab": {
          "base_uri": "https://localhost:8080/"
        },
        "id": "uaLMNMzt1TAK",
        "outputId": "01d44de4-10b5-4ab7-9e29-ffab44225faa"
      },
      "outputs": [
        {
          "output_type": "stream",
          "name": "stdout",
          "text": [
            "ShallowANN(\n",
            "  (layer1): Linear(in_features=8, out_features=20, bias=True)\n",
            "  (activ1): ReLU()\n",
            "  (layer2): Linear(in_features=20, out_features=1, bias=True)\n",
            "  (activ2): Sigmoid()\n",
            ")\n",
            "----------------------------------------------------------------\n",
            "        Layer (type)               Output Shape         Param #\n",
            "================================================================\n",
            "            Linear-1                [-1, 1, 20]             180\n",
            "              ReLU-2                [-1, 1, 20]               0\n",
            "            Linear-3                 [-1, 1, 1]              21\n",
            "           Sigmoid-4                 [-1, 1, 1]               0\n",
            "================================================================\n",
            "Total params: 201\n",
            "Trainable params: 201\n",
            "Non-trainable params: 0\n",
            "----------------------------------------------------------------\n",
            "Input size (MB): 0.00\n",
            "Forward/backward pass size (MB): 0.00\n",
            "Params size (MB): 0.00\n",
            "Estimated Total Size (MB): 0.00\n",
            "----------------------------------------------------------------\n"
          ]
        }
      ],
      "source": [
        "model = ShallowANN(input_dim=8)\n",
        "print(model)\n",
        "\n",
        "from torchsummary import summary\n",
        "if torch.cuda.is_available():\n",
        "  summary(model.cuda(), input_size=(1,8))\n",
        "else:\n",
        "  summary(model, input_size=(1,8))"
      ]
    },
    {
      "cell_type": "code",
      "source": [
        "#install torchmetrics: collection of useful PyTorch metrics implementations and an easy-to-use API to create custom metrics]\n",
        "%pip install torchmetrics"
      ],
      "metadata": {
        "colab": {
          "base_uri": "https://localhost:8080/"
        },
        "id": "bn2FIc6jlvnz",
        "outputId": "2e17338d-3301-4cd6-b94c-77363852009d"
      },
      "execution_count": 16,
      "outputs": [
        {
          "output_type": "stream",
          "name": "stdout",
          "text": [
            "Collecting torchmetrics\n",
            "  Downloading torchmetrics-1.7.3-py3-none-any.whl.metadata (21 kB)\n",
            "Requirement already satisfied: numpy>1.20.0 in /usr/local/lib/python3.11/dist-packages (from torchmetrics) (2.0.2)\n",
            "Requirement already satisfied: packaging>17.1 in /usr/local/lib/python3.11/dist-packages (from torchmetrics) (24.2)\n",
            "Requirement already satisfied: torch>=2.0.0 in /usr/local/lib/python3.11/dist-packages (from torchmetrics) (2.6.0+cu124)\n",
            "Collecting lightning-utilities>=0.8.0 (from torchmetrics)\n",
            "  Downloading lightning_utilities-0.14.3-py3-none-any.whl.metadata (5.6 kB)\n",
            "Requirement already satisfied: setuptools in /usr/local/lib/python3.11/dist-packages (from lightning-utilities>=0.8.0->torchmetrics) (75.2.0)\n",
            "Requirement already satisfied: typing_extensions in /usr/local/lib/python3.11/dist-packages (from lightning-utilities>=0.8.0->torchmetrics) (4.14.0)\n",
            "Requirement already satisfied: filelock in /usr/local/lib/python3.11/dist-packages (from torch>=2.0.0->torchmetrics) (3.18.0)\n",
            "Requirement already satisfied: networkx in /usr/local/lib/python3.11/dist-packages (from torch>=2.0.0->torchmetrics) (3.5)\n",
            "Requirement already satisfied: jinja2 in /usr/local/lib/python3.11/dist-packages (from torch>=2.0.0->torchmetrics) (3.1.6)\n",
            "Requirement already satisfied: fsspec in /usr/local/lib/python3.11/dist-packages (from torch>=2.0.0->torchmetrics) (2025.3.2)\n",
            "Collecting nvidia-cuda-nvrtc-cu12==12.4.127 (from torch>=2.0.0->torchmetrics)\n",
            "  Downloading nvidia_cuda_nvrtc_cu12-12.4.127-py3-none-manylinux2014_x86_64.whl.metadata (1.5 kB)\n",
            "Collecting nvidia-cuda-runtime-cu12==12.4.127 (from torch>=2.0.0->torchmetrics)\n",
            "  Downloading nvidia_cuda_runtime_cu12-12.4.127-py3-none-manylinux2014_x86_64.whl.metadata (1.5 kB)\n",
            "Collecting nvidia-cuda-cupti-cu12==12.4.127 (from torch>=2.0.0->torchmetrics)\n",
            "  Downloading nvidia_cuda_cupti_cu12-12.4.127-py3-none-manylinux2014_x86_64.whl.metadata (1.6 kB)\n",
            "Collecting nvidia-cudnn-cu12==9.1.0.70 (from torch>=2.0.0->torchmetrics)\n",
            "  Downloading nvidia_cudnn_cu12-9.1.0.70-py3-none-manylinux2014_x86_64.whl.metadata (1.6 kB)\n",
            "Collecting nvidia-cublas-cu12==12.4.5.8 (from torch>=2.0.0->torchmetrics)\n",
            "  Downloading nvidia_cublas_cu12-12.4.5.8-py3-none-manylinux2014_x86_64.whl.metadata (1.5 kB)\n",
            "Collecting nvidia-cufft-cu12==11.2.1.3 (from torch>=2.0.0->torchmetrics)\n",
            "  Downloading nvidia_cufft_cu12-11.2.1.3-py3-none-manylinux2014_x86_64.whl.metadata (1.5 kB)\n",
            "Collecting nvidia-curand-cu12==10.3.5.147 (from torch>=2.0.0->torchmetrics)\n",
            "  Downloading nvidia_curand_cu12-10.3.5.147-py3-none-manylinux2014_x86_64.whl.metadata (1.5 kB)\n",
            "Collecting nvidia-cusolver-cu12==11.6.1.9 (from torch>=2.0.0->torchmetrics)\n",
            "  Downloading nvidia_cusolver_cu12-11.6.1.9-py3-none-manylinux2014_x86_64.whl.metadata (1.6 kB)\n",
            "Collecting nvidia-cusparse-cu12==12.3.1.170 (from torch>=2.0.0->torchmetrics)\n",
            "  Downloading nvidia_cusparse_cu12-12.3.1.170-py3-none-manylinux2014_x86_64.whl.metadata (1.6 kB)\n",
            "Requirement already satisfied: nvidia-cusparselt-cu12==0.6.2 in /usr/local/lib/python3.11/dist-packages (from torch>=2.0.0->torchmetrics) (0.6.2)\n",
            "Requirement already satisfied: nvidia-nccl-cu12==2.21.5 in /usr/local/lib/python3.11/dist-packages (from torch>=2.0.0->torchmetrics) (2.21.5)\n",
            "Requirement already satisfied: nvidia-nvtx-cu12==12.4.127 in /usr/local/lib/python3.11/dist-packages (from torch>=2.0.0->torchmetrics) (12.4.127)\n",
            "Collecting nvidia-nvjitlink-cu12==12.4.127 (from torch>=2.0.0->torchmetrics)\n",
            "  Downloading nvidia_nvjitlink_cu12-12.4.127-py3-none-manylinux2014_x86_64.whl.metadata (1.5 kB)\n",
            "Requirement already satisfied: triton==3.2.0 in /usr/local/lib/python3.11/dist-packages (from torch>=2.0.0->torchmetrics) (3.2.0)\n",
            "Requirement already satisfied: sympy==1.13.1 in /usr/local/lib/python3.11/dist-packages (from torch>=2.0.0->torchmetrics) (1.13.1)\n",
            "Requirement already satisfied: mpmath<1.4,>=1.1.0 in /usr/local/lib/python3.11/dist-packages (from sympy==1.13.1->torch>=2.0.0->torchmetrics) (1.3.0)\n",
            "Requirement already satisfied: MarkupSafe>=2.0 in /usr/local/lib/python3.11/dist-packages (from jinja2->torch>=2.0.0->torchmetrics) (3.0.2)\n",
            "Downloading torchmetrics-1.7.3-py3-none-any.whl (962 kB)\n",
            "\u001b[2K   \u001b[90m━━━━━━━━━━━━━━━━━━━━━━━━━━━━━━━━━━━━━━━━\u001b[0m \u001b[32m962.6/962.6 kB\u001b[0m \u001b[31m51.7 MB/s\u001b[0m eta \u001b[36m0:00:00\u001b[0m\n",
            "\u001b[?25hDownloading lightning_utilities-0.14.3-py3-none-any.whl (28 kB)\n",
            "Downloading nvidia_cublas_cu12-12.4.5.8-py3-none-manylinux2014_x86_64.whl (363.4 MB)\n",
            "\u001b[2K   \u001b[90m━━━━━━━━━━━━━━━━━━━━━━━━━━━━━━━━━━━━━━━━\u001b[0m \u001b[32m363.4/363.4 MB\u001b[0m \u001b[31m4.9 MB/s\u001b[0m eta \u001b[36m0:00:00\u001b[0m\n",
            "\u001b[?25hDownloading nvidia_cuda_cupti_cu12-12.4.127-py3-none-manylinux2014_x86_64.whl (13.8 MB)\n",
            "\u001b[2K   \u001b[90m━━━━━━━━━━━━━━━━━━━━━━━━━━━━━━━━━━━━━━━━\u001b[0m \u001b[32m13.8/13.8 MB\u001b[0m \u001b[31m111.9 MB/s\u001b[0m eta \u001b[36m0:00:00\u001b[0m\n",
            "\u001b[?25hDownloading nvidia_cuda_nvrtc_cu12-12.4.127-py3-none-manylinux2014_x86_64.whl (24.6 MB)\n",
            "\u001b[2K   \u001b[90m━━━━━━━━━━━━━━━━━━━━━━━━━━━━━━━━━━━━━━━━\u001b[0m \u001b[32m24.6/24.6 MB\u001b[0m \u001b[31m99.9 MB/s\u001b[0m eta \u001b[36m0:00:00\u001b[0m\n",
            "\u001b[?25hDownloading nvidia_cuda_runtime_cu12-12.4.127-py3-none-manylinux2014_x86_64.whl (883 kB)\n",
            "\u001b[2K   \u001b[90m━━━━━━━━━━━━━━━━━━━━━━━━━━━━━━━━━━━━━━━━\u001b[0m \u001b[32m883.7/883.7 kB\u001b[0m \u001b[31m56.2 MB/s\u001b[0m eta \u001b[36m0:00:00\u001b[0m\n",
            "\u001b[?25hDownloading nvidia_cudnn_cu12-9.1.0.70-py3-none-manylinux2014_x86_64.whl (664.8 MB)\n",
            "\u001b[2K   \u001b[90m━━━━━━━━━━━━━━━━━━━━━━━━━━━━━━━━━━━━━━━━\u001b[0m \u001b[32m664.8/664.8 MB\u001b[0m \u001b[31m2.1 MB/s\u001b[0m eta \u001b[36m0:00:00\u001b[0m\n",
            "\u001b[?25hDownloading nvidia_cufft_cu12-11.2.1.3-py3-none-manylinux2014_x86_64.whl (211.5 MB)\n",
            "\u001b[2K   \u001b[90m━━━━━━━━━━━━━━━━━━━━━━━━━━━━━━━━━━━━━━━━\u001b[0m \u001b[32m211.5/211.5 MB\u001b[0m \u001b[31m8.4 MB/s\u001b[0m eta \u001b[36m0:00:00\u001b[0m\n",
            "\u001b[?25hDownloading nvidia_curand_cu12-10.3.5.147-py3-none-manylinux2014_x86_64.whl (56.3 MB)\n",
            "\u001b[2K   \u001b[90m━━━━━━━━━━━━━━━━━━━━━━━━━━━━━━━━━━━━━━━━\u001b[0m \u001b[32m56.3/56.3 MB\u001b[0m \u001b[31m11.3 MB/s\u001b[0m eta \u001b[36m0:00:00\u001b[0m\n",
            "\u001b[?25hDownloading nvidia_cusolver_cu12-11.6.1.9-py3-none-manylinux2014_x86_64.whl (127.9 MB)\n",
            "\u001b[2K   \u001b[90m━━━━━━━━━━━━━━━━━━━━━━━━━━━━━━━━━━━━━━━━\u001b[0m \u001b[32m127.9/127.9 MB\u001b[0m \u001b[31m8.1 MB/s\u001b[0m eta \u001b[36m0:00:00\u001b[0m\n",
            "\u001b[?25hDownloading nvidia_cusparse_cu12-12.3.1.170-py3-none-manylinux2014_x86_64.whl (207.5 MB)\n",
            "\u001b[2K   \u001b[90m━━━━━━━━━━━━━━━━━━━━━━━━━━━━━━━━━━━━━━━━\u001b[0m \u001b[32m207.5/207.5 MB\u001b[0m \u001b[31m6.1 MB/s\u001b[0m eta \u001b[36m0:00:00\u001b[0m\n",
            "\u001b[?25hDownloading nvidia_nvjitlink_cu12-12.4.127-py3-none-manylinux2014_x86_64.whl (21.1 MB)\n",
            "\u001b[2K   \u001b[90m━━━━━━━━━━━━━━━━━━━━━━━━━━━━━━━━━━━━━━━━\u001b[0m \u001b[32m21.1/21.1 MB\u001b[0m \u001b[31m99.8 MB/s\u001b[0m eta \u001b[36m0:00:00\u001b[0m\n",
            "\u001b[?25hInstalling collected packages: nvidia-nvjitlink-cu12, nvidia-curand-cu12, nvidia-cufft-cu12, nvidia-cuda-runtime-cu12, nvidia-cuda-nvrtc-cu12, nvidia-cuda-cupti-cu12, nvidia-cublas-cu12, lightning-utilities, nvidia-cusparse-cu12, nvidia-cudnn-cu12, nvidia-cusolver-cu12, torchmetrics\n",
            "  Attempting uninstall: nvidia-nvjitlink-cu12\n",
            "    Found existing installation: nvidia-nvjitlink-cu12 12.5.82\n",
            "    Uninstalling nvidia-nvjitlink-cu12-12.5.82:\n",
            "      Successfully uninstalled nvidia-nvjitlink-cu12-12.5.82\n",
            "  Attempting uninstall: nvidia-curand-cu12\n",
            "    Found existing installation: nvidia-curand-cu12 10.3.6.82\n",
            "    Uninstalling nvidia-curand-cu12-10.3.6.82:\n",
            "      Successfully uninstalled nvidia-curand-cu12-10.3.6.82\n",
            "  Attempting uninstall: nvidia-cufft-cu12\n",
            "    Found existing installation: nvidia-cufft-cu12 11.2.3.61\n",
            "    Uninstalling nvidia-cufft-cu12-11.2.3.61:\n",
            "      Successfully uninstalled nvidia-cufft-cu12-11.2.3.61\n",
            "  Attempting uninstall: nvidia-cuda-runtime-cu12\n",
            "    Found existing installation: nvidia-cuda-runtime-cu12 12.5.82\n",
            "    Uninstalling nvidia-cuda-runtime-cu12-12.5.82:\n",
            "      Successfully uninstalled nvidia-cuda-runtime-cu12-12.5.82\n",
            "  Attempting uninstall: nvidia-cuda-nvrtc-cu12\n",
            "    Found existing installation: nvidia-cuda-nvrtc-cu12 12.5.82\n",
            "    Uninstalling nvidia-cuda-nvrtc-cu12-12.5.82:\n",
            "      Successfully uninstalled nvidia-cuda-nvrtc-cu12-12.5.82\n",
            "  Attempting uninstall: nvidia-cuda-cupti-cu12\n",
            "    Found existing installation: nvidia-cuda-cupti-cu12 12.5.82\n",
            "    Uninstalling nvidia-cuda-cupti-cu12-12.5.82:\n",
            "      Successfully uninstalled nvidia-cuda-cupti-cu12-12.5.82\n",
            "  Attempting uninstall: nvidia-cublas-cu12\n",
            "    Found existing installation: nvidia-cublas-cu12 12.5.3.2\n",
            "    Uninstalling nvidia-cublas-cu12-12.5.3.2:\n",
            "      Successfully uninstalled nvidia-cublas-cu12-12.5.3.2\n",
            "  Attempting uninstall: nvidia-cusparse-cu12\n",
            "    Found existing installation: nvidia-cusparse-cu12 12.5.1.3\n",
            "    Uninstalling nvidia-cusparse-cu12-12.5.1.3:\n",
            "      Successfully uninstalled nvidia-cusparse-cu12-12.5.1.3\n",
            "  Attempting uninstall: nvidia-cudnn-cu12\n",
            "    Found existing installation: nvidia-cudnn-cu12 9.3.0.75\n",
            "    Uninstalling nvidia-cudnn-cu12-9.3.0.75:\n",
            "      Successfully uninstalled nvidia-cudnn-cu12-9.3.0.75\n",
            "  Attempting uninstall: nvidia-cusolver-cu12\n",
            "    Found existing installation: nvidia-cusolver-cu12 11.6.3.83\n",
            "    Uninstalling nvidia-cusolver-cu12-11.6.3.83:\n",
            "      Successfully uninstalled nvidia-cusolver-cu12-11.6.3.83\n",
            "Successfully installed lightning-utilities-0.14.3 nvidia-cublas-cu12-12.4.5.8 nvidia-cuda-cupti-cu12-12.4.127 nvidia-cuda-nvrtc-cu12-12.4.127 nvidia-cuda-runtime-cu12-12.4.127 nvidia-cudnn-cu12-9.1.0.70 nvidia-cufft-cu12-11.2.1.3 nvidia-curand-cu12-10.3.5.147 nvidia-cusolver-cu12-11.6.1.9 nvidia-cusparse-cu12-12.3.1.170 nvidia-nvjitlink-cu12-12.4.127 torchmetrics-1.7.3\n"
          ]
        }
      ]
    },
    {
      "cell_type": "code",
      "execution_count": 28,
      "metadata": {
        "colab": {
          "base_uri": "https://localhost:8080/"
        },
        "id": "qKuuD7vzrdff",
        "outputId": "501f19e4-e901-4a2e-a515-370d64308c7b"
      },
      "outputs": [
        {
          "output_type": "stream",
          "name": "stdout",
          "text": [
            "model is on GPU:  True\n"
          ]
        }
      ],
      "source": [
        "# reinstantiate a new model (reset weight etc) and put it on GPU\n",
        "model = ShallowANN(input_dim=8)\n",
        "model.to(device)\n",
        "print('model is on GPU: ',next(model.parameters()).is_cuda)"
      ]
    },
    {
      "cell_type": "code",
      "execution_count": 29,
      "metadata": {
        "id": "asMI2TET1_wS"
      },
      "outputs": [],
      "source": [
        "#loss\n",
        "\n",
        "# NOTE: BCELoss for binary classification\n",
        "#       CrossEntropyLoss for multiclass classification (already includes softmax calculation, output the ANN foward method must be logits)\n",
        "loss_func = nn.BCELoss() #binary cross entropy loss\n",
        "\n",
        "# metrics\n",
        "import torchmetrics\n",
        "from torchmetrics.classification import BinaryAccuracy\n",
        "\n",
        "#metric binary accuracy (hand's made)\n",
        "def my_binary_accuracy(yhat, y):\n",
        "  assert y.ndim == 1 and y.size() == yhat.size()\n",
        "  yhat = yhat > 0.5\n",
        "  return (y == yhat).sum().item() / y.size(0)\n",
        "\n",
        "# NOTE: better to use metrics from torchmetrics:\n",
        "my_metric_func = BinaryAccuracy()\n",
        "my_metric_func.to(device)\n",
        "\n",
        "# optim\n",
        "from torch import optim\n",
        "#opt = optim.SGD(model.parameters(), lr=0.001, momentum=0.9)\n",
        "\n",
        "# alternative\n",
        "\n",
        "opt = optim.Adam(model.parameters(), lr=1e-3)\n",
        "\n",
        "# scheduler for multi step decay lr schedule\n",
        "# Decays the learning rate of each parameter group by gamma once the number of epoch reaches one of the milestones\n",
        "#lr_scheduler = optim.lr_scheduler.MultiStepLR(opt, milestones=[20,40,60], gamma=0.1)"
      ]
    },
    {
      "cell_type": "code",
      "source": [
        "# test implementation on one batch before to train\n",
        "xb,yb = next(iter(dataloader_train))\n",
        "\n",
        "xb=xb.type(torch.float).to(device) #put tensors on device\n",
        "yb=yb.type(torch.float).to(device)\n",
        "\n",
        "# prediction\n",
        "\n",
        "pred = model(xb)\n",
        "print('output shape: ', pred.shape)\n",
        "\n",
        "# loss and metric\n",
        "loss = loss_func(pred, torch.unsqueeze(yb,1))\n",
        "#metric = binary_accuracy(pred, torch.unsqueeze(yb,1))\n",
        "#or also: metric = binary_accuracy(torch.squeeze(pred), yb)\n",
        "metric = my_metric_func(torch.squeeze(pred), yb)\n",
        "mymetric = my_binary_accuracy(torch.squeeze(pred), yb)\n",
        "\n",
        "print('loss: ', loss.item())\n",
        "print('metric: ', metric.item())\n",
        "print('my_metric: ', mymetric)"
      ],
      "metadata": {
        "colab": {
          "base_uri": "https://localhost:8080/"
        },
        "id": "6Aev66vFnbiq",
        "outputId": "9ae009e6-a264-4b59-c34a-d409c6d2861d"
      },
      "execution_count": 30,
      "outputs": [
        {
          "output_type": "stream",
          "name": "stdout",
          "text": [
            "output shape:  torch.Size([32, 1])\n",
            "loss:  0.8830652236938477\n",
            "metric:  0.53125\n",
            "my_metric:  0.53125\n"
          ]
        }
      ]
    },
    {
      "cell_type": "code",
      "execution_count": 31,
      "metadata": {
        "colab": {
          "base_uri": "https://localhost:8080/"
        },
        "id": "ULR6JSud2M0e",
        "outputId": "16abe6d6-aada-4ef4-b208-d8e768f6e62c"
      },
      "outputs": [
        {
          "output_type": "stream",
          "name": "stdout",
          "text": [
            "epoch: 1, time(s): 1.1127, train loss: 0.735845, train metric: 0.501172, vali loss: 0.698739, vali metric: 0.496875\n",
            "epoch: 2, time(s): 0.7857, train loss: 0.683923, train metric: 0.522656, vali loss: 0.681659, vali metric: 0.498437\n",
            "epoch: 3, time(s): 0.2930, train loss: 0.666274, train metric: 0.563281, vali loss: 0.661300, vali metric: 0.685937\n",
            "epoch: 4, time(s): 0.2526, train loss: 0.648254, train metric: 0.643359, vali loss: 0.639679, vali metric: 0.675000\n",
            "epoch: 5, time(s): 0.2590, train loss: 0.625368, train metric: 0.701953, vali loss: 0.615712, vali metric: 0.726562\n",
            "epoch: 6, time(s): 0.2708, train loss: 0.602808, train metric: 0.727734, vali loss: 0.591465, vali metric: 0.734375\n",
            "epoch: 7, time(s): 0.2584, train loss: 0.577266, train metric: 0.748828, vali loss: 0.571179, vali metric: 0.737500\n",
            "epoch: 8, time(s): 0.2547, train loss: 0.556685, train metric: 0.757031, vali loss: 0.548279, vali metric: 0.750000\n",
            "epoch: 9, time(s): 0.2609, train loss: 0.533615, train metric: 0.780859, vali loss: 0.523450, vali metric: 0.762500\n",
            "epoch: 10, time(s): 0.2677, train loss: 0.514924, train metric: 0.786719, vali loss: 0.506547, vali metric: 0.770312\n",
            "epoch: 11, time(s): 0.2520, train loss: 0.499467, train metric: 0.790234, vali loss: 0.490554, vali metric: 0.776563\n",
            "epoch: 12, time(s): 0.2520, train loss: 0.485391, train metric: 0.792578, vali loss: 0.477249, vali metric: 0.778125\n",
            "epoch: 13, time(s): 0.2581, train loss: 0.472138, train metric: 0.800000, vali loss: 0.473771, vali metric: 0.782813\n",
            "epoch: 14, time(s): 0.2648, train loss: 0.462393, train metric: 0.805859, vali loss: 0.457707, vali metric: 0.798438\n",
            "epoch: 15, time(s): 0.2509, train loss: 0.454600, train metric: 0.807031, vali loss: 0.446636, vali metric: 0.798438\n",
            "epoch: 16, time(s): 0.2560, train loss: 0.446003, train metric: 0.810547, vali loss: 0.438557, vali metric: 0.803125\n",
            "epoch: 17, time(s): 0.2577, train loss: 0.436260, train metric: 0.817187, vali loss: 0.430987, vali metric: 0.806250\n",
            "epoch: 18, time(s): 0.2643, train loss: 0.429436, train metric: 0.821875, vali loss: 0.424395, vali metric: 0.812500\n",
            "epoch: 19, time(s): 0.2610, train loss: 0.424850, train metric: 0.822656, vali loss: 0.419392, vali metric: 0.818750\n",
            "epoch: 20, time(s): 0.2556, train loss: 0.417146, train metric: 0.826172, vali loss: 0.412632, vali metric: 0.815625\n",
            "epoch: 21, time(s): 0.2583, train loss: 0.411038, train metric: 0.827734, vali loss: 0.405025, vali metric: 0.820312\n",
            "epoch: 22, time(s): 0.2629, train loss: 0.404264, train metric: 0.835156, vali loss: 0.402294, vali metric: 0.823438\n",
            "epoch: 23, time(s): 0.2542, train loss: 0.399240, train metric: 0.835938, vali loss: 0.391507, vali metric: 0.826562\n",
            "epoch: 24, time(s): 0.2523, train loss: 0.393613, train metric: 0.838281, vali loss: 0.385911, vali metric: 0.831250\n",
            "epoch: 25, time(s): 0.2597, train loss: 0.385572, train metric: 0.846484, vali loss: 0.380675, vali metric: 0.839063\n",
            "epoch: 26, time(s): 0.2635, train loss: 0.377884, train metric: 0.848828, vali loss: 0.382836, vali metric: 0.828125\n",
            "epoch: 27, time(s): 0.2536, train loss: 0.375477, train metric: 0.844922, vali loss: 0.368108, vali metric: 0.840625\n",
            "epoch: 28, time(s): 0.2523, train loss: 0.367603, train metric: 0.854297, vali loss: 0.363944, vali metric: 0.846875\n",
            "epoch: 29, time(s): 0.2559, train loss: 0.362915, train metric: 0.857812, vali loss: 0.356186, vali metric: 0.850000\n",
            "epoch: 30, time(s): 0.2584, train loss: 0.356873, train metric: 0.856250, vali loss: 0.354448, vali metric: 0.853125\n",
            "epoch: 31, time(s): 0.2512, train loss: 0.351163, train metric: 0.860156, vali loss: 0.344185, vali metric: 0.856250\n",
            "epoch: 32, time(s): 0.2531, train loss: 0.344981, train metric: 0.865234, vali loss: 0.339456, vali metric: 0.862500\n",
            "epoch: 33, time(s): 0.2570, train loss: 0.339350, train metric: 0.865234, vali loss: 0.335413, vali metric: 0.864062\n",
            "epoch: 34, time(s): 0.2635, train loss: 0.334376, train metric: 0.868359, vali loss: 0.328987, vali metric: 0.867188\n",
            "epoch: 35, time(s): 0.2501, train loss: 0.325180, train metric: 0.875781, vali loss: 0.320024, vali metric: 0.871875\n",
            "epoch: 36, time(s): 0.2572, train loss: 0.322165, train metric: 0.879297, vali loss: 0.317236, vali metric: 0.875000\n",
            "epoch: 37, time(s): 0.2780, train loss: 0.316294, train metric: 0.878906, vali loss: 0.317766, vali metric: 0.879687\n",
            "epoch: 38, time(s): 0.2648, train loss: 0.309381, train metric: 0.889062, vali loss: 0.305818, vali metric: 0.873437\n",
            "epoch: 39, time(s): 0.2537, train loss: 0.302697, train metric: 0.891797, vali loss: 0.303194, vali metric: 0.871875\n",
            "epoch: 40, time(s): 0.2595, train loss: 0.298005, train metric: 0.894141, vali loss: 0.294259, vali metric: 0.892188\n",
            "epoch: 41, time(s): 0.2568, train loss: 0.293087, train metric: 0.900781, vali loss: 0.285648, vali metric: 0.892188\n",
            "epoch: 42, time(s): 0.3549, train loss: 0.285366, train metric: 0.899219, vali loss: 0.285991, vali metric: 0.881250\n",
            "epoch: 43, time(s): 0.3183, train loss: 0.279460, train metric: 0.903516, vali loss: 0.275539, vali metric: 0.907813\n",
            "epoch: 44, time(s): 0.3173, train loss: 0.273799, train metric: 0.904687, vali loss: 0.269055, vali metric: 0.903125\n",
            "epoch: 45, time(s): 0.3132, train loss: 0.268732, train metric: 0.908984, vali loss: 0.263609, vali metric: 0.914062\n",
            "epoch: 46, time(s): 0.3402, train loss: 0.263391, train metric: 0.910156, vali loss: 0.259757, vali metric: 0.901563\n",
            "epoch: 47, time(s): 0.3792, train loss: 0.259383, train metric: 0.914062, vali loss: 0.257416, vali metric: 0.900000\n",
            "epoch: 48, time(s): 0.2652, train loss: 0.252430, train metric: 0.914844, vali loss: 0.247443, vali metric: 0.915625\n",
            "epoch: 49, time(s): 0.2581, train loss: 0.246408, train metric: 0.921094, vali loss: 0.242584, vali metric: 0.926562\n",
            "epoch: 50, time(s): 0.2845, train loss: 0.240901, train metric: 0.923828, vali loss: 0.236838, vali metric: 0.931250\n",
            "epoch: 51, time(s): 0.2576, train loss: 0.235659, train metric: 0.923047, vali loss: 0.232221, vali metric: 0.932813\n",
            "epoch: 52, time(s): 0.2624, train loss: 0.231999, train metric: 0.927344, vali loss: 0.236319, vali metric: 0.906250\n",
            "epoch: 53, time(s): 0.2575, train loss: 0.227548, train metric: 0.933984, vali loss: 0.222546, vali metric: 0.935937\n",
            "epoch: 54, time(s): 0.2600, train loss: 0.219717, train metric: 0.937500, vali loss: 0.217070, vali metric: 0.940625\n",
            "epoch: 55, time(s): 0.2520, train loss: 0.216077, train metric: 0.937891, vali loss: 0.216394, vali metric: 0.940625\n",
            "epoch: 56, time(s): 0.2608, train loss: 0.211347, train metric: 0.940625, vali loss: 0.210127, vali metric: 0.940625\n",
            "epoch: 57, time(s): 0.2515, train loss: 0.208284, train metric: 0.940625, vali loss: 0.206378, vali metric: 0.943750\n",
            "epoch: 58, time(s): 0.2583, train loss: 0.203439, train metric: 0.942187, vali loss: 0.205486, vali metric: 0.937500\n",
            "epoch: 59, time(s): 0.2602, train loss: 0.200292, train metric: 0.946484, vali loss: 0.198492, vali metric: 0.942187\n",
            "epoch: 60, time(s): 0.2590, train loss: 0.194811, train metric: 0.944922, vali loss: 0.196383, vali metric: 0.940625\n",
            "epoch: 61, time(s): 0.2560, train loss: 0.190072, train metric: 0.951172, vali loss: 0.187468, vali metric: 0.948438\n",
            "epoch: 62, time(s): 0.2571, train loss: 0.186260, train metric: 0.949219, vali loss: 0.188155, vali metric: 0.945312\n",
            "epoch: 63, time(s): 0.2551, train loss: 0.182937, train metric: 0.953906, vali loss: 0.179676, vali metric: 0.953125\n",
            "epoch: 64, time(s): 0.2608, train loss: 0.178728, train metric: 0.954688, vali loss: 0.183819, vali metric: 0.945312\n",
            "epoch: 65, time(s): 0.2567, train loss: 0.175120, train metric: 0.955469, vali loss: 0.174111, vali metric: 0.953125\n",
            "epoch: 66, time(s): 0.2525, train loss: 0.172151, train metric: 0.957422, vali loss: 0.170521, vali metric: 0.953125\n",
            "epoch: 67, time(s): 0.2535, train loss: 0.168459, train metric: 0.959375, vali loss: 0.166608, vali metric: 0.956250\n",
            "epoch: 68, time(s): 0.2596, train loss: 0.165410, train metric: 0.958984, vali loss: 0.162893, vali metric: 0.957812\n",
            "epoch: 69, time(s): 0.2587, train loss: 0.162902, train metric: 0.961328, vali loss: 0.159842, vali metric: 0.957812\n",
            "epoch: 70, time(s): 0.2561, train loss: 0.160082, train metric: 0.960547, vali loss: 0.156658, vali metric: 0.960938\n",
            "epoch: 71, time(s): 0.2542, train loss: 0.155661, train metric: 0.960156, vali loss: 0.155274, vali metric: 0.957812\n",
            "epoch: 72, time(s): 0.2633, train loss: 0.154086, train metric: 0.961719, vali loss: 0.151611, vali metric: 0.964063\n",
            "epoch: 73, time(s): 0.2545, train loss: 0.149390, train metric: 0.964844, vali loss: 0.148859, vali metric: 0.960938\n",
            "epoch: 74, time(s): 0.2538, train loss: 0.147427, train metric: 0.964844, vali loss: 0.146860, vali metric: 0.962500\n",
            "epoch: 75, time(s): 0.2501, train loss: 0.145935, train metric: 0.964453, vali loss: 0.143192, vali metric: 0.965625\n",
            "epoch: 76, time(s): 0.2667, train loss: 0.146833, train metric: 0.964453, vali loss: 0.144730, vali metric: 0.959375\n",
            "epoch: 77, time(s): 0.2609, train loss: 0.138520, train metric: 0.969531, vali loss: 0.141925, vali metric: 0.960938\n",
            "epoch: 78, time(s): 0.2547, train loss: 0.138692, train metric: 0.968750, vali loss: 0.135912, vali metric: 0.967187\n",
            "epoch: 79, time(s): 0.2572, train loss: 0.134570, train metric: 0.967969, vali loss: 0.133741, vali metric: 0.967187\n",
            "epoch: 80, time(s): 0.2670, train loss: 0.132871, train metric: 0.968750, vali loss: 0.134306, vali metric: 0.962500\n",
            "epoch: 81, time(s): 0.2623, train loss: 0.130440, train metric: 0.969141, vali loss: 0.129463, vali metric: 0.965625\n",
            "epoch: 82, time(s): 0.2550, train loss: 0.129206, train metric: 0.969922, vali loss: 0.127435, vali metric: 0.968750\n",
            "epoch: 83, time(s): 0.2493, train loss: 0.126960, train metric: 0.970313, vali loss: 0.127660, vali metric: 0.978125\n",
            "epoch: 84, time(s): 0.2617, train loss: 0.124739, train metric: 0.971094, vali loss: 0.124464, vali metric: 0.970313\n",
            "epoch: 85, time(s): 0.2567, train loss: 0.123608, train metric: 0.969531, vali loss: 0.121490, vali metric: 0.968750\n",
            "epoch: 86, time(s): 0.2934, train loss: 0.120345, train metric: 0.971875, vali loss: 0.124393, vali metric: 0.978125\n",
            "epoch: 87, time(s): 0.3270, train loss: 0.119446, train metric: 0.973828, vali loss: 0.125260, vali metric: 0.962500\n",
            "epoch: 88, time(s): 0.3551, train loss: 0.118722, train metric: 0.969531, vali loss: 0.133631, vali metric: 0.948438\n",
            "epoch: 89, time(s): 0.3118, train loss: 0.116972, train metric: 0.973047, vali loss: 0.116494, vali metric: 0.979688\n",
            "epoch: 90, time(s): 0.3236, train loss: 0.115275, train metric: 0.972266, vali loss: 0.116475, vali metric: 0.968750\n",
            "epoch: 91, time(s): 0.3617, train loss: 0.113443, train metric: 0.972656, vali loss: 0.111437, vali metric: 0.971875\n",
            "epoch: 92, time(s): 0.3330, train loss: 0.110503, train metric: 0.974219, vali loss: 0.110751, vali metric: 0.978125\n",
            "epoch: 93, time(s): 0.2571, train loss: 0.110290, train metric: 0.976562, vali loss: 0.108780, vali metric: 0.975000\n",
            "epoch: 94, time(s): 0.2542, train loss: 0.108388, train metric: 0.975391, vali loss: 0.107531, vali metric: 0.973437\n",
            "epoch: 95, time(s): 0.2697, train loss: 0.106623, train metric: 0.975781, vali loss: 0.114570, vali metric: 0.965625\n",
            "epoch: 96, time(s): 0.2578, train loss: 0.106561, train metric: 0.971484, vali loss: 0.105564, vali metric: 0.970313\n",
            "epoch: 97, time(s): 0.2489, train loss: 0.103128, train metric: 0.975781, vali loss: 0.111647, vali metric: 0.967187\n",
            "epoch: 98, time(s): 0.2536, train loss: 0.105868, train metric: 0.974609, vali loss: 0.101758, vali metric: 0.973437\n",
            "epoch: 99, time(s): 0.2580, train loss: 0.102873, train metric: 0.974609, vali loss: 0.105963, vali metric: 0.979688\n",
            "epoch: 100, time(s): 0.2586, train loss: 0.102754, train metric: 0.975391, vali loss: 0.104156, vali metric: 0.970313\n",
            "epoch: 101, time(s): 0.2478, train loss: 0.099486, train metric: 0.974609, vali loss: 0.099095, vali metric: 0.978125\n",
            "epoch: 102, time(s): 0.2576, train loss: 0.097813, train metric: 0.978125, vali loss: 0.101030, vali metric: 0.967187\n",
            "epoch: 103, time(s): 0.2630, train loss: 0.097430, train metric: 0.978906, vali loss: 0.096583, vali metric: 0.979688\n",
            "epoch: 104, time(s): 0.2519, train loss: 0.095994, train metric: 0.978125, vali loss: 0.095707, vali metric: 0.973437\n",
            "epoch: 105, time(s): 0.2479, train loss: 0.095480, train metric: 0.977734, vali loss: 0.096695, vali metric: 0.981250\n",
            "epoch: 106, time(s): 0.2528, train loss: 0.098207, train metric: 0.974219, vali loss: 0.099167, vali metric: 0.967187\n",
            "epoch: 107, time(s): 0.2745, train loss: 0.098344, train metric: 0.971484, vali loss: 0.093892, vali metric: 0.979688\n",
            "epoch: 108, time(s): 0.2486, train loss: 0.092189, train metric: 0.978516, vali loss: 0.092038, vali metric: 0.973437\n",
            "epoch: 109, time(s): 0.2497, train loss: 0.091914, train metric: 0.980469, vali loss: 0.093071, vali metric: 0.979688\n",
            "epoch: 110, time(s): 0.2557, train loss: 0.091110, train metric: 0.978906, vali loss: 0.094528, vali metric: 0.982812\n",
            "epoch: 111, time(s): 0.2712, train loss: 0.092330, train metric: 0.976172, vali loss: 0.089293, vali metric: 0.973437\n",
            "epoch: 112, time(s): 0.2492, train loss: 0.091126, train metric: 0.978906, vali loss: 0.091004, vali metric: 0.979688\n",
            "epoch: 113, time(s): 0.2484, train loss: 0.089072, train metric: 0.977344, vali loss: 0.087508, vali metric: 0.978125\n",
            "epoch: 114, time(s): 0.2493, train loss: 0.087630, train metric: 0.978906, vali loss: 0.088381, vali metric: 0.973437\n",
            "epoch: 115, time(s): 0.2643, train loss: 0.087483, train metric: 0.980469, vali loss: 0.085855, vali metric: 0.978125\n",
            "epoch: 116, time(s): 0.2507, train loss: 0.086655, train metric: 0.976562, vali loss: 0.085245, vali metric: 0.982812\n",
            "epoch: 117, time(s): 0.2514, train loss: 0.086300, train metric: 0.978516, vali loss: 0.086733, vali metric: 0.975000\n",
            "epoch: 118, time(s): 0.2546, train loss: 0.084624, train metric: 0.978516, vali loss: 0.083709, vali metric: 0.979688\n",
            "epoch: 119, time(s): 0.2784, train loss: 0.084745, train metric: 0.979688, vali loss: 0.083161, vali metric: 0.981250\n",
            "epoch: 120, time(s): 0.2515, train loss: 0.085578, train metric: 0.976953, vali loss: 0.083671, vali metric: 0.973437\n",
            "epoch: 121, time(s): 0.2523, train loss: 0.085490, train metric: 0.977734, vali loss: 0.081994, vali metric: 0.978125\n",
            "epoch: 122, time(s): 0.2644, train loss: 0.083205, train metric: 0.979297, vali loss: 0.081538, vali metric: 0.981250\n",
            "epoch: 123, time(s): 0.2665, train loss: 0.088088, train metric: 0.973437, vali loss: 0.081058, vali metric: 0.978125\n",
            "epoch: 124, time(s): 0.4001, train loss: 0.082047, train metric: 0.980859, vali loss: 0.082352, vali metric: 0.979688\n",
            "epoch: 125, time(s): 0.5734, train loss: 0.081233, train metric: 0.976953, vali loss: 0.084173, vali metric: 0.968750\n",
            "epoch: 126, time(s): 0.2694, train loss: 0.081001, train metric: 0.978125, vali loss: 0.085075, vali metric: 0.968750\n",
            "epoch: 127, time(s): 0.2538, train loss: 0.078790, train metric: 0.981250, vali loss: 0.080323, vali metric: 0.978125\n",
            "epoch: 128, time(s): 0.2627, train loss: 0.077476, train metric: 0.980859, vali loss: 0.080288, vali metric: 0.975000\n",
            "epoch: 129, time(s): 0.3125, train loss: 0.077963, train metric: 0.979688, vali loss: 0.079077, vali metric: 0.975000\n",
            "epoch: 130, time(s): 0.3294, train loss: 0.079910, train metric: 0.977344, vali loss: 0.079247, vali metric: 0.979688\n",
            "epoch: 131, time(s): 0.3332, train loss: 0.078924, train metric: 0.980469, vali loss: 0.076598, vali metric: 0.981250\n",
            "epoch: 132, time(s): 0.3270, train loss: 0.077015, train metric: 0.980859, vali loss: 0.077764, vali metric: 0.979688\n",
            "epoch: 133, time(s): 0.3233, train loss: 0.079264, train metric: 0.977734, vali loss: 0.078410, vali metric: 0.971875\n",
            "epoch: 134, time(s): 0.3613, train loss: 0.076959, train metric: 0.976953, vali loss: 0.075509, vali metric: 0.979688\n",
            "epoch: 135, time(s): 0.3401, train loss: 0.076750, train metric: 0.978516, vali loss: 0.078119, vali metric: 0.970313\n",
            "epoch: 136, time(s): 0.2550, train loss: 0.076807, train metric: 0.978125, vali loss: 0.074165, vali metric: 0.984375\n",
            "epoch: 137, time(s): 0.2740, train loss: 0.074933, train metric: 0.980078, vali loss: 0.078577, vali metric: 0.970313\n",
            "epoch: 138, time(s): 0.2641, train loss: 0.075877, train metric: 0.978516, vali loss: 0.076815, vali metric: 0.970313\n",
            "epoch: 139, time(s): 0.2681, train loss: 0.073863, train metric: 0.981641, vali loss: 0.073242, vali metric: 0.981250\n",
            "epoch: 140, time(s): 0.2589, train loss: 0.075469, train metric: 0.980078, vali loss: 0.073413, vali metric: 0.976562\n",
            "epoch: 141, time(s): 0.2647, train loss: 0.072908, train metric: 0.979297, vali loss: 0.074294, vali metric: 0.981250\n",
            "epoch: 142, time(s): 0.2602, train loss: 0.078830, train metric: 0.978906, vali loss: 0.077081, vali metric: 0.970313\n",
            "epoch: 143, time(s): 0.2690, train loss: 0.072121, train metric: 0.980469, vali loss: 0.080197, vali metric: 0.968750\n",
            "epoch: 144, time(s): 0.2610, train loss: 0.073600, train metric: 0.976953, vali loss: 0.072458, vali metric: 0.981250\n",
            "epoch: 145, time(s): 0.2599, train loss: 0.070859, train metric: 0.980469, vali loss: 0.071273, vali metric: 0.982812\n",
            "epoch: 146, time(s): 0.2582, train loss: 0.071899, train metric: 0.981641, vali loss: 0.070778, vali metric: 0.984375\n",
            "epoch: 147, time(s): 0.2915, train loss: 0.070606, train metric: 0.982031, vali loss: 0.077127, vali metric: 0.970313\n",
            "epoch: 148, time(s): 0.2588, train loss: 0.073018, train metric: 0.982031, vali loss: 0.075511, vali metric: 0.979688\n",
            "epoch: 149, time(s): 0.2627, train loss: 0.072763, train metric: 0.980859, vali loss: 0.072680, vali metric: 0.971875\n",
            "epoch: 150, time(s): 0.2568, train loss: 0.072234, train metric: 0.980078, vali loss: 0.075456, vali metric: 0.970313\n",
            "epoch: 151, time(s): 0.2657, train loss: 0.070728, train metric: 0.981250, vali loss: 0.070282, vali metric: 0.976562\n",
            "epoch: 152, time(s): 0.2661, train loss: 0.070465, train metric: 0.978516, vali loss: 0.075366, vali metric: 0.970313\n",
            "epoch: 153, time(s): 0.2551, train loss: 0.069135, train metric: 0.980469, vali loss: 0.069046, vali metric: 0.982812\n",
            "epoch: 154, time(s): 0.2554, train loss: 0.069223, train metric: 0.980469, vali loss: 0.068835, vali metric: 0.981250\n",
            "epoch: 155, time(s): 0.2657, train loss: 0.072084, train metric: 0.978906, vali loss: 0.101212, vali metric: 0.957812\n",
            "epoch: 156, time(s): 0.2618, train loss: 0.070661, train metric: 0.977734, vali loss: 0.075042, vali metric: 0.979688\n",
            "epoch: 157, time(s): 0.2608, train loss: 0.069117, train metric: 0.980859, vali loss: 0.072032, vali metric: 0.981250\n",
            "epoch: 158, time(s): 0.2554, train loss: 0.069370, train metric: 0.980469, vali loss: 0.072711, vali metric: 0.979688\n",
            "epoch: 159, time(s): 0.2662, train loss: 0.071016, train metric: 0.978125, vali loss: 0.067436, vali metric: 0.979688\n",
            "epoch: 160, time(s): 0.2624, train loss: 0.069511, train metric: 0.977734, vali loss: 0.067324, vali metric: 0.982812\n",
            "epoch: 161, time(s): 0.2848, train loss: 0.066768, train metric: 0.980859, vali loss: 0.070999, vali metric: 0.979688\n",
            "epoch: 162, time(s): 0.2680, train loss: 0.068034, train metric: 0.981250, vali loss: 0.065912, vali metric: 0.982812\n",
            "epoch: 163, time(s): 0.2560, train loss: 0.065933, train metric: 0.978906, vali loss: 0.066680, vali metric: 0.981250\n",
            "epoch: 164, time(s): 0.2630, train loss: 0.066400, train metric: 0.980078, vali loss: 0.067249, vali metric: 0.975000\n",
            "epoch: 165, time(s): 0.2690, train loss: 0.066790, train metric: 0.982422, vali loss: 0.073102, vali metric: 0.981250\n",
            "epoch: 166, time(s): 0.2695, train loss: 0.066876, train metric: 0.981250, vali loss: 0.071464, vali metric: 0.979688\n",
            "epoch: 167, time(s): 0.2628, train loss: 0.067649, train metric: 0.982422, vali loss: 0.071526, vali metric: 0.981250\n",
            "epoch: 168, time(s): 0.2816, train loss: 0.067791, train metric: 0.979297, vali loss: 0.065392, vali metric: 0.981250\n",
            "epoch: 169, time(s): 0.2578, train loss: 0.066521, train metric: 0.979297, vali loss: 0.064833, vali metric: 0.979688\n",
            "epoch: 170, time(s): 0.2678, train loss: 0.066851, train metric: 0.978516, vali loss: 0.068887, vali metric: 0.971875\n",
            "epoch: 171, time(s): 0.2575, train loss: 0.064786, train metric: 0.980078, vali loss: 0.078035, vali metric: 0.976562\n",
            "epoch: 172, time(s): 0.2627, train loss: 0.066058, train metric: 0.980859, vali loss: 0.064470, vali metric: 0.982812\n",
            "epoch: 173, time(s): 0.3204, train loss: 0.064081, train metric: 0.982031, vali loss: 0.066060, vali metric: 0.975000\n",
            "epoch: 174, time(s): 0.3411, train loss: 0.063444, train metric: 0.980078, vali loss: 0.069054, vali metric: 0.970313\n",
            "epoch: 175, time(s): 0.3255, train loss: 0.063539, train metric: 0.982031, vali loss: 0.065997, vali metric: 0.982812\n",
            "epoch: 176, time(s): 0.3200, train loss: 0.063274, train metric: 0.983594, vali loss: 0.063811, vali metric: 0.978125\n",
            "epoch: 177, time(s): 0.3478, train loss: 0.063518, train metric: 0.978125, vali loss: 0.063385, vali metric: 0.982812\n",
            "epoch: 178, time(s): 0.3612, train loss: 0.062442, train metric: 0.981641, vali loss: 0.067626, vali metric: 0.971875\n",
            "epoch: 179, time(s): 0.3020, train loss: 0.066802, train metric: 0.980859, vali loss: 0.062880, vali metric: 0.982812\n",
            "epoch: 180, time(s): 0.2691, train loss: 0.064008, train metric: 0.982031, vali loss: 0.064795, vali metric: 0.982812\n",
            "epoch: 181, time(s): 0.2620, train loss: 0.061608, train metric: 0.982031, vali loss: 0.067474, vali metric: 0.981250\n",
            "epoch: 182, time(s): 0.2565, train loss: 0.063112, train metric: 0.982031, vali loss: 0.063585, vali metric: 0.976562\n",
            "epoch: 183, time(s): 0.2503, train loss: 0.062161, train metric: 0.980859, vali loss: 0.062405, vali metric: 0.982812\n",
            "epoch: 184, time(s): 0.2637, train loss: 0.061551, train metric: 0.984375, vali loss: 0.062305, vali metric: 0.982812\n",
            "epoch: 185, time(s): 0.2626, train loss: 0.062155, train metric: 0.980859, vali loss: 0.062128, vali metric: 0.982812\n",
            "epoch: 186, time(s): 0.2690, train loss: 0.061997, train metric: 0.981641, vali loss: 0.066076, vali metric: 0.970313\n",
            "epoch: 187, time(s): 0.2561, train loss: 0.061217, train metric: 0.982422, vali loss: 0.064655, vali metric: 0.982812\n",
            "epoch: 188, time(s): 0.2673, train loss: 0.062576, train metric: 0.983203, vali loss: 0.062252, vali metric: 0.982812\n",
            "epoch: 189, time(s): 0.2606, train loss: 0.062141, train metric: 0.982031, vali loss: 0.062224, vali metric: 0.982812\n",
            "epoch: 190, time(s): 0.2543, train loss: 0.063874, train metric: 0.982422, vali loss: 0.101158, vali metric: 0.957812\n",
            "epoch: 191, time(s): 0.2570, train loss: 0.066428, train metric: 0.976172, vali loss: 0.062679, vali metric: 0.976562\n",
            "epoch: 192, time(s): 0.2700, train loss: 0.060232, train metric: 0.982031, vali loss: 0.061553, vali metric: 0.979688\n",
            "epoch: 193, time(s): 0.2590, train loss: 0.062967, train metric: 0.983203, vali loss: 0.068989, vali metric: 0.981250\n",
            "epoch: 194, time(s): 0.2544, train loss: 0.062434, train metric: 0.980469, vali loss: 0.061838, vali metric: 0.976562\n",
            "epoch: 195, time(s): 0.2536, train loss: 0.060374, train metric: 0.981250, vali loss: 0.061217, vali metric: 0.982812\n",
            "epoch: 196, time(s): 0.2743, train loss: 0.062685, train metric: 0.978125, vali loss: 0.063323, vali metric: 0.976562\n",
            "epoch: 197, time(s): 0.2620, train loss: 0.062055, train metric: 0.981250, vali loss: 0.066543, vali metric: 0.970313\n",
            "epoch: 198, time(s): 0.2530, train loss: 0.062657, train metric: 0.982031, vali loss: 0.064099, vali metric: 0.981250\n",
            "epoch: 199, time(s): 0.2558, train loss: 0.061457, train metric: 0.979688, vali loss: 0.061603, vali metric: 0.979688\n",
            "epoch: 200, time(s): 0.2684, train loss: 0.058721, train metric: 0.983594, vali loss: 0.060737, vali metric: 0.984375\n"
          ]
        }
      ],
      "source": [
        "#training loop (in pytorch you need to write yourself it (alternatively use PyTorch Lightning for more keras-like APIs))\n",
        "import time\n",
        "epochs = 200\n",
        "\n",
        "# define a couple of lists to store loss and accuracy during training for monitorin purposes\n",
        "hist_loss = []\n",
        "hist_metric = []\n",
        "hist_val_loss = []\n",
        "hist_val_metric = []\n",
        "\n",
        "# loop over epochs\n",
        "for epoch in range(epochs):\n",
        "    t0 = time.time()\n",
        "\n",
        "    #training step\n",
        "    model.train() #important!\n",
        "    train_loss = 0.0\n",
        "    train_metric = 0.0\n",
        "    counter = 0\n",
        "    for xb, yb in dataloader_train: #loop over minibatches\n",
        "        counter += 1\n",
        "        xb=xb.type(torch.float).to(device)\n",
        "        yb=yb.type(torch.float).to(device)\n",
        "        pred = model(xb)\n",
        "        loss = loss_func(pred, torch.unsqueeze(yb,1))\n",
        "        metric = my_metric_func(pred, torch.unsqueeze(yb,1))\n",
        "        train_loss += loss.item()\n",
        "        train_metric += metric.item()\n",
        "\n",
        "        # backpropagation\n",
        "        loss.backward()\n",
        "        opt.step()\n",
        "        opt.zero_grad()\n",
        "\n",
        "    train_loss = train_loss/counter\n",
        "    train_metric = train_metric/counter\n",
        "\n",
        "    hist_loss.append(train_loss)\n",
        "    hist_metric.append(train_metric)\n",
        "\n",
        "    # validation step\n",
        "    model.eval() #important!\n",
        "    vali_loss = 0.0\n",
        "    vali_metric = 0.0\n",
        "    counter = 0\n",
        "    with torch.no_grad():\n",
        "      for xb, yb in dataloader_vali:\n",
        "        counter += 1\n",
        "        xb=xb.type(torch.float).to(device)\n",
        "        yb=yb.type(torch.float).to(device)\n",
        "        pred = model(xb)\n",
        "        vloss = loss_func(pred, torch.unsqueeze(yb,1))\n",
        "        vmetric = my_metric_func(pred, torch.unsqueeze(yb,1))\n",
        "        vali_loss += vloss.item()\n",
        "        vali_metric += vmetric.item()\n",
        "\n",
        "    vali_loss = vali_loss/counter\n",
        "    vali_metric = vali_metric/counter\n",
        "\n",
        "    hist_val_loss.append(vali_loss)\n",
        "    hist_val_metric.append(vali_metric)\n",
        "\n",
        "    elapsed_time = time.time()-t0\n",
        "    #current_lr = lr_scheduler.get_last_lr()[0]\n",
        "    #print(\"epoch: %d, time(s): %.4f, train loss: %.6f, train metric: %.6f, vali loss: %.6f, vali metric: %.6f, lr : %1.2e\"\n",
        "    #      % (epoch+1, elapsed_time, train_loss, train_metric, vali_loss, vali_metric, current_lr))\n",
        "    print(\"epoch: %d, time(s): %.4f, train loss: %.6f, train metric: %.6f, vali loss: %.6f, vali metric: %.6f\"\n",
        "          % (epoch+1, elapsed_time, train_loss, train_metric, vali_loss, vali_metric))\n",
        "\n",
        "    # update learning rate schedule\n",
        "    #lr_scheduler.step()"
      ]
    },
    {
      "cell_type": "code",
      "execution_count": 32,
      "metadata": {
        "id": "FZyfz3ZsX5Br",
        "colab": {
          "base_uri": "https://localhost:8080/",
          "height": 637
        },
        "outputId": "39141f49-3e39-4234-93b0-7af5300aaf8e"
      },
      "outputs": [
        {
          "output_type": "execute_result",
          "data": {
            "text/plain": [
              "<matplotlib.legend.Legend at 0x7b7e2d355850>"
            ]
          },
          "metadata": {},
          "execution_count": 32
        },
        {
          "output_type": "display_data",
          "data": {
            "text/plain": [
              "<Figure size 1000x700 with 2 Axes>"
            ],
            "image/png": "[encoded data removed]"
          },
          "metadata": {}
        }
      ],
      "source": [
        "# plot training results (loss and accuracy vs epoch)\n",
        "plt.figure(figsize=(10, 7))\n",
        "plt.subplot(1,2,1)\n",
        "plt.plot(range(1,len(hist_loss)+1), hist_loss, color='green', linestyle='-', label='train loss')\n",
        "plt.plot(range(1,len(hist_val_loss)+1), hist_val_loss, color='blue', linestyle='-', label='validation loss')\n",
        "plt.xlabel('Epochs')\n",
        "plt.ylabel('Loss')\n",
        "plt.ylim(ymin = 0.0)\n",
        "plt.legend()\n",
        "plt.subplot(1,2,2)\n",
        "plt.plot(range(1,len(hist_metric)+1), hist_metric,  color='green', linestyle='-', label='train metric')\n",
        "plt.plot(range(1,len(hist_val_metric)+1),hist_val_metric, color='blue', linestyle='-', label='validation metric')\n",
        "plt.xlabel('Epochs')\n",
        "plt.ylabel('Accuracy')\n",
        "plt.ylim(ymin = 0.0)\n",
        "plt.legend()"
      ]
    },
    {
      "cell_type": "code",
      "execution_count": 33,
      "metadata": {
        "id": "Mw_C3GGq2QHa"
      },
      "outputs": [],
      "source": [
        "#test the trained model\n",
        "\n",
        "# let's test it on cpu\n",
        "model.to(torch.device(\"cpu\"))\n",
        "\n",
        "X_test_pt = X_test_pt.type(torch.float).to(torch.device(\"cpu\"))\n",
        "res = model(X_test_pt)"
      ]
    },
    {
      "cell_type": "code",
      "execution_count": 35,
      "metadata": {
        "colab": {
          "base_uri": "https://localhost:8080/"
        },
        "id": "l829A8uyuRJd",
        "outputId": "9749d15d-943c-4751-9fad-95ff7d871cbd"
      },
      "outputs": [
        {
          "output_type": "stream",
          "name": "stdout",
          "text": [
            "Test accuracy:  0.9775000214576721\n"
          ]
        }
      ],
      "source": [
        "print('Test accuracy: ',my_metric_func(res, torch.unsqueeze(Y_test_pt,1)).item())"
      ]
    }
  ],
  "metadata": {
    "colab": {
      "provenance": [],
      "include_colab_link": true
    },
    "kernelspec": {
      "display_name": "default:Python",
      "language": "python",
      "name": "conda-env-default-py"
    },
    "language_info": {
      "codemirror_mode": {
        "name": "ipython",
        "version": 3
      },
      "file_extension": ".py",
      "mimetype": "text/x-python",
      "name": "python",
      "nbconvert_exporter": "python",
      "pygments_lexer": "ipython3",
      "version": "3.9.7"
    },
    "accelerator": "GPU",
    "gpuClass": "standard"
  },
  "nbformat": 4,
  "nbformat_minor": 0
}