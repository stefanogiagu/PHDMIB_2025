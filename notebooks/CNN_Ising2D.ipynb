{
  "nbformat": 4,
  "nbformat_minor": 0,
  "metadata": {
    "anaconda-cloud": {},
    "kernelspec": {
      "display_name": "Python 3",
      "name": "python3"
    },
    "language_info": {
      "codemirror_mode": {
        "name": "ipython",
        "version": 3
      },
      "file_extension": ".py",
      "mimetype": "text/x-python",
      "name": "python",
      "nbconvert_exporter": "python",
      "pygments_lexer": "ipython3",
      "version": "3.5.2"
    },
    "colab": {
      "provenance": [],
      "machine_shape": "hm",
      "gpuType": "T4",
      "include_colab_link": true
    },
    "accelerator": "GPU"
  },
  "cells": [
    {
      "cell_type": "markdown",
      "metadata": {
        "id": "view-in-github",
        "colab_type": "text"
      },
      "source": [
        "<a href=\"https://colab.research.google.com/github/stefanogiagu/PHDMIB_2025/blob/main/notebooks/CNN_Ising2D.ipynb\" target=\"_parent\"><img src=\"https://colab.research.google.com/assets/colab-badge.svg\" alt=\"Open In Colab\"/></a>"
      ]
    },
    {
      "cell_type": "markdown",
      "metadata": {
        "id": "EGRt2VfXsBRl"
      },
      "source": [
        "# Convolutional NN trained to recognize phases of a 2D Ising Model\n"
      ]
    },
    {
      "cell_type": "code",
      "metadata": {
        "id": "30WstVVD1cLP",
        "colab": {
          "base_uri": "https://localhost:8080/"
        },
        "outputId": "352e5ca3-d4a1-4fde-e318-ee97645b904b"
      },
      "source": [
        "# downlad example of configurations of ising2D\n",
        "!rm -rf ising_conf.dat.gz\n",
        "!rm -rf ising_conf.dat\n",
        "!rm -rf ising_label.dat.gz\n",
        "!rm -rf ising_label.dat\n",
        "!wget http://giagu.web.cern.ch/giagu/CERN/ising_conf.dat.gz\n",
        "!wget http://giagu.web.cern.ch/giagu/CERN/ising_label.dat.gz\n",
        "!gunzip ising_conf.dat.gz\n",
        "!gunzip ising_label.dat.gz"
      ],
      "execution_count": 1,
      "outputs": [
        {
          "output_type": "stream",
          "name": "stdout",
          "text": [
            "--2025-06-18 12:12:27--  http://giagu.web.cern.ch/giagu/CERN/ising_conf.dat.gz\n",
            "Resolving giagu.web.cern.ch (giagu.web.cern.ch)... 188.185.5.88, 188.185.50.104, 188.185.18.46, ...\n",
            "Connecting to giagu.web.cern.ch (giagu.web.cern.ch)|188.185.5.88|:80... connected.\n",
            "HTTP request sent, awaiting response... 302 Found\n",
            "Location: https://giagu.web.cern.ch/giagu/CERN/ising_conf.dat.gz [following]\n",
            "--2025-06-18 12:12:28--  https://giagu.web.cern.ch/giagu/CERN/ising_conf.dat.gz\n",
            "Connecting to giagu.web.cern.ch (giagu.web.cern.ch)|188.185.5.88|:443... connected.\n",
            "HTTP request sent, awaiting response... 200 OK\n",
            "Length: 2953855 (2.8M) [application/x-gzip]\n",
            "Saving to: ‘ising_conf.dat.gz’\n",
            "\n",
            "ising_conf.dat.gz   100%[===================>]   2.82M  2.73MB/s    in 1.0s    \n",
            "\n",
            "2025-06-18 12:12:29 (2.73 MB/s) - ‘ising_conf.dat.gz’ saved [2953855/2953855]\n",
            "\n",
            "--2025-06-18 12:12:30--  http://giagu.web.cern.ch/giagu/CERN/ising_label.dat.gz\n",
            "Resolving giagu.web.cern.ch (giagu.web.cern.ch)... 188.185.50.104, 188.185.18.46, 188.185.5.88, ...\n",
            "Connecting to giagu.web.cern.ch (giagu.web.cern.ch)|188.185.50.104|:80... connected.\n",
            "HTTP request sent, awaiting response... 302 Found\n",
            "Location: https://giagu.web.cern.ch/giagu/CERN/ising_label.dat.gz [following]\n",
            "--2025-06-18 12:12:30--  https://giagu.web.cern.ch/giagu/CERN/ising_label.dat.gz\n",
            "Connecting to giagu.web.cern.ch (giagu.web.cern.ch)|188.185.50.104|:443... connected.\n",
            "HTTP request sent, awaiting response... 200 OK\n",
            "Length: 86723 (85K) [application/x-gzip]\n",
            "Saving to: ‘ising_label.dat.gz’\n",
            "\n",
            "ising_label.dat.gz  100%[===================>]  84.69K   262KB/s    in 0.3s    \n",
            "\n",
            "2025-06-18 12:12:31 (262 KB/s) - ‘ising_label.dat.gz’ saved [86723/86723]\n",
            "\n"
          ]
        }
      ]
    },
    {
      "cell_type": "markdown",
      "metadata": {
        "id": "UmiJY2e0sBRn"
      },
      "source": [
        "### Basic Information on the 2D Ising Model ###\n",
        "\n",
        "Details (theoretical definition and simulation) are provided in the [note](https://vixra.org/pdf/1710.0021v2.pdf).\n",
        "\n",
        "The system consists of a set of spins (which can only take the values -1 (down) and +1 (up)) interacting with each other, located at the vertices of a two-dimensional square lattice. The dynamics of the system (in the absence of an external magnetic field) is described by the Hamiltonian:\n",
        "\n",
        "$$ H = -J\\sum_{\\langle ij\\rangle}S_{i}S_j,\\qquad \\qquad S_j\\in\\{\\pm 1\\} $$\n",
        "\n",
        "where the lattice indices $i,j$ refer to nearest neighbors on a 2D square lattice of side length $L$, and $J$ is an arbitrary scale parameter that defines the interaction energy between the spins $S_i$. Periodic boundary conditions are used on the lattice.\n",
        "\n",
        "It can be shown that this system exhibits a phase transition in the thermodynamic limit, from an ordered state where all spins are aligned (an ordered ferromagnet) at zero temperature, to a disordered phase with completely random spins at high temperature. The critical temperature at which the transition occurs is given by:\n",
        "\n",
        "$$T_c/J=1/\\log(1+\\sqrt{2})\\approx 2.26$$.\n",
        "\n",
        "\n",
        "**Dataset:**\n",
        "\n",
        "A dataset of 25,000 configurations is provided, with $T/J$ uniformly distributed in the range $[0,5]$, for a 2D Ising model on a $28\\times 28$ lattice, simulated using a simple Metropolis-type Monte Carlo method.\n",
        "\n",
        "The dataset is available in two files:\n",
        "* configurations: *ising_conf.dat*\n",
        "* labels: *ising_label.dat*\n",
        "\n",
        "Note: the configurations are stored in text files, which, when read with NumPy (*np.loadtxt*), return tensors of shape *(25000×28, 28)*. These need to be reshaped into format *(25000, 1, 28, 28)* to be used with convolutional layers in pytorch."
      ]
    },
    {
      "cell_type": "markdown",
      "metadata": {
        "id": "Cx1fqjsbsBRo"
      },
      "source": [
        "**Part 1:**\n",
        "\n",
        "Loading, and pre-procesing of the dataset:L\n",
        "\n",
        "1.   read the configurations and save it in a numpy tensor *data(25000,28,28)*, using the method *np.loadtxt* of numpy. Same for the tempartures: *temp(25000,1)*\n",
        "2.   we divide the samples in three categories depending on the temeparture:\n",
        "* ordered: $T<2.0$\n",
        "* critical: $2.0\\leq T\\leq 2.5$\n",
        "* disordered: $T>2.5$\n",
        "\n",
        "  building a new numpy array of labels *(0,1,2)* associated to each configuration on *data*.\n"
      ]
    },
    {
      "cell_type": "code",
      "metadata": {
        "colab": {
          "base_uri": "https://localhost:8080/"
        },
        "id": "1SkcaQ8vXH-y",
        "outputId": "4457e0af-cc08-40a4-b15e-2fcfeba0de88"
      },
      "source": [
        "import numpy as np\n",
        "import matplotlib.pyplot as plt\n",
        "\n",
        "rnd_ini = 123456\n",
        "np.random.seed(rnd_ini) # shuffle random seed generator\n",
        "\n",
        "# Ising model parameters\n",
        "L=28 # latice size\n",
        "J=1.0 # Ising interaction (1 ferromagnetic, -1 anti-ferromagnetic)\n",
        "T_c=2.26 # critical temperature\n",
        "\n",
        "#read the configurations from the text file (25k esempi oguno da 28x28 spin)\n",
        "data = np.loadtxt('ising_conf.dat')\n",
        "data = data.reshape(25000,28,28)\n",
        "print('data shape: ',data.shape)\n",
        "\n",
        "#read the associated temperature:\n",
        "temp = np.loadtxt('ising_label.dat')\n",
        "print('temp shape: ',temp.shape)"
      ],
      "execution_count": 3,
      "outputs": [
        {
          "output_type": "stream",
          "name": "stdout",
          "text": [
            "data shape:  (25000, 28, 28)\n",
            "temp shape:  (25000,)\n"
          ]
        }
      ]
    },
    {
      "cell_type": "markdown",
      "source": [
        "Compute and plot the distribution of the average magnetization of the configurations:\n",
        "\n",
        "$$M = \\frac{1}{N}\\sum_i^N S_i$$"
      ],
      "metadata": {
        "id": "f5UXRtBi3bZA"
      }
    },
    {
      "cell_type": "code",
      "source": [
        "M = np.sum(data.reshape(25000,28*28), axis=1)/(28*28)\n",
        "\n",
        "plt.figure(figsize=(10,5))\n",
        "plt.subplot(1,2,1)\n",
        "plt.scatter(temp, M, s=0.1)\n",
        "plt.xlabel('T')\n",
        "plt.ylabel('average Magnetization M')\n",
        "plt.subplot(1,2,2)\n",
        "plt.hist(M, bins=20)\n",
        "plt.xlabel('average Magnetization M')\n",
        "plt.draw()"
      ],
      "metadata": {
        "colab": {
          "base_uri": "https://localhost:8080/",
          "height": 465
        },
        "id": "50WkGI-G27OK",
        "outputId": "ffcc031c-d1c8-44bf-9a25-c6f04d566338"
      },
      "execution_count": 4,
      "outputs": [
        {
          "output_type": "display_data",
          "data": {
            "text/plain": [
              "<Figure size 1000x500 with 2 Axes>"
            ],
            "image/png": "[encoded data removed]"
          },
          "metadata": {}
        }
      ]
    },
    {
      "cell_type": "code",
      "metadata": {
        "colab": {
          "base_uri": "https://localhost:8080/"
        },
        "id": "Vp8ME2CCYXi2",
        "outputId": "53bcf13f-38b3-47e9-c415-a346b021cc72"
      },
      "source": [
        "# divide the data in 3 groups on the base of the phase state (ordered, critical disordered)\n",
        "# T/J < 2.0 ordered\n",
        "# T/J in [2.0,2.5] critical\n",
        "# T/J > 2.5 disordered\n",
        "\n",
        "ord_sele = (temp < 2.0)\n",
        "cri_sele = ((temp >= 2.0) & (temp <= 2.5))\n",
        "dis_sele = (temp > 2.5)\n",
        "\n",
        "labels = np.zeros(shape=temp.shape)\n",
        "labels[ord_sele]=0\n",
        "labels[cri_sele]=1\n",
        "labels[dis_sele]=2\n",
        "\n",
        "print('labels shape: ',labels.shape)\n",
        "print('# conf. ordered: ', labels[ord_sele].shape[0])\n",
        "print('# conf. critical: ', labels[cri_sele].shape[0])\n",
        "print('# conf. disordered: ', labels[dis_sele].shape[0])"
      ],
      "execution_count": 5,
      "outputs": [
        {
          "output_type": "stream",
          "name": "stdout",
          "text": [
            "labels shape:  (25000,)\n",
            "# conf. ordered:  9953\n",
            "# conf. critical:  2563\n",
            "# conf. disordered:  12484\n"
          ]
        }
      ]
    },
    {
      "cell_type": "code",
      "metadata": {
        "colab": {
          "base_uri": "https://localhost:8080/",
          "height": 401
        },
        "id": "bpRqzaTZZrLJ",
        "outputId": "200d6a38-8a77-4041-dd9f-f4f5622305b2"
      },
      "source": [
        "# plot an example of each group\n",
        "\n",
        "# set colorbar map\n",
        "cmap_args=dict(cmap='plasma_r')\n",
        "\n",
        "# plot states\n",
        "fig, axarr = plt.subplots(nrows=1, ncols=3)\n",
        "\n",
        "ieve = 11\n",
        "axarr[0].imshow((data[ord_sele])[ieve],**cmap_args)\n",
        "axarr[0].set_title('ordered phase',fontsize=16)\n",
        "axarr[0].tick_params(labelsize=16)\n",
        "\n",
        "axarr[1].imshow((data[cri_sele])[ieve],**cmap_args)\n",
        "axarr[1].set_title('critical region',fontsize=16)\n",
        "axarr[1].tick_params(labelsize=16)\n",
        "\n",
        "im=axarr[2].imshow((data[dis_sele])[ieve],**cmap_args)\n",
        "axarr[2].set_title('disordered phase',fontsize=16)\n",
        "axarr[2].tick_params(labelsize=16)\n",
        "\n",
        "fig.subplots_adjust(right=2.0)\n",
        "\n",
        "plt.show()"
      ],
      "execution_count": 6,
      "outputs": [
        {
          "output_type": "display_data",
          "data": {
            "text/plain": [
              "<Figure size 640x480 with 3 Axes>"
            ],
            "image/png": "[encoded data removed]"
          },
          "metadata": {}
        }
      ]
    },
    {
      "cell_type": "markdown",
      "source": [
        "**Part 2**:\n",
        "\n",
        "Implement and train a Convolutional-NN for the 3-classes classification task"
      ],
      "metadata": {
        "id": "HaK146Sw45rY"
      }
    },
    {
      "cell_type": "code",
      "source": [
        "import torch\n",
        "import torchvision\n",
        "print(torch.__version__)\n",
        "print(torchvision.__version__)"
      ],
      "metadata": {
        "colab": {
          "base_uri": "https://localhost:8080/"
        },
        "id": "s9cxdKOg5zmn",
        "outputId": "096b0868-2520-4fdf-84fe-a61e36536a43"
      },
      "execution_count": 7,
      "outputs": [
        {
          "output_type": "stream",
          "name": "stdout",
          "text": [
            "2.6.0+cu124\n",
            "0.21.0+cu124\n"
          ]
        }
      ]
    },
    {
      "cell_type": "code",
      "metadata": {
        "id": "8VcSVs56fB4K",
        "colab": {
          "base_uri": "https://localhost:8080/"
        },
        "outputId": "c7e38a37-7ea4-4339-d7f0-a57b151bd598"
      },
      "source": [
        "if torch.cuda.is_available():\n",
        "  print('Number of available GPUs: ',torch.cuda.device_count())\n",
        "  for i in range(0,torch.cuda.device_count()):\n",
        "    print(torch.cuda.get_device_name(i))\n",
        "\n",
        "# sif GPU available set device to 'cuda' otherwise to 'cpu'\n",
        "device = ('cuda' if torch.cuda.is_available() else 'cpu')\n",
        "print(f\"Computation device: {device}\\n\")"
      ],
      "execution_count": 8,
      "outputs": [
        {
          "output_type": "stream",
          "name": "stdout",
          "text": [
            "Number of available GPUs:  1\n",
            "Tesla T4\n",
            "Computation device: cuda\n",
            "\n"
          ]
        }
      ]
    },
    {
      "cell_type": "code",
      "source": [
        "# CNN expect shape of input images like: (B, Channels, hdim, vdim), in our case (B, 1, 28, 28)\n",
        "# we need to add a dummy dimension to the vectors\n",
        "\n",
        "data = data.reshape(25000,28,28,1)\n",
        "\n",
        "\n",
        "# convert data, temp and labels in torch tensors\n",
        "data_tensor = torch.from_numpy(data).type(torch.float32)\n",
        "# move last index as second index\n",
        "data_tensor = data_tensor.permute(0,3,1,2)\n",
        "\n",
        "temp_tensor = torch.from_numpy(temp).type(torch.float32)\n",
        "labels_tensor = torch.from_numpy(labels).type(torch.long)\n",
        "\n",
        "print(data_tensor.shape)\n",
        "print(temp_tensor.shape)\n",
        "print(labels_tensor.shape)\n",
        "\n",
        "# create datasets\n",
        "dataset = torch.utils.data.TensorDataset(data_tensor, labels_tensor, temp_tensor)\n",
        "\n",
        "# split dataset in training, validation and test\n",
        "\n",
        "ds_train, ds_vali, ds_test = torch.utils.data.random_split(dataset, [0.7,0.2,0.1])\n",
        "\n",
        "\n",
        "print('Trainign set size: ', len(ds_train))\n",
        "print('Validation set size: ',len(ds_vali))\n",
        "print('Test set size: ',len(ds_test))\n",
        "\n",
        "# create dataloader\n",
        "batch_size = 128\n",
        "dl_train = torch.utils.data.DataLoader(ds_train, batch_size=batch_size, shuffle=True, num_workers=2, drop_last=True)\n",
        "dl_vali = torch.utils.data.DataLoader(ds_vali, batch_size=batch_size, shuffle=True, num_workers=2, drop_last=True)\n",
        "dl_test = torch.utils.data.DataLoader(ds_test, batch_size=1, shuffle=True, num_workers=2)"
      ],
      "metadata": {
        "colab": {
          "base_uri": "https://localhost:8080/"
        },
        "id": "HXF0iluE7D2P",
        "outputId": "b3f9970d-36c3-465a-c97a-7050cf295f48"
      },
      "execution_count": 9,
      "outputs": [
        {
          "output_type": "stream",
          "name": "stdout",
          "text": [
            "torch.Size([25000, 1, 28, 28])\n",
            "torch.Size([25000])\n",
            "torch.Size([25000])\n",
            "Trainign set size:  17500\n",
            "Validation set size:  5000\n",
            "Test set size:  2500\n"
          ]
        }
      ]
    },
    {
      "cell_type": "code",
      "source": [
        "# Convolutional Neural Network (VGG-like architecture)\n",
        "\n",
        "from torch import nn\n",
        "import torch.nn.functional as F\n",
        "\n",
        "class myVGG(nn.Module):\n",
        "  def __init__(self):\n",
        "    super(myVGG, self).__init__()\n",
        "\n",
        "    # first convolutional block\n",
        "    self.conv1 = nn.Conv2d(in_channels=1, out_channels=8, kernel_size=(3,3))\n",
        "    self.pool1 = nn.MaxPool2d(kernel_size=(2,2))\n",
        "\n",
        "    # secondo convolutional block\n",
        "    self.conv2 = nn.Conv2d(in_channels=8, out_channels=16, kernel_size=(3,3))\n",
        "    self.pool2 = nn.MaxPool2d(kernel_size=(2,2))\n",
        "\n",
        "    # classification head (MLP)\n",
        "    self.flatten = nn.Flatten() #flatten layer\n",
        "    self.drop1 = nn.Dropout(p=0.5) #droput\n",
        "    self.fc1 = nn.Linear(in_features=400, out_features=32)\n",
        "    self.drop2 = nn.Dropout(p=0.5) #dropout\n",
        "    self.fc2 = nn.Linear(in_features=32, out_features=32)\n",
        "    self.fc3 = nn.Linear(in_features=32, out_features=3)\n",
        "\n",
        "  # forward pass: x (input) -> out\n",
        "  def forward(self, x):\n",
        "    x = F.relu(self.conv1(x))\n",
        "    x = self.pool1(x)\n",
        "    x = F.relu(self.conv2(x))\n",
        "    x = self.pool2(x)\n",
        "\n",
        "    #flatten\n",
        "    x = self.flatten(x)\n",
        "\n",
        "    x = self.drop1(x)\n",
        "    x = F.relu(self.fc1(x))\n",
        "    x = self.drop2(x)\n",
        "    x = F.relu(self.fc2(x))\n",
        "\n",
        "    out = self.fc3(x) #no softmax needed as already applied in the CrossEntropyLoss in pytorch\n",
        "    return out"
      ],
      "metadata": {
        "id": "ZfAZzs1v53tT"
      },
      "execution_count": 10,
      "outputs": []
    },
    {
      "cell_type": "code",
      "source": [
        "# printout of the model\n",
        "\n",
        "model = myVGG()\n",
        "print(model)\n",
        "\n",
        "from torchsummary import summary\n",
        "if torch.cuda.is_available():\n",
        "  summary(model.cuda(), input_size=(1,28,28))\n",
        "else:\n",
        "  summary(model, input_size=(1,28,28))"
      ],
      "metadata": {
        "colab": {
          "base_uri": "https://localhost:8080/"
        },
        "id": "D11f_m7Q6VGz",
        "outputId": "4238d3bc-1a6d-45dd-a1a8-667fbefc8a8d"
      },
      "execution_count": 10,
      "outputs": [
        {
          "output_type": "stream",
          "name": "stdout",
          "text": [
            "myVGG(\n",
            "  (conv1): Conv2d(1, 8, kernel_size=(3, 3), stride=(1, 1))\n",
            "  (pool1): MaxPool2d(kernel_size=(2, 2), stride=(2, 2), padding=0, dilation=1, ceil_mode=False)\n",
            "  (conv2): Conv2d(8, 16, kernel_size=(3, 3), stride=(1, 1))\n",
            "  (pool2): MaxPool2d(kernel_size=(2, 2), stride=(2, 2), padding=0, dilation=1, ceil_mode=False)\n",
            "  (flatten): Flatten(start_dim=1, end_dim=-1)\n",
            "  (drop1): Dropout(p=0.5, inplace=False)\n",
            "  (fc1): Linear(in_features=400, out_features=32, bias=True)\n",
            "  (drop2): Dropout(p=0.5, inplace=False)\n",
            "  (fc2): Linear(in_features=32, out_features=32, bias=True)\n",
            "  (fc3): Linear(in_features=32, out_features=3, bias=True)\n",
            ")\n",
            "----------------------------------------------------------------\n",
            "        Layer (type)               Output Shape         Param #\n",
            "================================================================\n",
            "            Conv2d-1            [-1, 8, 26, 26]              80\n",
            "         MaxPool2d-2            [-1, 8, 13, 13]               0\n",
            "            Conv2d-3           [-1, 16, 11, 11]           1,168\n",
            "         MaxPool2d-4             [-1, 16, 5, 5]               0\n",
            "           Flatten-5                  [-1, 400]               0\n",
            "           Dropout-6                  [-1, 400]               0\n",
            "            Linear-7                   [-1, 32]          12,832\n",
            "           Dropout-8                   [-1, 32]               0\n",
            "            Linear-9                   [-1, 32]           1,056\n",
            "           Linear-10                    [-1, 3]              99\n",
            "================================================================\n",
            "Total params: 15,235\n",
            "Trainable params: 15,235\n",
            "Non-trainable params: 0\n",
            "----------------------------------------------------------------\n",
            "Input size (MB): 0.00\n",
            "Forward/backward pass size (MB): 0.08\n",
            "Params size (MB): 0.06\n",
            "Estimated Total Size (MB): 0.14\n",
            "----------------------------------------------------------------\n"
          ]
        }
      ]
    },
    {
      "cell_type": "code",
      "source": [
        "# test di un batch sul modello non addestrato per vedere che le cose funzionino\n",
        "\n",
        "model = myVGG()\n",
        "model.to(device)\n",
        "\n",
        "feat, label, temp = next(iter(dl_train))\n",
        "\n",
        "feat=feat.to(device)\n",
        "label=label.to(device)\n",
        "\n",
        "out = model(feat)\n",
        "\n",
        "print(out.shape)\n",
        "print(out[0])"
      ],
      "metadata": {
        "colab": {
          "base_uri": "https://localhost:8080/"
        },
        "id": "Am5EmOim69uM",
        "outputId": "04e00981-44ae-4bb5-ccb5-d71fd2f4ab6d"
      },
      "execution_count": 11,
      "outputs": [
        {
          "output_type": "stream",
          "name": "stdout",
          "text": [
            "torch.Size([128, 3])\n",
            "tensor([-0.0048,  0.0257, -0.0464], device='cuda:0', grad_fn=<SelectBackward0>)\n"
          ]
        }
      ]
    },
    {
      "cell_type": "code",
      "source": [
        "#install torchmetrics: collection of useful PyTorch metrics implementations and an easy-to-use API to create custom metrics\n",
        "%pip install torchmetrics"
      ],
      "metadata": {
        "colab": {
          "base_uri": "https://localhost:8080/"
        },
        "id": "aQdt5ynI-PKk",
        "outputId": "e0a0fa2d-f1fc-475c-cf35-a76d514639bd"
      },
      "execution_count": 12,
      "outputs": [
        {
          "output_type": "stream",
          "name": "stdout",
          "text": [
            "Collecting torchmetrics\n",
            "  Downloading torchmetrics-1.7.3-py3-none-any.whl.metadata (21 kB)\n",
            "Requirement already satisfied: numpy>1.20.0 in /usr/local/lib/python3.11/dist-packages (from torchmetrics) (2.0.2)\n",
            "Requirement already satisfied: packaging>17.1 in /usr/local/lib/python3.11/dist-packages (from torchmetrics) (24.2)\n",
            "Requirement already satisfied: torch>=2.0.0 in /usr/local/lib/python3.11/dist-packages (from torchmetrics) (2.6.0+cu124)\n",
            "Collecting lightning-utilities>=0.8.0 (from torchmetrics)\n",
            "  Downloading lightning_utilities-0.14.3-py3-none-any.whl.metadata (5.6 kB)\n",
            "Requirement already satisfied: setuptools in /usr/local/lib/python3.11/dist-packages (from lightning-utilities>=0.8.0->torchmetrics) (75.2.0)\n",
            "Requirement already satisfied: typing_extensions in /usr/local/lib/python3.11/dist-packages (from lightning-utilities>=0.8.0->torchmetrics) (4.14.0)\n",
            "Requirement already satisfied: filelock in /usr/local/lib/python3.11/dist-packages (from torch>=2.0.0->torchmetrics) (3.18.0)\n",
            "Requirement already satisfied: networkx in /usr/local/lib/python3.11/dist-packages (from torch>=2.0.0->torchmetrics) (3.5)\n",
            "Requirement already satisfied: jinja2 in /usr/local/lib/python3.11/dist-packages (from torch>=2.0.0->torchmetrics) (3.1.6)\n",
            "Requirement already satisfied: fsspec in /usr/local/lib/python3.11/dist-packages (from torch>=2.0.0->torchmetrics) (2025.3.2)\n",
            "Collecting nvidia-cuda-nvrtc-cu12==12.4.127 (from torch>=2.0.0->torchmetrics)\n",
            "  Downloading nvidia_cuda_nvrtc_cu12-12.4.127-py3-none-manylinux2014_x86_64.whl.metadata (1.5 kB)\n",
            "Collecting nvidia-cuda-runtime-cu12==12.4.127 (from torch>=2.0.0->torchmetrics)\n",
            "  Downloading nvidia_cuda_runtime_cu12-12.4.127-py3-none-manylinux2014_x86_64.whl.metadata (1.5 kB)\n",
            "Collecting nvidia-cuda-cupti-cu12==12.4.127 (from torch>=2.0.0->torchmetrics)\n",
            "  Downloading nvidia_cuda_cupti_cu12-12.4.127-py3-none-manylinux2014_x86_64.whl.metadata (1.6 kB)\n",
            "Collecting nvidia-cudnn-cu12==9.1.0.70 (from torch>=2.0.0->torchmetrics)\n",
            "  Downloading nvidia_cudnn_cu12-9.1.0.70-py3-none-manylinux2014_x86_64.whl.metadata (1.6 kB)\n",
            "Collecting nvidia-cublas-cu12==12.4.5.8 (from torch>=2.0.0->torchmetrics)\n",
            "  Downloading nvidia_cublas_cu12-12.4.5.8-py3-none-manylinux2014_x86_64.whl.metadata (1.5 kB)\n",
            "Collecting nvidia-cufft-cu12==11.2.1.3 (from torch>=2.0.0->torchmetrics)\n",
            "  Downloading nvidia_cufft_cu12-11.2.1.3-py3-none-manylinux2014_x86_64.whl.metadata (1.5 kB)\n",
            "Collecting nvidia-curand-cu12==10.3.5.147 (from torch>=2.0.0->torchmetrics)\n",
            "  Downloading nvidia_curand_cu12-10.3.5.147-py3-none-manylinux2014_x86_64.whl.metadata (1.5 kB)\n",
            "Collecting nvidia-cusolver-cu12==11.6.1.9 (from torch>=2.0.0->torchmetrics)\n",
            "  Downloading nvidia_cusolver_cu12-11.6.1.9-py3-none-manylinux2014_x86_64.whl.metadata (1.6 kB)\n",
            "Collecting nvidia-cusparse-cu12==12.3.1.170 (from torch>=2.0.0->torchmetrics)\n",
            "  Downloading nvidia_cusparse_cu12-12.3.1.170-py3-none-manylinux2014_x86_64.whl.metadata (1.6 kB)\n",
            "Requirement already satisfied: nvidia-cusparselt-cu12==0.6.2 in /usr/local/lib/python3.11/dist-packages (from torch>=2.0.0->torchmetrics) (0.6.2)\n",
            "Requirement already satisfied: nvidia-nccl-cu12==2.21.5 in /usr/local/lib/python3.11/dist-packages (from torch>=2.0.0->torchmetrics) (2.21.5)\n",
            "Requirement already satisfied: nvidia-nvtx-cu12==12.4.127 in /usr/local/lib/python3.11/dist-packages (from torch>=2.0.0->torchmetrics) (12.4.127)\n",
            "Collecting nvidia-nvjitlink-cu12==12.4.127 (from torch>=2.0.0->torchmetrics)\n",
            "  Downloading nvidia_nvjitlink_cu12-12.4.127-py3-none-manylinux2014_x86_64.whl.metadata (1.5 kB)\n",
            "Requirement already satisfied: triton==3.2.0 in /usr/local/lib/python3.11/dist-packages (from torch>=2.0.0->torchmetrics) (3.2.0)\n",
            "Requirement already satisfied: sympy==1.13.1 in /usr/local/lib/python3.11/dist-packages (from torch>=2.0.0->torchmetrics) (1.13.1)\n",
            "Requirement already satisfied: mpmath<1.4,>=1.1.0 in /usr/local/lib/python3.11/dist-packages (from sympy==1.13.1->torch>=2.0.0->torchmetrics) (1.3.0)\n",
            "Requirement already satisfied: MarkupSafe>=2.0 in /usr/local/lib/python3.11/dist-packages (from jinja2->torch>=2.0.0->torchmetrics) (3.0.2)\n",
            "Downloading torchmetrics-1.7.3-py3-none-any.whl (962 kB)\n",
            "\u001b[2K   \u001b[90m━━━━━━━━━━━━━━━━━━━━━━━━━━━━━━━━━━━━━━━━\u001b[0m \u001b[32m962.6/962.6 kB\u001b[0m \u001b[31m15.3 MB/s\u001b[0m eta \u001b[36m0:00:00\u001b[0m\n",
            "\u001b[?25hDownloading lightning_utilities-0.14.3-py3-none-any.whl (28 kB)\n",
            "Downloading nvidia_cublas_cu12-12.4.5.8-py3-none-manylinux2014_x86_64.whl (363.4 MB)\n",
            "\u001b[2K   \u001b[90m━━━━━━━━━━━━━━━━━━━━━━━━━━━━━━━━━━━━━━━━\u001b[0m \u001b[32m363.4/363.4 MB\u001b[0m \u001b[31m3.2 MB/s\u001b[0m eta \u001b[36m0:00:00\u001b[0m\n",
            "\u001b[?25hDownloading nvidia_cuda_cupti_cu12-12.4.127-py3-none-manylinux2014_x86_64.whl (13.8 MB)\n",
            "\u001b[2K   \u001b[90m━━━━━━━━━━━━━━━━━━━━━━━━━━━━━━━━━━━━━━━━\u001b[0m \u001b[32m13.8/13.8 MB\u001b[0m \u001b[31m119.2 MB/s\u001b[0m eta \u001b[36m0:00:00\u001b[0m\n",
            "\u001b[?25hDownloading nvidia_cuda_nvrtc_cu12-12.4.127-py3-none-manylinux2014_x86_64.whl (24.6 MB)\n",
            "\u001b[2K   \u001b[90m━━━━━━━━━━━━━━━━━━━━━━━━━━━━━━━━━━━━━━━━\u001b[0m \u001b[32m24.6/24.6 MB\u001b[0m \u001b[31m109.6 MB/s\u001b[0m eta \u001b[36m0:00:00\u001b[0m\n",
            "\u001b[?25hDownloading nvidia_cuda_runtime_cu12-12.4.127-py3-none-manylinux2014_x86_64.whl (883 kB)\n",
            "\u001b[2K   \u001b[90m━━━━━━━━━━━━━━━━━━━━━━━━━━━━━━━━━━━━━━━━\u001b[0m \u001b[32m883.7/883.7 kB\u001b[0m \u001b[31m61.4 MB/s\u001b[0m eta \u001b[36m0:00:00\u001b[0m\n",
            "\u001b[?25hDownloading nvidia_cudnn_cu12-9.1.0.70-py3-none-manylinux2014_x86_64.whl (664.8 MB)\n",
            "\u001b[2K   \u001b[90m━━━━━━━━━━━━━━━━━━━━━━━━━━━━━━━━━━━━━━━━\u001b[0m \u001b[32m664.8/664.8 MB\u001b[0m \u001b[31m2.5 MB/s\u001b[0m eta \u001b[36m0:00:00\u001b[0m\n",
            "\u001b[?25hDownloading nvidia_cufft_cu12-11.2.1.3-py3-none-manylinux2014_x86_64.whl (211.5 MB)\n",
            "\u001b[2K   \u001b[90m━━━━━━━━━━━━━━━━━━━━━━━━━━━━━━━━━━━━━━━━\u001b[0m \u001b[32m211.5/211.5 MB\u001b[0m \u001b[31m4.9 MB/s\u001b[0m eta \u001b[36m0:00:00\u001b[0m\n",
            "\u001b[?25hDownloading nvidia_curand_cu12-10.3.5.147-py3-none-manylinux2014_x86_64.whl (56.3 MB)\n",
            "\u001b[2K   \u001b[90m━━━━━━━━━━━━━━━━━━━━━━━━━━━━━━━━━━━━━━━━\u001b[0m \u001b[32m56.3/56.3 MB\u001b[0m \u001b[31m37.8 MB/s\u001b[0m eta \u001b[36m0:00:00\u001b[0m\n",
            "\u001b[?25hDownloading nvidia_cusolver_cu12-11.6.1.9-py3-none-manylinux2014_x86_64.whl (127.9 MB)\n",
            "\u001b[2K   \u001b[90m━━━━━━━━━━━━━━━━━━━━━━━━━━━━━━━━━━━━━━━━\u001b[0m \u001b[32m127.9/127.9 MB\u001b[0m \u001b[31m18.4 MB/s\u001b[0m eta \u001b[36m0:00:00\u001b[0m\n",
            "\u001b[?25hDownloading nvidia_cusparse_cu12-12.3.1.170-py3-none-manylinux2014_x86_64.whl (207.5 MB)\n",
            "\u001b[2K   \u001b[90m━━━━━━━━━━━━━━━━━━━━━━━━━━━━━━━━━━━━━━━━\u001b[0m \u001b[32m207.5/207.5 MB\u001b[0m \u001b[31m4.3 MB/s\u001b[0m eta \u001b[36m0:00:00\u001b[0m\n",
            "\u001b[?25hDownloading nvidia_nvjitlink_cu12-12.4.127-py3-none-manylinux2014_x86_64.whl (21.1 MB)\n",
            "\u001b[2K   \u001b[90m━━━━━━━━━━━━━━━━━━━━━━━━━━━━━━━━━━━━━━━━\u001b[0m \u001b[32m21.1/21.1 MB\u001b[0m \u001b[31m73.2 MB/s\u001b[0m eta \u001b[36m0:00:00\u001b[0m\n",
            "\u001b[?25hInstalling collected packages: nvidia-nvjitlink-cu12, nvidia-curand-cu12, nvidia-cufft-cu12, nvidia-cuda-runtime-cu12, nvidia-cuda-nvrtc-cu12, nvidia-cuda-cupti-cu12, nvidia-cublas-cu12, lightning-utilities, nvidia-cusparse-cu12, nvidia-cudnn-cu12, nvidia-cusolver-cu12, torchmetrics\n",
            "  Attempting uninstall: nvidia-nvjitlink-cu12\n",
            "    Found existing installation: nvidia-nvjitlink-cu12 12.5.82\n",
            "    Uninstalling nvidia-nvjitlink-cu12-12.5.82:\n",
            "      Successfully uninstalled nvidia-nvjitlink-cu12-12.5.82\n",
            "  Attempting uninstall: nvidia-curand-cu12\n",
            "    Found existing installation: nvidia-curand-cu12 10.3.6.82\n",
            "    Uninstalling nvidia-curand-cu12-10.3.6.82:\n",
            "      Successfully uninstalled nvidia-curand-cu12-10.3.6.82\n",
            "  Attempting uninstall: nvidia-cufft-cu12\n",
            "    Found existing installation: nvidia-cufft-cu12 11.2.3.61\n",
            "    Uninstalling nvidia-cufft-cu12-11.2.3.61:\n",
            "      Successfully uninstalled nvidia-cufft-cu12-11.2.3.61\n",
            "  Attempting uninstall: nvidia-cuda-runtime-cu12\n",
            "    Found existing installation: nvidia-cuda-runtime-cu12 12.5.82\n",
            "    Uninstalling nvidia-cuda-runtime-cu12-12.5.82:\n",
            "      Successfully uninstalled nvidia-cuda-runtime-cu12-12.5.82\n",
            "  Attempting uninstall: nvidia-cuda-nvrtc-cu12\n",
            "    Found existing installation: nvidia-cuda-nvrtc-cu12 12.5.82\n",
            "    Uninstalling nvidia-cuda-nvrtc-cu12-12.5.82:\n",
            "      Successfully uninstalled nvidia-cuda-nvrtc-cu12-12.5.82\n",
            "  Attempting uninstall: nvidia-cuda-cupti-cu12\n",
            "    Found existing installation: nvidia-cuda-cupti-cu12 12.5.82\n",
            "    Uninstalling nvidia-cuda-cupti-cu12-12.5.82:\n",
            "      Successfully uninstalled nvidia-cuda-cupti-cu12-12.5.82\n",
            "  Attempting uninstall: nvidia-cublas-cu12\n",
            "    Found existing installation: nvidia-cublas-cu12 12.5.3.2\n",
            "    Uninstalling nvidia-cublas-cu12-12.5.3.2:\n",
            "      Successfully uninstalled nvidia-cublas-cu12-12.5.3.2\n",
            "  Attempting uninstall: nvidia-cusparse-cu12\n",
            "    Found existing installation: nvidia-cusparse-cu12 12.5.1.3\n",
            "    Uninstalling nvidia-cusparse-cu12-12.5.1.3:\n",
            "      Successfully uninstalled nvidia-cusparse-cu12-12.5.1.3\n",
            "  Attempting uninstall: nvidia-cudnn-cu12\n",
            "    Found existing installation: nvidia-cudnn-cu12 9.3.0.75\n",
            "    Uninstalling nvidia-cudnn-cu12-9.3.0.75:\n",
            "      Successfully uninstalled nvidia-cudnn-cu12-9.3.0.75\n",
            "  Attempting uninstall: nvidia-cusolver-cu12\n",
            "    Found existing installation: nvidia-cusolver-cu12 11.6.3.83\n",
            "    Uninstalling nvidia-cusolver-cu12-11.6.3.83:\n",
            "      Successfully uninstalled nvidia-cusolver-cu12-11.6.3.83\n",
            "Successfully installed lightning-utilities-0.14.3 nvidia-cublas-cu12-12.4.5.8 nvidia-cuda-cupti-cu12-12.4.127 nvidia-cuda-nvrtc-cu12-12.4.127 nvidia-cuda-runtime-cu12-12.4.127 nvidia-cudnn-cu12-9.1.0.70 nvidia-cufft-cu12-11.2.1.3 nvidia-curand-cu12-10.3.5.147 nvidia-cusolver-cu12-11.6.1.9 nvidia-cusparse-cu12-12.3.1.170 nvidia-nvjitlink-cu12-12.4.127 torchmetrics-1.7.3\n"
          ]
        }
      ]
    },
    {
      "cell_type": "code",
      "source": [
        "# loss function, accuracy, optimzer\n",
        "\n",
        "# loss function\n",
        "loss_func = nn.CrossEntropyLoss() #cross entropy loss\n",
        "\n",
        "# metric accuracy\n",
        "from torchmetrics.classification import Accuracy\n",
        "\n",
        "metric_fun = Accuracy(task=\"multiclass\", num_classes=3)\n",
        "metric_fun = metric_fun.to(device)\n",
        "\n",
        "# Adam\n",
        "from torch import optim\n",
        "LR_ST = 1e-3\n",
        "opt = optim.Adam(model.parameters(), lr=LR_ST)\n",
        "\n",
        "# add a LR scheduler (decrese LR of a factor gamma every 15 epochs): lr = lr*gamma\n",
        "scheduler = optim.lr_scheduler.StepLR(opt, 15, gamma=0.1, last_epoch=-1, verbose=True)"
      ],
      "metadata": {
        "id": "0CgWlXPP-TmQ"
      },
      "execution_count": 11,
      "outputs": []
    },
    {
      "cell_type": "code",
      "source": [
        "# Training function\n",
        "import time\n",
        "\n",
        "def train_model(nn_model, criterion, metric, n_epochs, dl_train, dl_vali):\n",
        "\n",
        "  hist_loss = []\n",
        "  hist_metric = []\n",
        "  hist_vloss = []\n",
        "  hist_vmetric = []\n",
        "\n",
        "  best_valid_loss=float('inf') #initialize checkpoint counter\n",
        "\n",
        "\n",
        "  # loop over epochs\n",
        "  for epoch in range(n_epochs):\n",
        "    t0 = time.time()\n",
        "\n",
        "    # training phase\n",
        "    model.train()\n",
        "    train_loss = 0\n",
        "    train_metric = 0\n",
        "    counter = 0\n",
        "    for xb, yb, _ in dl_train:\n",
        "        counter += 1\n",
        "        xb=xb.to(device)\n",
        "        yb=yb.to(device)\n",
        "\n",
        "        pred = nn_model(xb)\n",
        "\n",
        "\n",
        "        loss = criterion(pred, yb)\n",
        "        if metric != None:\n",
        "          tmetric = metric(pred, yb)\n",
        "\n",
        "        train_loss += loss.item()\n",
        "        if metric != None:\n",
        "          train_metric += tmetric.item()\n",
        "\n",
        "        # backpropagation\n",
        "        opt.zero_grad()\n",
        "        loss.backward()\n",
        "        opt.step()\n",
        "\n",
        "\n",
        "    train_loss /= counter\n",
        "    hist_loss.append(train_loss)\n",
        "\n",
        "    if metric != None:\n",
        "      train_metric /= counter\n",
        "      hist_metric.append(train_metric)\n",
        "\n",
        "\n",
        "    # validation phase\n",
        "    model.eval()\n",
        "    vali_loss = 0\n",
        "    vali_metric = 0\n",
        "    counter = 0\n",
        "    with torch.no_grad():\n",
        "      for xb, yb, _ in dl_vali:\n",
        "        counter += 1\n",
        "        xb=xb.to(device)\n",
        "        yb=yb.to(device)\n",
        "\n",
        "        pred = nn_model(xb)\n",
        "\n",
        "        vloss = criterion(pred, yb)\n",
        "        vali_loss += vloss.item()\n",
        "\n",
        "        if metric != None:\n",
        "          vmetric = metric(pred, yb)\n",
        "          vali_metric += vmetric.item()\n",
        "\n",
        "    vali_loss /= counter\n",
        "    hist_vloss.append(vali_loss)\n",
        "\n",
        "    if metric != None:\n",
        "      vali_metric /= counter\n",
        "      hist_vmetric.append(vali_metric)\n",
        "\n",
        "\n",
        "    elapsed_time = time.time()-t0\n",
        "    if metric != None:\n",
        "      print(\"epoch: %d, time(s): %.4f, train loss: %.6f, train metric: %.6f, vali loss: %.6f, vali metric: %.6f\"\n",
        "            % (epoch+1, elapsed_time, train_loss, train_metric, vali_loss, vali_metric))\n",
        "    else:\n",
        "      print(\"epoch: %d, time(s): %.4f, train loss: %.6f, vali loss: %.6f\"\n",
        "            % (epoch+1, elapsed_time, train_loss, vali_loss))\n",
        "\n",
        "\n",
        "    #save best model\n",
        "    if vali_loss < best_valid_loss:\n",
        "      best_valid_loss = vali_loss\n",
        "      print(f\"\\nBest validation loss: {best_valid_loss}\")\n",
        "      print(f\"\\nSaving best model for epoch: {epoch+1}\\n\")\n",
        "      torch.save(model.state_dict(), 'best_model_w.pth')\n",
        "\n",
        "\n",
        "    # update learning rate schedule\n",
        "    scheduler.step()\n",
        "\n",
        "  return nn_model, hist_loss, hist_metric, hist_vloss, hist_vmetric"
      ],
      "metadata": {
        "id": "DmflAR2m-rZ5"
      },
      "execution_count": 12,
      "outputs": []
    },
    {
      "cell_type": "code",
      "source": [
        "# Training\n",
        "\n",
        "model = myVGG()\n",
        "model.to(device)\n",
        "opt = optim.Adam(model.parameters(), lr=LR_ST)\n",
        "scheduler = optim.lr_scheduler.StepLR(opt, 15, gamma=0.1, last_epoch=-1, verbose=True)\n",
        "metric_fun = metric_fun.to(device)\n",
        "\n",
        "# numero di epoche\n",
        "epochs = 40\n",
        "\n",
        "model, hist_loss, hist_metric, hist_vloss, hist_vmetric = train_model(nn_model=model, criterion=loss_func, metric=metric_fun, n_epochs=epochs, dl_train=dl_train, dl_vali=dl_vali)\n"
      ],
      "metadata": {
        "colab": {
          "base_uri": "https://localhost:8080/"
        },
        "id": "YKhAGeg_AGEs",
        "outputId": "f4de9537-9c4d-487e-cdb2-67690168042e"
      },
      "execution_count": 14,
      "outputs": [
        {
          "output_type": "stream",
          "name": "stdout",
          "text": [
            "epoch: 1, time(s): 1.9507, train loss: 0.433413, train metric: 0.827148, vali loss: 0.117246, vali metric: 0.950721\n",
            "\n",
            "Best validation loss: 0.1172460390207095\n",
            "\n",
            "Saving best model for epoch: 1\n",
            "\n",
            "epoch: 2, time(s): 1.2950, train loss: 0.151843, train metric: 0.943302, vali loss: 0.097378, vali metric: 0.961538\n",
            "\n",
            "Best validation loss: 0.09737807235274559\n",
            "\n",
            "Saving best model for epoch: 2\n",
            "\n",
            "epoch: 3, time(s): 1.3807, train loss: 0.131624, train metric: 0.950712, vali loss: 0.091863, vali metric: 0.964143\n",
            "\n",
            "Best validation loss: 0.09186312422538415\n",
            "\n",
            "Saving best model for epoch: 3\n",
            "\n",
            "epoch: 4, time(s): 1.4389, train loss: 0.124486, train metric: 0.951057, vali loss: 0.111470, vali metric: 0.953526\n",
            "epoch: 5, time(s): 2.1277, train loss: 0.115810, train metric: 0.953355, vali loss: 0.087057, vali metric: 0.961939\n",
            "\n",
            "Best validation loss: 0.08705701898687924\n",
            "\n",
            "Saving best model for epoch: 5\n",
            "\n",
            "epoch: 6, time(s): 1.3807, train loss: 0.117900, train metric: 0.951919, vali loss: 0.106428, vali metric: 0.955329\n",
            "epoch: 7, time(s): 1.3505, train loss: 0.110001, train metric: 0.956629, vali loss: 0.088047, vali metric: 0.961538\n",
            "epoch: 8, time(s): 1.3099, train loss: 0.107278, train metric: 0.957261, vali loss: 0.102446, vali metric: 0.954127\n",
            "epoch: 9, time(s): 1.4345, train loss: 0.107003, train metric: 0.957031, vali loss: 0.095427, vali metric: 0.960938\n",
            "epoch: 10, time(s): 1.4185, train loss: 0.107231, train metric: 0.955710, vali loss: 0.085309, vali metric: 0.964143\n",
            "\n",
            "Best validation loss: 0.08530913694546773\n",
            "\n",
            "Saving best model for epoch: 10\n",
            "\n",
            "epoch: 11, time(s): 1.3273, train loss: 0.106146, train metric: 0.957089, vali loss: 0.081109, vali metric: 0.965345\n",
            "\n",
            "Best validation loss: 0.0811089093868549\n",
            "\n",
            "Saving best model for epoch: 11\n",
            "\n",
            "epoch: 12, time(s): 1.3502, train loss: 0.106073, train metric: 0.956514, vali loss: 0.086380, vali metric: 0.963341\n",
            "epoch: 13, time(s): 1.8021, train loss: 0.102437, train metric: 0.957663, vali loss: 0.081663, vali metric: 0.966747\n",
            "epoch: 14, time(s): 1.7299, train loss: 0.100957, train metric: 0.958180, vali loss: 0.084689, vali metric: 0.966546\n",
            "epoch: 15, time(s): 1.3716, train loss: 0.101365, train metric: 0.958525, vali loss: 0.096622, vali metric: 0.960737\n",
            "epoch: 16, time(s): 1.3821, train loss: 0.097095, train metric: 0.961340, vali loss: 0.086080, vali metric: 0.964543\n",
            "epoch: 17, time(s): 1.3821, train loss: 0.093548, train metric: 0.961340, vali loss: 0.085201, vali metric: 0.965345\n",
            "epoch: 18, time(s): 1.3392, train loss: 0.094672, train metric: 0.961052, vali loss: 0.086160, vali metric: 0.964343\n",
            "epoch: 19, time(s): 1.3301, train loss: 0.092918, train metric: 0.961282, vali loss: 0.087994, vali metric: 0.962139\n",
            "epoch: 20, time(s): 1.3510, train loss: 0.092941, train metric: 0.961684, vali loss: 0.084367, vali metric: 0.964343\n",
            "epoch: 21, time(s): 1.6406, train loss: 0.094368, train metric: 0.960076, vali loss: 0.084529, vali metric: 0.964143\n",
            "epoch: 22, time(s): 1.8941, train loss: 0.094679, train metric: 0.961742, vali loss: 0.083561, vali metric: 0.964944\n",
            "epoch: 23, time(s): 1.3229, train loss: 0.093551, train metric: 0.960076, vali loss: 0.084272, vali metric: 0.965745\n",
            "epoch: 24, time(s): 1.3552, train loss: 0.090509, train metric: 0.960823, vali loss: 0.085801, vali metric: 0.964744\n",
            "epoch: 25, time(s): 1.3862, train loss: 0.094784, train metric: 0.960191, vali loss: 0.087349, vali metric: 0.961939\n",
            "epoch: 26, time(s): 1.3204, train loss: 0.093860, train metric: 0.961512, vali loss: 0.089937, vali metric: 0.959535\n",
            "epoch: 27, time(s): 1.3643, train loss: 0.094921, train metric: 0.960593, vali loss: 0.087142, vali metric: 0.961538\n",
            "epoch: 28, time(s): 1.4045, train loss: 0.091710, train metric: 0.962374, vali loss: 0.086450, vali metric: 0.962139\n",
            "epoch: 29, time(s): 1.3304, train loss: 0.092739, train metric: 0.959961, vali loss: 0.083953, vali metric: 0.964343\n",
            "epoch: 30, time(s): 2.6167, train loss: 0.093190, train metric: 0.963580, vali loss: 0.088679, vali metric: 0.961939\n",
            "epoch: 31, time(s): 1.4870, train loss: 0.092276, train metric: 0.962316, vali loss: 0.086581, vali metric: 0.963341\n",
            "epoch: 32, time(s): 1.3694, train loss: 0.090218, train metric: 0.963580, vali loss: 0.086717, vali metric: 0.963341\n",
            "epoch: 33, time(s): 1.3719, train loss: 0.092125, train metric: 0.961857, vali loss: 0.085555, vali metric: 0.964343\n",
            "epoch: 34, time(s): 1.3681, train loss: 0.092392, train metric: 0.961455, vali loss: 0.085402, vali metric: 0.964744\n",
            "epoch: 35, time(s): 2.5102, train loss: 0.090538, train metric: 0.962546, vali loss: 0.085450, vali metric: 0.964944\n",
            "epoch: 36, time(s): 2.0918, train loss: 0.090940, train metric: 0.962374, vali loss: 0.085976, vali metric: 0.963742\n",
            "epoch: 37, time(s): 2.1393, train loss: 0.090484, train metric: 0.962603, vali loss: 0.086616, vali metric: 0.963341\n",
            "epoch: 38, time(s): 1.4883, train loss: 0.091554, train metric: 0.962086, vali loss: 0.086558, vali metric: 0.963141\n",
            "epoch: 39, time(s): 1.3289, train loss: 0.091391, train metric: 0.962833, vali loss: 0.086500, vali metric: 0.963542\n",
            "epoch: 40, time(s): 1.3598, train loss: 0.093142, train metric: 0.961569, vali loss: 0.086581, vali metric: 0.963542\n"
          ]
        }
      ]
    },
    {
      "cell_type": "code",
      "source": [
        "# draw training curves\n",
        "plt.figure(figsize=(10, 7))\n",
        "plt.subplot(1,2,1)\n",
        "plt.plot(range(1,len(hist_loss)+1), hist_loss, color='green', linestyle='-', label='train loss')\n",
        "plt.plot(range(1,len(hist_vloss)+1), hist_vloss, color='blue', linestyle='-', label='validation loss')\n",
        "plt.xlabel('Epochs')\n",
        "plt.ylabel('Loss')\n",
        "plt.legend()\n",
        "\n",
        "plt.subplot(1,2,2)\n",
        "plt.plot(range(1,len(hist_metric)+1),hist_metric, color='green', linestyle='-', label='train metric')\n",
        "plt.plot(range(1,len(hist_vmetric)+1),hist_vmetric, color='blue', linestyle='-', label='validation metric')\n",
        "plt.xlabel('Epochs')\n",
        "plt.ylabel('Metric')\n",
        "plt.legend()\n",
        "plt.show()"
      ],
      "metadata": {
        "colab": {
          "base_uri": "https://localhost:8080/",
          "height": 623
        },
        "id": "OMSwarbgAfrF",
        "outputId": "28e6d532-2b88-4853-f8c4-b67116f190ad"
      },
      "execution_count": 15,
      "outputs": [
        {
          "output_type": "display_data",
          "data": {
            "text/plain": [
              "<Figure size 1000x700 with 2 Axes>"
            ],
            "image/png": "[encoded data removed]"
          },
          "metadata": {}
        }
      ]
    },
    {
      "cell_type": "code",
      "source": [
        "# load the best model weights\n",
        "checkpoint = torch.load('./best_model_w.pth')\n",
        "model = myVGG()\n",
        "model.load_state_dict(checkpoint)\n",
        "model.eval()"
      ],
      "metadata": {
        "colab": {
          "base_uri": "https://localhost:8080/"
        },
        "id": "b_bUeCbfAEvQ",
        "outputId": "acbb9d8d-02ea-4324-aaa4-90e7c5f556e0"
      },
      "execution_count": 16,
      "outputs": [
        {
          "output_type": "execute_result",
          "data": {
            "text/plain": [
              "myVGG(\n",
              "  (conv1): Conv2d(1, 8, kernel_size=(3, 3), stride=(1, 1))\n",
              "  (pool1): MaxPool2d(kernel_size=(2, 2), stride=(2, 2), padding=0, dilation=1, ceil_mode=False)\n",
              "  (conv2): Conv2d(8, 16, kernel_size=(3, 3), stride=(1, 1))\n",
              "  (pool2): MaxPool2d(kernel_size=(2, 2), stride=(2, 2), padding=0, dilation=1, ceil_mode=False)\n",
              "  (flatten): Flatten(start_dim=1, end_dim=-1)\n",
              "  (drop1): Dropout(p=0.5, inplace=False)\n",
              "  (fc1): Linear(in_features=400, out_features=32, bias=True)\n",
              "  (drop2): Dropout(p=0.5, inplace=False)\n",
              "  (fc2): Linear(in_features=32, out_features=32, bias=True)\n",
              "  (fc3): Linear(in_features=32, out_features=3, bias=True)\n",
              ")"
            ]
          },
          "metadata": {},
          "execution_count": 16
        }
      ]
    },
    {
      "cell_type": "code",
      "source": [
        "# test set perfromance\n",
        "\n",
        "model.to(torch.device('cpu'))\n",
        "metric_fun = metric_fun.to('cpu')\n",
        "\n",
        "loss = 0\n",
        "metric = 0\n",
        "counter = 0\n",
        "\n",
        "for xb, yb,_ in dl_test:\n",
        "  counter += 1\n",
        "  xb=xb.to('cpu')\n",
        "  yb=yb.to('cpu')\n",
        "  pred = model(xb)\n",
        "\n",
        "  loss += loss_func(pred, yb).item()\n",
        "  metric += metric_fun(pred, yb).item()\n",
        "\n",
        "\n",
        "loss /= counter\n",
        "metric /= counter\n",
        "\n",
        "print('Test loss/accuracy: ',loss, ' / ', metric)"
      ],
      "metadata": {
        "colab": {
          "base_uri": "https://localhost:8080/"
        },
        "id": "JYAT6jDvA9sA",
        "outputId": "d536f090-7f6e-4d0d-f74e-d8d3f40902d7"
      },
      "execution_count": 17,
      "outputs": [
        {
          "output_type": "stream",
          "name": "stdout",
          "text": [
            "Test loss/accuracy:  0.0829729347698225  /  0.9672\n"
          ]
        }
      ]
    },
    {
      "cell_type": "code",
      "source": [
        "#confusion matrix\n",
        "\n",
        "#nice printout\n",
        "def print_cm(cm, labels, hide_zeroes=False, hide_diagonal=False, hide_threshold=None):\n",
        "    \"\"\"pretty print for confusion matrixes\"\"\"\n",
        "    columnwidth = max([len(x) for x in labels] + [5])  # 5 is value length\n",
        "    empty_cell = \" \" * columnwidth\n",
        "    # Print header\n",
        "    print(\"    \" + empty_cell, end=\" \")\n",
        "    for label in labels:\n",
        "        print(\"%{0}s\".format(columnwidth) % label, end=\" \")\n",
        "    print()\n",
        "\n",
        "    # Print rows\n",
        "    for i, label1 in enumerate(labels):\n",
        "        print(\"    %{0}s\".format(columnwidth) % label1, end=\" \")\n",
        "        for j in range(len(labels)):\n",
        "            cell = \"%{0}.2f\".format(columnwidth) % cm[i, j]\n",
        "            if hide_zeroes:\n",
        "                cell = cell if float(cm[i, j]) != 0 else empty_cell\n",
        "            if hide_diagonal:\n",
        "                cell = cell if i != j else empty_cell\n",
        "            if hide_threshold:\n",
        "                cell = cell if cm[i, j] > hide_threshold else empty_cell\n",
        "            print(cell, end=\" \")\n",
        "        print()\n",
        "\n",
        "predictions = np.empty(shape=(0,))\n",
        "truths = np.empty(shape=(0,))\n",
        "\n",
        "for xb, yb, _ in dl_test:\n",
        "  counter += 1\n",
        "  xb=xb.to('cpu')\n",
        "  yb=yb.to('cpu')\n",
        "  pred = model(xb)\n",
        "\n",
        "  res = torch.argmax(pred, dim=1)\n",
        "\n",
        "  predictions = np.concatenate((predictions,res.detach().numpy()))\n",
        "  truths = np.concatenate((truths,yb.detach().numpy()))\n",
        "\n",
        "from sklearn.metrics import confusion_matrix\n",
        "c_mat = confusion_matrix(predictions, truths, normalize='true')\n",
        "print(\"Confusion Matrix:\")\n",
        "labels = ['0','1','2']\n",
        "print_cm(c_mat, labels)"
      ],
      "metadata": {
        "colab": {
          "base_uri": "https://localhost:8080/"
        },
        "id": "nUxDUL9aBLVT",
        "outputId": "f3e80ab8-9986-423c-cd7f-3eab26b86413"
      },
      "execution_count": 18,
      "outputs": [
        {
          "output_type": "stream",
          "name": "stdout",
          "text": [
            "Confusion Matrix:\n",
            "              0     1     2 \n",
            "        0  0.98  0.02  0.00 \n",
            "        1  0.09  0.83  0.08 \n",
            "        2  0.00  0.02  0.98 \n"
          ]
        }
      ]
    },
    {
      "cell_type": "markdown",
      "source": [
        "**Part 3:**\n",
        "\n",
        "Transfer Learning: let's get a pretrained CNN model and fine tune it for our task ..."
      ],
      "metadata": {
        "id": "olgieiNMDLbB"
      }
    },
    {
      "cell_type": "code",
      "source": [
        "# let's take a pretrained model from torchvision repository\n",
        "\n",
        "from torchvision import datasets, transforms, models\n",
        "\n",
        "# example VGG11\n",
        "model = models.vgg11(pretrained= True)\n",
        "\n",
        "print(model)"
      ],
      "metadata": {
        "colab": {
          "base_uri": "https://localhost:8080/"
        },
        "id": "ywAJuOpBDI8-",
        "outputId": "ed6cd62a-420e-4851-aedd-d75c1f8ae73a"
      },
      "execution_count": 13,
      "outputs": [
        {
          "output_type": "stream",
          "name": "stderr",
          "text": [
            "/usr/local/lib/python3.11/dist-packages/torchvision/models/_utils.py:208: UserWarning: The parameter 'pretrained' is deprecated since 0.13 and may be removed in the future, please use 'weights' instead.\n",
            "  warnings.warn(\n",
            "/usr/local/lib/python3.11/dist-packages/torchvision/models/_utils.py:223: UserWarning: Arguments other than a weight enum or `None` for 'weights' are deprecated since 0.13 and may be removed in the future. The current behavior is equivalent to passing `weights=VGG11_Weights.IMAGENET1K_V1`. You can also use `weights=VGG11_Weights.DEFAULT` to get the most up-to-date weights.\n",
            "  warnings.warn(msg)\n"
          ]
        },
        {
          "output_type": "stream",
          "name": "stdout",
          "text": [
            "VGG(\n",
            "  (features): Sequential(\n",
            "    (0): Conv2d(3, 64, kernel_size=(3, 3), stride=(1, 1), padding=(1, 1))\n",
            "    (1): ReLU(inplace=True)\n",
            "    (2): MaxPool2d(kernel_size=2, stride=2, padding=0, dilation=1, ceil_mode=False)\n",
            "    (3): Conv2d(64, 128, kernel_size=(3, 3), stride=(1, 1), padding=(1, 1))\n",
            "    (4): ReLU(inplace=True)\n",
            "    (5): MaxPool2d(kernel_size=2, stride=2, padding=0, dilation=1, ceil_mode=False)\n",
            "    (6): Conv2d(128, 256, kernel_size=(3, 3), stride=(1, 1), padding=(1, 1))\n",
            "    (7): ReLU(inplace=True)\n",
            "    (8): Conv2d(256, 256, kernel_size=(3, 3), stride=(1, 1), padding=(1, 1))\n",
            "    (9): ReLU(inplace=True)\n",
            "    (10): MaxPool2d(kernel_size=2, stride=2, padding=0, dilation=1, ceil_mode=False)\n",
            "    (11): Conv2d(256, 512, kernel_size=(3, 3), stride=(1, 1), padding=(1, 1))\n",
            "    (12): ReLU(inplace=True)\n",
            "    (13): Conv2d(512, 512, kernel_size=(3, 3), stride=(1, 1), padding=(1, 1))\n",
            "    (14): ReLU(inplace=True)\n",
            "    (15): MaxPool2d(kernel_size=2, stride=2, padding=0, dilation=1, ceil_mode=False)\n",
            "    (16): Conv2d(512, 512, kernel_size=(3, 3), stride=(1, 1), padding=(1, 1))\n",
            "    (17): ReLU(inplace=True)\n",
            "    (18): Conv2d(512, 512, kernel_size=(3, 3), stride=(1, 1), padding=(1, 1))\n",
            "    (19): ReLU(inplace=True)\n",
            "    (20): MaxPool2d(kernel_size=2, stride=2, padding=0, dilation=1, ceil_mode=False)\n",
            "  )\n",
            "  (avgpool): AdaptiveAvgPool2d(output_size=(7, 7))\n",
            "  (classifier): Sequential(\n",
            "    (0): Linear(in_features=25088, out_features=4096, bias=True)\n",
            "    (1): ReLU(inplace=True)\n",
            "    (2): Dropout(p=0.5, inplace=False)\n",
            "    (3): Linear(in_features=4096, out_features=4096, bias=True)\n",
            "    (4): ReLU(inplace=True)\n",
            "    (5): Dropout(p=0.5, inplace=False)\n",
            "    (6): Linear(in_features=4096, out_features=1000, bias=True)\n",
            "  )\n",
            ")\n"
          ]
        }
      ]
    },
    {
      "cell_type": "code",
      "source": [
        "# freeze\n",
        "\n",
        "for param in model.parameters():\n",
        "    param.requires_grad = False\n",
        "\n",
        "# classification Head\n",
        "\n",
        "from collections import OrderedDict\n",
        "\n",
        "classifier = nn.Sequential(OrderedDict([\n",
        "    ('dropout1',nn.Dropout(0.5)),\n",
        "    # define the inputs\n",
        "    ('fc1',nn.Linear(25088,64)),\n",
        "    ('relu1', nn.ReLU()),\n",
        "    ('dropout2',nn.Dropout(0.5)),\n",
        "    ('fc2',nn.Linear(64,64)),\n",
        "    ('relu2', nn.ReLU()),\n",
        "    ('output',nn.Linear(64,3)),\n",
        "    #('output', nn.LogSoftmax(dim=1))\n",
        "]))\n",
        "\n",
        "model.classifier = classifier"
      ],
      "metadata": {
        "id": "CQreQKX4_w31"
      },
      "execution_count": 19,
      "outputs": []
    },
    {
      "cell_type": "code",
      "source": [
        "# loss e optmizer\n",
        "\n",
        "loss_func = nn.CrossEntropyLoss() #cross entropy loss\n",
        "\n",
        "# metric accuracy\n",
        "from torchmetrics.classification import Accuracy\n",
        "\n",
        "metric_fun = Accuracy(task=\"multiclass\", num_classes=3)\n",
        "metric_fun = metric_fun.to(device)\n",
        "\n",
        "# optimizer\n",
        "from torch import optim\n",
        "LR_ST = 1e-3\n",
        "opt = optim.Adam(model.parameters(), lr=LR_ST)"
      ],
      "metadata": {
        "id": "topKCkwD6f8h"
      },
      "execution_count": 20,
      "outputs": []
    },
    {
      "cell_type": "code",
      "source": [
        "# NOTE: we need to transform our dataset to match the requirements of the pretrained model. In this case:\n",
        "\n",
        "# image shape: (3,224,244) <-- we have (1,28,28), so we need to resize to 224x224 and then stack three times the same channel\n",
        "\n",
        "data = data.reshape(25000,28,28)\n",
        "\n",
        "# convert data, temp and labels in torch tensors\n",
        "data_tensor = torch.from_numpy(data).type(torch.float32)\n",
        "\n",
        "from torchvision import datasets, transforms\n",
        "transform = transforms.Compose([\n",
        "    transforms.Resize((224, 224))\n",
        "])\n",
        "\n",
        "data_tensor_3 = transform(data_tensor)\n",
        "print(data_tensor_3.shape)\n",
        "\n",
        "data_tensor_3 = torch.stack((data_tensor_3, data_tensor_3, data_tensor_3), dim=-1)\n",
        "data_tensor_3 = data_tensor_3.permute(0,3,1,2)\n",
        "\n",
        "print(data_tensor_3.shape)\n",
        "\n"
      ],
      "metadata": {
        "colab": {
          "base_uri": "https://localhost:8080/"
        },
        "id": "6q19A-hJ5gxR",
        "outputId": "b2e387e8-c64d-418b-91d7-8481be2a939e"
      },
      "execution_count": 16,
      "outputs": [
        {
          "output_type": "stream",
          "name": "stdout",
          "text": [
            "torch.Size([25000, 224, 224])\n",
            "torch.Size([25000, 3, 224, 224])\n"
          ]
        }
      ]
    },
    {
      "cell_type": "code",
      "source": [
        "#create datasets\n",
        "dataset = torch.utils.data.TensorDataset(data_tensor_3, labels_tensor, temp_tensor)\n",
        "\n",
        "# split dataset in training, validation and test\n",
        "ds_train, ds_vali, ds_test = torch.utils.data.random_split(dataset, [0.7,0.2,0.1])\n",
        "\n",
        "\n",
        "print('Trainign set size: ', len(ds_train))\n",
        "print('Validation set size: ',len(ds_vali))\n",
        "print('Test set size: ',len(ds_test))\n",
        "\n",
        "# create dataloader\n",
        "batch_size = 128\n",
        "dl_train = torch.utils.data.DataLoader(ds_train, batch_size=batch_size, shuffle=True, num_workers=2, drop_last=True)\n",
        "dl_vali = torch.utils.data.DataLoader(ds_vali, batch_size=batch_size, shuffle=True, num_workers=2, drop_last=True)\n",
        "dl_test = torch.utils.data.DataLoader(ds_test, batch_size=1, shuffle=True, num_workers=2)"
      ],
      "metadata": {
        "colab": {
          "base_uri": "https://localhost:8080/"
        },
        "id": "f_7j8QJW-qli",
        "outputId": "cd18ca37-29da-403f-9347-251de70a04d7"
      },
      "execution_count": 17,
      "outputs": [
        {
          "output_type": "stream",
          "name": "stdout",
          "text": [
            "Trainign set size:  17500\n",
            "Validation set size:  5000\n",
            "Test set size:  2500\n"
          ]
        }
      ]
    },
    {
      "cell_type": "code",
      "source": [
        "# Training\n",
        "\n",
        "model.to(device)\n",
        "\n",
        "epochs = 20\n",
        "model, hist_loss, hist_metric, hist_vloss, hist_vmetric = train_model(nn_model=model, criterion=loss_func, metric=metric_fun, n_epochs=epochs, dl_train=dl_train, dl_vali=dl_vali)"
      ],
      "metadata": {
        "colab": {
          "base_uri": "https://localhost:8080/"
        },
        "id": "GZ7zvnPy-x7J",
        "outputId": "93151bfb-f782-4d66-db8e-15dbf897030c"
      },
      "execution_count": null,
      "outputs": [
        {
          "output_type": "stream",
          "name": "stdout",
          "text": [
            "epoch: 1, time(s): 56.3766, train loss: 0.132361, train metric: 0.952206, vali loss: 0.080169, vali metric: 0.966146\n",
            "\n",
            "Best validation loss: 0.08016875453102283\n",
            "\n",
            "Saving best model for epoch: 1\n",
            "\n"
          ]
        }
      ]
    },
    {
      "cell_type": "code",
      "source": [
        "# fine tuning:\n",
        "for param in model.parameters():\n",
        "    param.requires_grad = True\n",
        "\n",
        "LR_ST = 1e-6\n",
        "opt = optim.Adam(model.parameters(), lr=LR_ST)\n",
        "\n",
        "\n",
        "epochs = 5\n",
        "model, hist_loss, hist_metric, hist_vloss, hist_vmetric = train_model(nn_model=model, criterion=loss_func, metric=metric_fun, n_epochs=epochs, dl_train=dl_train, dl_vali=dl_vali)"
      ],
      "metadata": {
        "id": "voOrfT4yDxYv"
      },
      "execution_count": null,
      "outputs": []
    }
  ]
}