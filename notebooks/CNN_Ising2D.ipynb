{
  "nbformat": 4,
  "nbformat_minor": 0,
  "metadata": {
    "anaconda-cloud": {},
    "kernelspec": {
      "display_name": "Python 3",
      "name": "python3"
    },
    "language_info": {
      "codemirror_mode": {
        "name": "ipython",
        "version": 3
      },
      "file_extension": ".py",
      "mimetype": "text/x-python",
      "name": "python",
      "nbconvert_exporter": "python",
      "pygments_lexer": "ipython3",
      "version": "3.5.2"
    },
    "colab": {
      "provenance": [],
      "machine_shape": "hm",
      "gpuType": "T4",
      "include_colab_link": true
    },
    "accelerator": "GPU"
  },
  "cells": [
    {
      "cell_type": "markdown",
      "metadata": {
        "id": "view-in-github",
        "colab_type": "text"
      },
      "source": [
        "<a href=\"https://colab.research.google.com/github/stefanogiagu/PHDMIB_2025/blob/main/notebooks/CNN_Ising2D.ipynb\" target=\"_parent\"><img src=\"https://colab.research.google.com/assets/colab-badge.svg\" alt=\"Open In Colab\"/></a>"
      ]
    },
    {
      "cell_type": "markdown",
      "metadata": {
        "id": "EGRt2VfXsBRl"
      },
      "source": [
        "# Convolutional NN trained to recognize phases of a 2D Ising\n"
      ]
    },
    {
      "cell_type": "code",
      "metadata": {
        "id": "30WstVVD1cLP",
        "colab": {
          "base_uri": "https://localhost:8080/"
        },
        "outputId": "1bb24d11-75f1-453e-e50e-36894fefcb9b"
      },
      "source": [
        "# downlad example of configurations of ising2D\n",
        "!rm -rf ising_conf.dat.gz\n",
        "!rm -rf ising_conf.dat\n",
        "!rm -rf ising_label.dat.gz\n",
        "!rm -rf ising_label.dat\n",
        "!wget http://giagu.web.cern.ch/giagu/CERN/ising_conf.dat.gz\n",
        "!wget http://giagu.web.cern.ch/giagu/CERN/ising_label.dat.gz\n",
        "!gunzip ising_conf.dat.gz\n",
        "!gunzip ising_label.dat.gz"
      ],
      "execution_count": 1,
      "outputs": [
        {
          "output_type": "stream",
          "name": "stdout",
          "text": [
            "--2025-06-18 13:12:18--  http://giagu.web.cern.ch/giagu/CERN/ising_conf.dat.gz\n",
            "Resolving giagu.web.cern.ch (giagu.web.cern.ch)... 188.185.18.46, 188.185.50.104, 188.185.5.88, ...\n",
            "Connecting to giagu.web.cern.ch (giagu.web.cern.ch)|188.185.18.46|:80... connected.\n",
            "HTTP request sent, awaiting response... 302 Found\n",
            "Location: https://giagu.web.cern.ch/giagu/CERN/ising_conf.dat.gz [following]\n",
            "--2025-06-18 13:12:19--  https://giagu.web.cern.ch/giagu/CERN/ising_conf.dat.gz\n",
            "Connecting to giagu.web.cern.ch (giagu.web.cern.ch)|188.185.18.46|:443... connected.\n",
            "HTTP request sent, awaiting response... 200 OK\n",
            "Length: 2953855 (2.8M) [application/x-gzip]\n",
            "Saving to: ‘ising_conf.dat.gz’\n",
            "\n",
            "ising_conf.dat.gz   100%[===================>]   2.82M  3.27MB/s    in 0.9s    \n",
            "\n",
            "2025-06-18 13:12:20 (3.27 MB/s) - ‘ising_conf.dat.gz’ saved [2953855/2953855]\n",
            "\n",
            "--2025-06-18 13:12:20--  http://giagu.web.cern.ch/giagu/CERN/ising_label.dat.gz\n",
            "Resolving giagu.web.cern.ch (giagu.web.cern.ch)... 188.185.50.104, 188.185.5.88, 188.185.18.46, ...\n",
            "Connecting to giagu.web.cern.ch (giagu.web.cern.ch)|188.185.50.104|:80... connected.\n",
            "HTTP request sent, awaiting response... 302 Found\n",
            "Location: https://giagu.web.cern.ch/giagu/CERN/ising_label.dat.gz [following]\n",
            "--2025-06-18 13:12:20--  https://giagu.web.cern.ch/giagu/CERN/ising_label.dat.gz\n",
            "Connecting to giagu.web.cern.ch (giagu.web.cern.ch)|188.185.50.104|:443... connected.\n",
            "HTTP request sent, awaiting response... 200 OK\n",
            "Length: 86723 (85K) [application/x-gzip]\n",
            "Saving to: ‘ising_label.dat.gz’\n",
            "\n",
            "ising_label.dat.gz  100%[===================>]  84.69K   262KB/s    in 0.3s    \n",
            "\n",
            "2025-06-18 13:12:21 (262 KB/s) - ‘ising_label.dat.gz’ saved [86723/86723]\n",
            "\n"
          ]
        }
      ]
    },
    {
      "cell_type": "markdown",
      "metadata": {
        "id": "UmiJY2e0sBRn"
      },
      "source": [
        "### Basic Information on the 2D Ising Model ###\n",
        "\n",
        "Details (theoretical definition and simulation) are provided in the [note](https://vixra.org/pdf/1710.0021v2.pdf).\n",
        "\n",
        "The system consists of a set of spins (which can only take the values -1 (down) and +1 (up)) interacting with each other, located at the vertices of a two-dimensional square lattice. The dynamics of the system (in the absence of an external magnetic field) is described by the Hamiltonian:\n",
        "\n",
        "$$ H = -J\\sum_{\\langle ij\\rangle}S_{i}S_j,\\qquad \\qquad S_j\\in\\{\\pm 1\\} $$\n",
        "\n",
        "where the lattice indices $i,j$ refer to nearest neighbors on a 2D square lattice of side length $L$, and $J$ is an arbitrary scale parameter that defines the interaction energy between the spins $S_i$. Periodic boundary conditions are used on the lattice.\n",
        "\n",
        "It can be shown that this system exhibits a phase transition in the thermodynamic limit, from an ordered state where all spins are aligned (an ordered ferromagnet) at zero temperature, to a disordered phase with completely random spins at high temperature. The critical temperature at which the transition occurs is given by:\n",
        "\n",
        "$$T_c/J=1/\\log(1+\\sqrt{2})\\approx 2.26$$.\n",
        "\n",
        "\n",
        "**Dataset:**\n",
        "\n",
        "A dataset of 25,000 configurations is provided, with $T/J$ uniformly distributed in the range $[0,5]$, for a 2D Ising model on a $28\\times 28$ lattice, simulated using a simple Metropolis-type Monte Carlo method.\n",
        "\n",
        "The dataset is available in two files:\n",
        "* configurations: *ising_conf.dat*\n",
        "* labels: *ising_label.dat*\n",
        "\n",
        "Note: the configurations are stored in text files, which, when read with NumPy (*np.loadtxt*), return tensors of shape *(25000×28, 28)*. These need to be reshaped into format *(25000, 1, 28, 28)* to be used with convolutional layers in pytorch."
      ]
    },
    {
      "cell_type": "markdown",
      "metadata": {
        "id": "Cx1fqjsbsBRo"
      },
      "source": [
        "**Part 1:**\n",
        "\n",
        "Loading, and pre-procesing of the dataset:L\n",
        "\n",
        "1.   read the configurations and save it in a numpy tensor *data(25000,28,28)*, using the method *np.loadtxt* of numpy. Same for the tempartures: *temp(25000,1)*\n",
        "2.   we divide the samples in three categories depending on the temeparture:\n",
        "* ordered: $T<2.0$\n",
        "* critical: $2.0\\leq T\\leq 2.5$\n",
        "* disordered: $T>2.5$\n",
        "\n",
        "  building a new numpy array of labels *(0,1,2)* associated to each configuration on *data*.\n"
      ]
    },
    {
      "cell_type": "code",
      "metadata": {
        "colab": {
          "base_uri": "https://localhost:8080/"
        },
        "id": "1SkcaQ8vXH-y",
        "outputId": "18c46128-1195-4db0-e4f5-e48c6345d39c"
      },
      "source": [
        "import numpy as np\n",
        "import matplotlib.pyplot as plt\n",
        "\n",
        "rnd_ini = 123456\n",
        "np.random.seed(rnd_ini) # shuffle random seed generator\n",
        "\n",
        "# Ising model parameters\n",
        "L=28 # latice size\n",
        "J=1.0 # Ising interaction (1 ferromagnetic, -1 anti-ferromagnetic)\n",
        "T_c=2.26 # critical temperature\n",
        "\n",
        "#read the configurations from the text file (25k esempi oguno da 28x28 spin)\n",
        "data = np.loadtxt('ising_conf.dat')\n",
        "data = data.reshape(25000,28,28)\n",
        "print('data shape: ',data.shape)\n",
        "\n",
        "#read the associated temperature:\n",
        "temp = np.loadtxt('ising_label.dat')\n",
        "print('temp shape: ',temp.shape)"
      ],
      "execution_count": 2,
      "outputs": [
        {
          "output_type": "stream",
          "name": "stdout",
          "text": [
            "data shape:  (25000, 28, 28)\n",
            "temp shape:  (25000,)\n"
          ]
        }
      ]
    },
    {
      "cell_type": "markdown",
      "source": [
        "Compute and plot the distribution of the average magnetization of the configurations:\n",
        "\n",
        "$$M = \\frac{1}{N}\\sum_i^N S_i$$"
      ],
      "metadata": {
        "id": "f5UXRtBi3bZA"
      }
    },
    {
      "cell_type": "code",
      "source": [
        "M = np.sum(data.reshape(25000,28*28), axis=1)/(28*28)\n",
        "\n",
        "plt.figure(figsize=(10,5))\n",
        "plt.subplot(1,2,1)\n",
        "plt.scatter(temp, M, s=0.1)\n",
        "plt.xlabel('T')\n",
        "plt.ylabel('average Magnetization M')\n",
        "plt.subplot(1,2,2)\n",
        "plt.hist(M, bins=20)\n",
        "plt.xlabel('average Magnetization M')\n",
        "plt.draw()"
      ],
      "metadata": {
        "colab": {
          "base_uri": "https://localhost:8080/",
          "height": 486
        },
        "id": "50WkGI-G27OK",
        "outputId": "fb74634e-d97e-4a62-fcae-74474cba971b"
      },
      "execution_count": null,
      "outputs": [
        {
          "output_type": "display_data",
          "data": {
            "text/plain": [
              "<Figure size 1000x500 with 2 Axes>"
            ],
            "image/png": "[encoded data removed]"
          },
          "metadata": {}
        }
      ]
    },
    {
      "cell_type": "code",
      "metadata": {
        "colab": {
          "base_uri": "https://localhost:8080/"
        },
        "id": "Vp8ME2CCYXi2",
        "outputId": "e11d9308-d654-4874-e7c7-3767c012c6ce"
      },
      "source": [
        "# divide the data in 3 groups on the base of the phase state (ordered, critical disordered)\n",
        "# T/J < 2.0 ordered\n",
        "# T/J in [2.0,2.5] critical\n",
        "# T/J > 2.5 disordered\n",
        "\n",
        "ord_sele = (temp < 2.0)\n",
        "cri_sele = ((temp >= 2.0) & (temp <= 2.5))\n",
        "dis_sele = (temp > 2.5)\n",
        "\n",
        "labels = np.zeros(shape=temp.shape)\n",
        "labels[ord_sele]=0\n",
        "labels[cri_sele]=1\n",
        "labels[dis_sele]=2\n",
        "\n",
        "print('labels shape: ',labels.shape)\n",
        "print('# conf. ordered: ', labels[ord_sele].shape[0])\n",
        "print('# conf. critical: ', labels[cri_sele].shape[0])\n",
        "print('# conf. disordered: ', labels[dis_sele].shape[0])"
      ],
      "execution_count": 3,
      "outputs": [
        {
          "output_type": "stream",
          "name": "stdout",
          "text": [
            "labels shape:  (25000,)\n",
            "# conf. ordered:  9953\n",
            "# conf. critical:  2563\n",
            "# conf. disordered:  12484\n"
          ]
        }
      ]
    },
    {
      "cell_type": "code",
      "metadata": {
        "colab": {
          "base_uri": "https://localhost:8080/",
          "height": 356
        },
        "id": "bpRqzaTZZrLJ",
        "outputId": "7106cb01-30df-4722-e53a-eadddfa7dfd9"
      },
      "source": [
        "# plot an example of each group\n",
        "\n",
        "# set colorbar map\n",
        "cmap_args=dict(cmap='plasma_r')\n",
        "\n",
        "# plot states\n",
        "fig, axarr = plt.subplots(nrows=1, ncols=3)\n",
        "\n",
        "ieve = 11\n",
        "axarr[0].imshow((data[ord_sele])[ieve],**cmap_args)\n",
        "axarr[0].set_title('ordered phase',fontsize=16)\n",
        "axarr[0].tick_params(labelsize=16)\n",
        "\n",
        "axarr[1].imshow((data[cri_sele])[ieve],**cmap_args)\n",
        "axarr[1].set_title('critical region',fontsize=16)\n",
        "axarr[1].tick_params(labelsize=16)\n",
        "\n",
        "im=axarr[2].imshow((data[dis_sele])[ieve],**cmap_args)\n",
        "axarr[2].set_title('disordered phase',fontsize=16)\n",
        "axarr[2].tick_params(labelsize=16)\n",
        "\n",
        "fig.subplots_adjust(right=2.0)\n",
        "\n",
        "plt.show()"
      ],
      "execution_count": 4,
      "outputs": [
        {
          "output_type": "display_data",
          "data": {
            "text/plain": [
              "<Figure size 640x480 with 3 Axes>"
            ],
            "image/png": "[encoded data removed]"
          },
          "metadata": {}
        }
      ]
    },
    {
      "cell_type": "markdown",
      "source": [
        "**Part 2**:\n",
        "\n",
        "Implement and train a Convolutional-NN for the 3-classes classification task"
      ],
      "metadata": {
        "id": "HaK146Sw45rY"
      }
    },
    {
      "cell_type": "code",
      "source": [
        "import torch\n",
        "import torchvision\n",
        "print(torch.__version__)\n",
        "print(torchvision.__version__)"
      ],
      "metadata": {
        "colab": {
          "base_uri": "https://localhost:8080/"
        },
        "id": "s9cxdKOg5zmn",
        "outputId": "9cfedf76-9d9e-46b2-f297-74e52b37da37"
      },
      "execution_count": 5,
      "outputs": [
        {
          "output_type": "stream",
          "name": "stdout",
          "text": [
            "2.6.0+cu124\n",
            "0.21.0+cu124\n"
          ]
        }
      ]
    },
    {
      "cell_type": "code",
      "metadata": {
        "id": "8VcSVs56fB4K",
        "colab": {
          "base_uri": "https://localhost:8080/"
        },
        "outputId": "cf918dd8-39b6-4568-a4d4-8df514e3f255"
      },
      "source": [
        "if torch.cuda.is_available():\n",
        "  print('Number of available GPUs: ',torch.cuda.device_count())\n",
        "  for i in range(0,torch.cuda.device_count()):\n",
        "    print(torch.cuda.get_device_name(i))\n",
        "\n",
        "# sif GPU available set device to 'cuda' otherwise to 'cpu'\n",
        "device = ('cuda' if torch.cuda.is_available() else 'cpu')\n",
        "print(f\"Computation device: {device}\\n\")"
      ],
      "execution_count": 6,
      "outputs": [
        {
          "output_type": "stream",
          "name": "stdout",
          "text": [
            "Number of available GPUs:  1\n",
            "Tesla T4\n",
            "Computation device: cuda\n",
            "\n"
          ]
        }
      ]
    },
    {
      "cell_type": "code",
      "source": [
        "# CNN expect shape of input images like: (B, Channels, hdim, vdim), in our case (B, 1, 28, 28)\n",
        "# we need to add a dummy dimension to the vectors\n",
        "\n",
        "data = data.reshape(25000,28,28,1)\n",
        "\n",
        "\n",
        "# convert data, temp and labels in torch tensors\n",
        "data_tensor = torch.from_numpy(data).type(torch.float32)\n",
        "# move last index as second index\n",
        "data_tensor = data_tensor.permute(0,3,1,2)\n",
        "\n",
        "temp_tensor = torch.from_numpy(temp).type(torch.float32)\n",
        "labels_tensor = torch.from_numpy(labels).type(torch.long)\n",
        "\n",
        "print(data_tensor.shape)\n",
        "print(temp_tensor.shape)\n",
        "print(labels_tensor.shape)\n",
        "\n",
        "# create datasets\n",
        "dataset = torch.utils.data.TensorDataset(data_tensor, labels_tensor, temp_tensor)\n",
        "\n",
        "# split dataset in training, validation and test\n",
        "\n",
        "ds_train, ds_vali, ds_test = torch.utils.data.random_split(dataset, [0.7,0.2,0.1])\n",
        "\n",
        "\n",
        "print('Trainign set size: ', len(ds_train))\n",
        "print('Validation set size: ',len(ds_vali))\n",
        "print('Test set size: ',len(ds_test))\n",
        "\n",
        "# create dataloader\n",
        "batch_size = 128\n",
        "dl_train = torch.utils.data.DataLoader(ds_train, batch_size=batch_size, shuffle=True, num_workers=2, drop_last=True)\n",
        "dl_vali = torch.utils.data.DataLoader(ds_vali, batch_size=batch_size, shuffle=True, num_workers=2, drop_last=True)\n",
        "dl_test = torch.utils.data.DataLoader(ds_test, batch_size=1, shuffle=True, num_workers=2)"
      ],
      "metadata": {
        "colab": {
          "base_uri": "https://localhost:8080/"
        },
        "id": "HXF0iluE7D2P",
        "outputId": "80d4844b-0bb8-4ec9-be0c-342c184bb8a0"
      },
      "execution_count": 7,
      "outputs": [
        {
          "output_type": "stream",
          "name": "stdout",
          "text": [
            "torch.Size([25000, 1, 28, 28])\n",
            "torch.Size([25000])\n",
            "torch.Size([25000])\n",
            "Trainign set size:  17500\n",
            "Validation set size:  5000\n",
            "Test set size:  2500\n"
          ]
        }
      ]
    },
    {
      "cell_type": "code",
      "source": [
        "# Convolutional Neural Network (VGG-like architecture)\n",
        "\n",
        "from torch import nn\n",
        "import torch.nn.functional as F\n",
        "\n",
        "class myVGG(nn.Module):\n",
        "  def __init__(self):\n",
        "    super(myVGG, self).__init__()\n",
        "\n",
        "    # first convolutional block\n",
        "    self.conv1 = nn.Conv2d(in_channels=1, out_channels=8, kernel_size=(3,3))\n",
        "    self.pool1 = nn.MaxPool2d(kernel_size=(2,2))\n",
        "\n",
        "    # secondo convolutional block\n",
        "    self.conv2 = nn.Conv2d(in_channels=8, out_channels=16, kernel_size=(3,3))\n",
        "    self.pool2 = nn.MaxPool2d(kernel_size=(2,2))\n",
        "\n",
        "    # classification head (MLP)\n",
        "    self.flatten = nn.Flatten() #flatten layer\n",
        "    self.drop1 = nn.Dropout(p=0.5) #droput\n",
        "    self.fc1 = nn.Linear(in_features=400, out_features=32)\n",
        "    self.drop2 = nn.Dropout(p=0.5) #dropout\n",
        "    self.fc2 = nn.Linear(in_features=32, out_features=32)\n",
        "    self.fc3 = nn.Linear(in_features=32, out_features=3)\n",
        "\n",
        "  # forward pass: x (input) -> out\n",
        "  def forward(self, x):\n",
        "    x = F.relu(self.conv1(x))\n",
        "    x = self.pool1(x)\n",
        "    x = F.relu(self.conv2(x))\n",
        "    x = self.pool2(x)\n",
        "\n",
        "    #flatten\n",
        "    x = self.flatten(x)\n",
        "\n",
        "    x = self.drop1(x)\n",
        "    x = F.relu(self.fc1(x))\n",
        "    x = self.drop2(x)\n",
        "    x = F.relu(self.fc2(x))\n",
        "\n",
        "    out = self.fc3(x) #no softmax needed as already applied in the CrossEntropyLoss in pytorch\n",
        "    #out = x\n",
        "    return out"
      ],
      "metadata": {
        "id": "ZfAZzs1v53tT"
      },
      "execution_count": 14,
      "outputs": []
    },
    {
      "cell_type": "code",
      "source": [
        "# printout of the model\n",
        "\n",
        "model = myVGG()\n",
        "print(model)\n",
        "\n",
        "from torchsummary import summary\n",
        "if torch.cuda.is_available():\n",
        "  summary(model.cuda(), input_size=(1,28,28))\n",
        "else:\n",
        "  summary(model, input_size=(1,28,28))"
      ],
      "metadata": {
        "colab": {
          "base_uri": "https://localhost:8080/"
        },
        "id": "D11f_m7Q6VGz",
        "outputId": "e3e95ef3-373c-4a49-e2cc-7b76975eb779"
      },
      "execution_count": 16,
      "outputs": [
        {
          "output_type": "stream",
          "name": "stdout",
          "text": [
            "myVGG(\n",
            "  (conv1): Conv2d(1, 8, kernel_size=(3, 3), stride=(1, 1))\n",
            "  (pool1): MaxPool2d(kernel_size=(2, 2), stride=(2, 2), padding=0, dilation=1, ceil_mode=False)\n",
            "  (conv2): Conv2d(8, 16, kernel_size=(3, 3), stride=(1, 1))\n",
            "  (pool2): MaxPool2d(kernel_size=(2, 2), stride=(2, 2), padding=0, dilation=1, ceil_mode=False)\n",
            "  (flatten): Flatten(start_dim=1, end_dim=-1)\n",
            "  (drop1): Dropout(p=0.5, inplace=False)\n",
            "  (fc1): Linear(in_features=400, out_features=32, bias=True)\n",
            "  (drop2): Dropout(p=0.5, inplace=False)\n",
            "  (fc2): Linear(in_features=32, out_features=32, bias=True)\n",
            "  (fc3): Linear(in_features=32, out_features=3, bias=True)\n",
            ")\n",
            "----------------------------------------------------------------\n",
            "        Layer (type)               Output Shape         Param #\n",
            "================================================================\n",
            "            Conv2d-1            [-1, 8, 26, 26]              80\n",
            "         MaxPool2d-2            [-1, 8, 13, 13]               0\n",
            "            Conv2d-3           [-1, 16, 11, 11]           1,168\n",
            "         MaxPool2d-4             [-1, 16, 5, 5]               0\n",
            "           Flatten-5                  [-1, 400]               0\n",
            "           Dropout-6                  [-1, 400]               0\n",
            "            Linear-7                   [-1, 32]          12,832\n",
            "           Dropout-8                   [-1, 32]               0\n",
            "            Linear-9                   [-1, 32]           1,056\n",
            "           Linear-10                    [-1, 3]              99\n",
            "================================================================\n",
            "Total params: 15,235\n",
            "Trainable params: 15,235\n",
            "Non-trainable params: 0\n",
            "----------------------------------------------------------------\n",
            "Input size (MB): 0.00\n",
            "Forward/backward pass size (MB): 0.08\n",
            "Params size (MB): 0.06\n",
            "Estimated Total Size (MB): 0.14\n",
            "----------------------------------------------------------------\n"
          ]
        }
      ]
    },
    {
      "cell_type": "code",
      "source": [
        "# test di un batch sul modello non addestrato per vedere che le cose funzionino\n",
        "\n",
        "model = myVGG()\n",
        "model.to(device)\n",
        "\n",
        "feat, label, temp = next(iter(dl_train))\n",
        "\n",
        "feat=feat.to(device)\n",
        "label=label.to(device)\n",
        "\n",
        "out = model(feat)\n",
        "\n",
        "print(out.shape)\n",
        "print(out[0])"
      ],
      "metadata": {
        "colab": {
          "base_uri": "https://localhost:8080/"
        },
        "id": "Am5EmOim69uM",
        "outputId": "7a7615ca-ad71-47e4-d38f-7e0bac16ee56"
      },
      "execution_count": 17,
      "outputs": [
        {
          "output_type": "stream",
          "name": "stdout",
          "text": [
            "torch.Size([128, 3])\n",
            "tensor([0.0857, 0.0669, 0.0674], device='cuda:0', grad_fn=<SelectBackward0>)\n"
          ]
        }
      ]
    },
    {
      "cell_type": "code",
      "source": [
        "#install torchmetrics: collection of useful PyTorch metrics implementations and an easy-to-use API to create custom metrics\n",
        "%pip install torchmetrics"
      ],
      "metadata": {
        "colab": {
          "base_uri": "https://localhost:8080/"
        },
        "id": "aQdt5ynI-PKk",
        "outputId": "0b169cc8-a1ad-4b47-c096-d8a7e23fdf34"
      },
      "execution_count": 18,
      "outputs": [
        {
          "output_type": "stream",
          "name": "stdout",
          "text": [
            "Collecting torchmetrics\n",
            "  Downloading torchmetrics-1.7.3-py3-none-any.whl.metadata (21 kB)\n",
            "Requirement already satisfied: numpy>1.20.0 in /usr/local/lib/python3.11/dist-packages (from torchmetrics) (2.0.2)\n",
            "Requirement already satisfied: packaging>17.1 in /usr/local/lib/python3.11/dist-packages (from torchmetrics) (24.2)\n",
            "Requirement already satisfied: torch>=2.0.0 in /usr/local/lib/python3.11/dist-packages (from torchmetrics) (2.6.0+cu124)\n",
            "Collecting lightning-utilities>=0.8.0 (from torchmetrics)\n",
            "  Downloading lightning_utilities-0.14.3-py3-none-any.whl.metadata (5.6 kB)\n",
            "Requirement already satisfied: setuptools in /usr/local/lib/python3.11/dist-packages (from lightning-utilities>=0.8.0->torchmetrics) (75.2.0)\n",
            "Requirement already satisfied: typing_extensions in /usr/local/lib/python3.11/dist-packages (from lightning-utilities>=0.8.0->torchmetrics) (4.14.0)\n",
            "Requirement already satisfied: filelock in /usr/local/lib/python3.11/dist-packages (from torch>=2.0.0->torchmetrics) (3.18.0)\n",
            "Requirement already satisfied: networkx in /usr/local/lib/python3.11/dist-packages (from torch>=2.0.0->torchmetrics) (3.5)\n",
            "Requirement already satisfied: jinja2 in /usr/local/lib/python3.11/dist-packages (from torch>=2.0.0->torchmetrics) (3.1.6)\n",
            "Requirement already satisfied: fsspec in /usr/local/lib/python3.11/dist-packages (from torch>=2.0.0->torchmetrics) (2025.3.2)\n",
            "Collecting nvidia-cuda-nvrtc-cu12==12.4.127 (from torch>=2.0.0->torchmetrics)\n",
            "  Downloading nvidia_cuda_nvrtc_cu12-12.4.127-py3-none-manylinux2014_x86_64.whl.metadata (1.5 kB)\n",
            "Collecting nvidia-cuda-runtime-cu12==12.4.127 (from torch>=2.0.0->torchmetrics)\n",
            "  Downloading nvidia_cuda_runtime_cu12-12.4.127-py3-none-manylinux2014_x86_64.whl.metadata (1.5 kB)\n",
            "Collecting nvidia-cuda-cupti-cu12==12.4.127 (from torch>=2.0.0->torchmetrics)\n",
            "  Downloading nvidia_cuda_cupti_cu12-12.4.127-py3-none-manylinux2014_x86_64.whl.metadata (1.6 kB)\n",
            "Collecting nvidia-cudnn-cu12==9.1.0.70 (from torch>=2.0.0->torchmetrics)\n",
            "  Downloading nvidia_cudnn_cu12-9.1.0.70-py3-none-manylinux2014_x86_64.whl.metadata (1.6 kB)\n",
            "Collecting nvidia-cublas-cu12==12.4.5.8 (from torch>=2.0.0->torchmetrics)\n",
            "  Downloading nvidia_cublas_cu12-12.4.5.8-py3-none-manylinux2014_x86_64.whl.metadata (1.5 kB)\n",
            "Collecting nvidia-cufft-cu12==11.2.1.3 (from torch>=2.0.0->torchmetrics)\n",
            "  Downloading nvidia_cufft_cu12-11.2.1.3-py3-none-manylinux2014_x86_64.whl.metadata (1.5 kB)\n",
            "Collecting nvidia-curand-cu12==10.3.5.147 (from torch>=2.0.0->torchmetrics)\n",
            "  Downloading nvidia_curand_cu12-10.3.5.147-py3-none-manylinux2014_x86_64.whl.metadata (1.5 kB)\n",
            "Collecting nvidia-cusolver-cu12==11.6.1.9 (from torch>=2.0.0->torchmetrics)\n",
            "  Downloading nvidia_cusolver_cu12-11.6.1.9-py3-none-manylinux2014_x86_64.whl.metadata (1.6 kB)\n",
            "Collecting nvidia-cusparse-cu12==12.3.1.170 (from torch>=2.0.0->torchmetrics)\n",
            "  Downloading nvidia_cusparse_cu12-12.3.1.170-py3-none-manylinux2014_x86_64.whl.metadata (1.6 kB)\n",
            "Requirement already satisfied: nvidia-cusparselt-cu12==0.6.2 in /usr/local/lib/python3.11/dist-packages (from torch>=2.0.0->torchmetrics) (0.6.2)\n",
            "Requirement already satisfied: nvidia-nccl-cu12==2.21.5 in /usr/local/lib/python3.11/dist-packages (from torch>=2.0.0->torchmetrics) (2.21.5)\n",
            "Requirement already satisfied: nvidia-nvtx-cu12==12.4.127 in /usr/local/lib/python3.11/dist-packages (from torch>=2.0.0->torchmetrics) (12.4.127)\n",
            "Collecting nvidia-nvjitlink-cu12==12.4.127 (from torch>=2.0.0->torchmetrics)\n",
            "  Downloading nvidia_nvjitlink_cu12-12.4.127-py3-none-manylinux2014_x86_64.whl.metadata (1.5 kB)\n",
            "Requirement already satisfied: triton==3.2.0 in /usr/local/lib/python3.11/dist-packages (from torch>=2.0.0->torchmetrics) (3.2.0)\n",
            "Requirement already satisfied: sympy==1.13.1 in /usr/local/lib/python3.11/dist-packages (from torch>=2.0.0->torchmetrics) (1.13.1)\n",
            "Requirement already satisfied: mpmath<1.4,>=1.1.0 in /usr/local/lib/python3.11/dist-packages (from sympy==1.13.1->torch>=2.0.0->torchmetrics) (1.3.0)\n",
            "Requirement already satisfied: MarkupSafe>=2.0 in /usr/local/lib/python3.11/dist-packages (from jinja2->torch>=2.0.0->torchmetrics) (3.0.2)\n",
            "Downloading torchmetrics-1.7.3-py3-none-any.whl (962 kB)\n",
            "\u001b[2K   \u001b[90m━━━━━━━━━━━━━━━━━━━━━━━━━━━━━━━━━━━━━━━━\u001b[0m \u001b[32m962.6/962.6 kB\u001b[0m \u001b[31m15.0 MB/s\u001b[0m eta \u001b[36m0:00:00\u001b[0m\n",
            "\u001b[?25hDownloading lightning_utilities-0.14.3-py3-none-any.whl (28 kB)\n",
            "Downloading nvidia_cublas_cu12-12.4.5.8-py3-none-manylinux2014_x86_64.whl (363.4 MB)\n",
            "\u001b[2K   \u001b[90m━━━━━━━━━━━━━━━━━━━━━━━━━━━━━━━━━━━━━━━━\u001b[0m \u001b[32m363.4/363.4 MB\u001b[0m \u001b[31m3.6 MB/s\u001b[0m eta \u001b[36m0:00:00\u001b[0m\n",
            "\u001b[?25hDownloading nvidia_cuda_cupti_cu12-12.4.127-py3-none-manylinux2014_x86_64.whl (13.8 MB)\n",
            "\u001b[2K   \u001b[90m━━━━━━━━━━━━━━━━━━━━━━━━━━━━━━━━━━━━━━━━\u001b[0m \u001b[32m13.8/13.8 MB\u001b[0m \u001b[31m112.7 MB/s\u001b[0m eta \u001b[36m0:00:00\u001b[0m\n",
            "\u001b[?25hDownloading nvidia_cuda_nvrtc_cu12-12.4.127-py3-none-manylinux2014_x86_64.whl (24.6 MB)\n",
            "\u001b[2K   \u001b[90m━━━━━━━━━━━━━━━━━━━━━━━━━━━━━━━━━━━━━━━━\u001b[0m \u001b[32m24.6/24.6 MB\u001b[0m \u001b[31m97.4 MB/s\u001b[0m eta \u001b[36m0:00:00\u001b[0m\n",
            "\u001b[?25hDownloading nvidia_cuda_runtime_cu12-12.4.127-py3-none-manylinux2014_x86_64.whl (883 kB)\n",
            "\u001b[2K   \u001b[90m━━━━━━━━━━━━━━━━━━━━━━━━━━━━━━━━━━━━━━━━\u001b[0m \u001b[32m883.7/883.7 kB\u001b[0m \u001b[31m56.5 MB/s\u001b[0m eta \u001b[36m0:00:00\u001b[0m\n",
            "\u001b[?25hDownloading nvidia_cudnn_cu12-9.1.0.70-py3-none-manylinux2014_x86_64.whl (664.8 MB)\n",
            "\u001b[2K   \u001b[90m━━━━━━━━━━━━━━━━━━━━━━━━━━━━━━━━━━━━━━━━\u001b[0m \u001b[32m664.8/664.8 MB\u001b[0m \u001b[31m2.2 MB/s\u001b[0m eta \u001b[36m0:00:00\u001b[0m\n",
            "\u001b[?25hDownloading nvidia_cufft_cu12-11.2.1.3-py3-none-manylinux2014_x86_64.whl (211.5 MB)\n",
            "\u001b[2K   \u001b[90m━━━━━━━━━━━━━━━━━━━━━━━━━━━━━━━━━━━━━━━━\u001b[0m \u001b[32m211.5/211.5 MB\u001b[0m \u001b[31m5.0 MB/s\u001b[0m eta \u001b[36m0:00:00\u001b[0m\n",
            "\u001b[?25hDownloading nvidia_curand_cu12-10.3.5.147-py3-none-manylinux2014_x86_64.whl (56.3 MB)\n",
            "\u001b[2K   \u001b[90m━━━━━━━━━━━━━━━━━━━━━━━━━━━━━━━━━━━━━━━━\u001b[0m \u001b[32m56.3/56.3 MB\u001b[0m \u001b[31m42.1 MB/s\u001b[0m eta \u001b[36m0:00:00\u001b[0m\n",
            "\u001b[?25hDownloading nvidia_cusolver_cu12-11.6.1.9-py3-none-manylinux2014_x86_64.whl (127.9 MB)\n",
            "\u001b[2K   \u001b[90m━━━━━━━━━━━━━━━━━━━━━━━━━━━━━━━━━━━━━━━━\u001b[0m \u001b[32m127.9/127.9 MB\u001b[0m \u001b[31m19.3 MB/s\u001b[0m eta \u001b[36m0:00:00\u001b[0m\n",
            "\u001b[?25hDownloading nvidia_cusparse_cu12-12.3.1.170-py3-none-manylinux2014_x86_64.whl (207.5 MB)\n",
            "\u001b[2K   \u001b[90m━━━━━━━━━━━━━━━━━━━━━━━━━━━━━━━━━━━━━━━━\u001b[0m \u001b[32m207.5/207.5 MB\u001b[0m \u001b[31m4.2 MB/s\u001b[0m eta \u001b[36m0:00:00\u001b[0m\n",
            "\u001b[?25hDownloading nvidia_nvjitlink_cu12-12.4.127-py3-none-manylinux2014_x86_64.whl (21.1 MB)\n",
            "\u001b[2K   \u001b[90m━━━━━━━━━━━━━━━━━━━━━━━━━━━━━━━━━━━━━━━━\u001b[0m \u001b[32m21.1/21.1 MB\u001b[0m \u001b[31m102.9 MB/s\u001b[0m eta \u001b[36m0:00:00\u001b[0m\n",
            "\u001b[?25hInstalling collected packages: nvidia-nvjitlink-cu12, nvidia-curand-cu12, nvidia-cufft-cu12, nvidia-cuda-runtime-cu12, nvidia-cuda-nvrtc-cu12, nvidia-cuda-cupti-cu12, nvidia-cublas-cu12, lightning-utilities, nvidia-cusparse-cu12, nvidia-cudnn-cu12, nvidia-cusolver-cu12, torchmetrics\n",
            "  Attempting uninstall: nvidia-nvjitlink-cu12\n",
            "    Found existing installation: nvidia-nvjitlink-cu12 12.5.82\n",
            "    Uninstalling nvidia-nvjitlink-cu12-12.5.82:\n",
            "      Successfully uninstalled nvidia-nvjitlink-cu12-12.5.82\n",
            "  Attempting uninstall: nvidia-curand-cu12\n",
            "    Found existing installation: nvidia-curand-cu12 10.3.6.82\n",
            "    Uninstalling nvidia-curand-cu12-10.3.6.82:\n",
            "      Successfully uninstalled nvidia-curand-cu12-10.3.6.82\n",
            "  Attempting uninstall: nvidia-cufft-cu12\n",
            "    Found existing installation: nvidia-cufft-cu12 11.2.3.61\n",
            "    Uninstalling nvidia-cufft-cu12-11.2.3.61:\n",
            "      Successfully uninstalled nvidia-cufft-cu12-11.2.3.61\n",
            "  Attempting uninstall: nvidia-cuda-runtime-cu12\n",
            "    Found existing installation: nvidia-cuda-runtime-cu12 12.5.82\n",
            "    Uninstalling nvidia-cuda-runtime-cu12-12.5.82:\n",
            "      Successfully uninstalled nvidia-cuda-runtime-cu12-12.5.82\n",
            "  Attempting uninstall: nvidia-cuda-nvrtc-cu12\n",
            "    Found existing installation: nvidia-cuda-nvrtc-cu12 12.5.82\n",
            "    Uninstalling nvidia-cuda-nvrtc-cu12-12.5.82:\n",
            "      Successfully uninstalled nvidia-cuda-nvrtc-cu12-12.5.82\n",
            "  Attempting uninstall: nvidia-cuda-cupti-cu12\n",
            "    Found existing installation: nvidia-cuda-cupti-cu12 12.5.82\n",
            "    Uninstalling nvidia-cuda-cupti-cu12-12.5.82:\n",
            "      Successfully uninstalled nvidia-cuda-cupti-cu12-12.5.82\n",
            "  Attempting uninstall: nvidia-cublas-cu12\n",
            "    Found existing installation: nvidia-cublas-cu12 12.5.3.2\n",
            "    Uninstalling nvidia-cublas-cu12-12.5.3.2:\n",
            "      Successfully uninstalled nvidia-cublas-cu12-12.5.3.2\n",
            "  Attempting uninstall: nvidia-cusparse-cu12\n",
            "    Found existing installation: nvidia-cusparse-cu12 12.5.1.3\n",
            "    Uninstalling nvidia-cusparse-cu12-12.5.1.3:\n",
            "      Successfully uninstalled nvidia-cusparse-cu12-12.5.1.3\n",
            "  Attempting uninstall: nvidia-cudnn-cu12\n",
            "    Found existing installation: nvidia-cudnn-cu12 9.3.0.75\n",
            "    Uninstalling nvidia-cudnn-cu12-9.3.0.75:\n",
            "      Successfully uninstalled nvidia-cudnn-cu12-9.3.0.75\n",
            "  Attempting uninstall: nvidia-cusolver-cu12\n",
            "    Found existing installation: nvidia-cusolver-cu12 11.6.3.83\n",
            "    Uninstalling nvidia-cusolver-cu12-11.6.3.83:\n",
            "      Successfully uninstalled nvidia-cusolver-cu12-11.6.3.83\n",
            "Successfully installed lightning-utilities-0.14.3 nvidia-cublas-cu12-12.4.5.8 nvidia-cuda-cupti-cu12-12.4.127 nvidia-cuda-nvrtc-cu12-12.4.127 nvidia-cuda-runtime-cu12-12.4.127 nvidia-cudnn-cu12-9.1.0.70 nvidia-cufft-cu12-11.2.1.3 nvidia-curand-cu12-10.3.5.147 nvidia-cusolver-cu12-11.6.1.9 nvidia-cusparse-cu12-12.3.1.170 nvidia-nvjitlink-cu12-12.4.127 torchmetrics-1.7.3\n"
          ]
        }
      ]
    },
    {
      "cell_type": "code",
      "source": [
        "# loss function, accuracy, optimzer\n",
        "\n",
        "# loss function\n",
        "loss_func = nn.CrossEntropyLoss() #cross entropy loss\n",
        "\n",
        "# metric accuracy\n",
        "from torchmetrics.classification import Accuracy\n",
        "\n",
        "metric_fun = Accuracy(task=\"multiclass\", num_classes=3)\n",
        "metric_fun = metric_fun.to(device)\n",
        "\n",
        "# Adam\n",
        "from torch import optim\n",
        "LR_ST = 1e-3\n",
        "opt = optim.Adam(model.parameters(), lr=LR_ST)\n",
        "\n",
        "# add a LR scheduler (decrese LR of a factor gamma every 15 epochs): lr = lr*gamma\n",
        "scheduler = optim.lr_scheduler.StepLR(opt, 15, gamma=0.1, last_epoch=-1, verbose=True)"
      ],
      "metadata": {
        "id": "0CgWlXPP-TmQ"
      },
      "execution_count": 19,
      "outputs": []
    },
    {
      "cell_type": "code",
      "source": [
        "# Training function\n",
        "import time\n",
        "\n",
        "def train_model(nn_model, criterion, metric, n_epochs, dl_train, dl_vali):\n",
        "\n",
        "  hist_loss = []\n",
        "  hist_metric = []\n",
        "  hist_vloss = []\n",
        "  hist_vmetric = []\n",
        "\n",
        "  best_valid_loss=float('inf') #initialize checkpoint counter\n",
        "\n",
        "\n",
        "  # loop over epochs\n",
        "  for epoch in range(n_epochs):\n",
        "    t0 = time.time()\n",
        "\n",
        "    # training phase\n",
        "    model.train()\n",
        "    train_loss = 0\n",
        "    train_metric = 0\n",
        "    counter = 0\n",
        "    for xb, yb, _ in dl_train:\n",
        "        counter += 1\n",
        "        xb=xb.to(device)\n",
        "        yb=yb.to(device)\n",
        "\n",
        "        pred = nn_model(xb)\n",
        "\n",
        "\n",
        "        loss = criterion(pred, yb)\n",
        "        if metric != None:\n",
        "          tmetric = metric(pred, yb)\n",
        "\n",
        "        train_loss += loss.item()\n",
        "        if metric != None:\n",
        "          train_metric += tmetric.item()\n",
        "\n",
        "        # backpropagation\n",
        "        opt.zero_grad()\n",
        "        loss.backward()\n",
        "        opt.step()\n",
        "\n",
        "\n",
        "    train_loss /= counter\n",
        "    hist_loss.append(train_loss)\n",
        "\n",
        "    if metric != None:\n",
        "      train_metric /= counter\n",
        "      hist_metric.append(train_metric)\n",
        "\n",
        "\n",
        "    # validation phase\n",
        "    model.eval()\n",
        "    vali_loss = 0\n",
        "    vali_metric = 0\n",
        "    counter = 0\n",
        "    with torch.no_grad():\n",
        "      for xb, yb, _ in dl_vali:\n",
        "        counter += 1\n",
        "        xb=xb.to(device)\n",
        "        yb=yb.to(device)\n",
        "\n",
        "        pred = nn_model(xb)\n",
        "\n",
        "        vloss = criterion(pred, yb)\n",
        "        vali_loss += vloss.item()\n",
        "\n",
        "        if metric != None:\n",
        "          vmetric = metric(pred, yb)\n",
        "          vali_metric += vmetric.item()\n",
        "\n",
        "    vali_loss /= counter\n",
        "    hist_vloss.append(vali_loss)\n",
        "\n",
        "    if metric != None:\n",
        "      vali_metric /= counter\n",
        "      hist_vmetric.append(vali_metric)\n",
        "\n",
        "\n",
        "    elapsed_time = time.time()-t0\n",
        "    if metric != None:\n",
        "      print(\"epoch: %d, time(s): %.4f, train loss: %.6f, train metric: %.6f, vali loss: %.6f, vali metric: %.6f\"\n",
        "            % (epoch+1, elapsed_time, train_loss, train_metric, vali_loss, vali_metric))\n",
        "    else:\n",
        "      print(\"epoch: %d, time(s): %.4f, train loss: %.6f, vali loss: %.6f\"\n",
        "            % (epoch+1, elapsed_time, train_loss, vali_loss))\n",
        "\n",
        "\n",
        "    #save best model\n",
        "    if vali_loss < best_valid_loss:\n",
        "      best_valid_loss = vali_loss\n",
        "      print(f\"\\nBest validation loss: {best_valid_loss}\")\n",
        "      print(f\"\\nSaving best model for epoch: {epoch+1}\\n\")\n",
        "      torch.save(model.state_dict(), 'best_model_w.pth')\n",
        "\n",
        "\n",
        "    # update learning rate schedule\n",
        "    scheduler.step()\n",
        "\n",
        "  return nn_model, hist_loss, hist_metric, hist_vloss, hist_vmetric"
      ],
      "metadata": {
        "id": "DmflAR2m-rZ5"
      },
      "execution_count": 20,
      "outputs": []
    },
    {
      "cell_type": "code",
      "source": [
        "# Training\n",
        "\n",
        "model = myVGG()\n",
        "model.to(device)\n",
        "opt = optim.Adam(model.parameters(), lr=LR_ST)\n",
        "scheduler = optim.lr_scheduler.StepLR(opt, 15, gamma=0.1, last_epoch=-1, verbose=True)\n",
        "metric_fun = metric_fun.to(device)\n",
        "\n",
        "# numero di epoche\n",
        "epochs = 40\n",
        "\n",
        "model, hist_loss, hist_metric, hist_vloss, hist_vmetric = train_model(nn_model=model, criterion=loss_func, metric=metric_fun, n_epochs=epochs, dl_train=dl_train, dl_vali=dl_vali)\n"
      ],
      "metadata": {
        "colab": {
          "base_uri": "https://localhost:8080/"
        },
        "id": "YKhAGeg_AGEs",
        "outputId": "e9142a12-0b91-4f94-d6e7-8c8f30ea1660"
      },
      "execution_count": 21,
      "outputs": [
        {
          "output_type": "stream",
          "name": "stdout",
          "text": [
            "epoch: 1, time(s): 1.3344, train loss: 0.463817, train metric: 0.792682, vali loss: 0.123992, vali metric: 0.957532\n",
            "\n",
            "Best validation loss: 0.1239921788756664\n",
            "\n",
            "Saving best model for epoch: 1\n",
            "\n",
            "epoch: 2, time(s): 0.9652, train loss: 0.154466, train metric: 0.943359, vali loss: 0.094979, vali metric: 0.961739\n",
            "\n",
            "Best validation loss: 0.09497941180299489\n",
            "\n",
            "Saving best model for epoch: 2\n",
            "\n",
            "epoch: 3, time(s): 0.9453, train loss: 0.134923, train metric: 0.950138, vali loss: 0.091829, vali metric: 0.962740\n",
            "\n",
            "Best validation loss: 0.09182943637745503\n",
            "\n",
            "Saving best model for epoch: 3\n",
            "\n",
            "epoch: 4, time(s): 0.9535, train loss: 0.125352, train metric: 0.950597, vali loss: 0.088802, vali metric: 0.963542\n",
            "\n",
            "Best validation loss: 0.08880221413878295\n",
            "\n",
            "Saving best model for epoch: 4\n",
            "\n",
            "epoch: 5, time(s): 0.9785, train loss: 0.121646, train metric: 0.953757, vali loss: 0.090166, vali metric: 0.962540\n",
            "epoch: 6, time(s): 1.0366, train loss: 0.115481, train metric: 0.954102, vali loss: 0.094335, vali metric: 0.963141\n",
            "epoch: 7, time(s): 0.9486, train loss: 0.110017, train metric: 0.956227, vali loss: 0.089137, vali metric: 0.961538\n",
            "epoch: 8, time(s): 1.0516, train loss: 0.112651, train metric: 0.954102, vali loss: 0.090964, vali metric: 0.962941\n",
            "epoch: 9, time(s): 0.9737, train loss: 0.108880, train metric: 0.955595, vali loss: 0.087736, vali metric: 0.962941\n",
            "\n",
            "Best validation loss: 0.08773646164589967\n",
            "\n",
            "Saving best model for epoch: 9\n",
            "\n",
            "epoch: 10, time(s): 1.0336, train loss: 0.106098, train metric: 0.956744, vali loss: 0.091362, vali metric: 0.961338\n",
            "epoch: 11, time(s): 1.0282, train loss: 0.103318, train metric: 0.957663, vali loss: 0.090411, vali metric: 0.962340\n",
            "epoch: 12, time(s): 1.0594, train loss: 0.102814, train metric: 0.957548, vali loss: 0.086672, vali metric: 0.964944\n",
            "\n",
            "Best validation loss: 0.0866716206073761\n",
            "\n",
            "Saving best model for epoch: 12\n",
            "\n",
            "epoch: 13, time(s): 1.0113, train loss: 0.101831, train metric: 0.959616, vali loss: 0.089392, vali metric: 0.960337\n",
            "epoch: 14, time(s): 0.9712, train loss: 0.103021, train metric: 0.958180, vali loss: 0.107590, vali metric: 0.960938\n",
            "epoch: 15, time(s): 0.9899, train loss: 0.104028, train metric: 0.958008, vali loss: 0.089545, vali metric: 0.964944\n",
            "epoch: 16, time(s): 0.9985, train loss: 0.095988, train metric: 0.961225, vali loss: 0.087559, vali metric: 0.967348\n",
            "epoch: 17, time(s): 0.9766, train loss: 0.095507, train metric: 0.961340, vali loss: 0.088833, vali metric: 0.964744\n",
            "epoch: 18, time(s): 1.0160, train loss: 0.094653, train metric: 0.961282, vali loss: 0.085942, vali metric: 0.962941\n",
            "\n",
            "Best validation loss: 0.08594202383970603\n",
            "\n",
            "Saving best model for epoch: 18\n",
            "\n",
            "epoch: 19, time(s): 0.9461, train loss: 0.094414, train metric: 0.962029, vali loss: 0.085163, vali metric: 0.964143\n",
            "\n",
            "Best validation loss: 0.08516317911637135\n",
            "\n",
            "Saving best model for epoch: 19\n",
            "\n",
            "epoch: 20, time(s): 0.9942, train loss: 0.095055, train metric: 0.961110, vali loss: 0.086541, vali metric: 0.964143\n",
            "epoch: 21, time(s): 0.9492, train loss: 0.091295, train metric: 0.962259, vali loss: 0.087020, vali metric: 0.964343\n",
            "epoch: 22, time(s): 0.9974, train loss: 0.095030, train metric: 0.960535, vali loss: 0.086747, vali metric: 0.964543\n",
            "epoch: 23, time(s): 1.0061, train loss: 0.092798, train metric: 0.961799, vali loss: 0.086901, vali metric: 0.963542\n",
            "epoch: 24, time(s): 0.9523, train loss: 0.095050, train metric: 0.961857, vali loss: 0.086533, vali metric: 0.963942\n",
            "epoch: 25, time(s): 0.9790, train loss: 0.091987, train metric: 0.961857, vali loss: 0.086170, vali metric: 0.963742\n",
            "epoch: 26, time(s): 0.9678, train loss: 0.090745, train metric: 0.963523, vali loss: 0.086418, vali metric: 0.961939\n",
            "epoch: 27, time(s): 1.0319, train loss: 0.096557, train metric: 0.961225, vali loss: 0.086899, vali metric: 0.964143\n",
            "epoch: 28, time(s): 0.9747, train loss: 0.092636, train metric: 0.962374, vali loss: 0.086162, vali metric: 0.962941\n",
            "epoch: 29, time(s): 0.9912, train loss: 0.091192, train metric: 0.963178, vali loss: 0.086361, vali metric: 0.961538\n",
            "epoch: 30, time(s): 0.9717, train loss: 0.092492, train metric: 0.961627, vali loss: 0.087167, vali metric: 0.966146\n",
            "epoch: 31, time(s): 0.9709, train loss: 0.091129, train metric: 0.963465, vali loss: 0.086322, vali metric: 0.964343\n",
            "epoch: 32, time(s): 0.9347, train loss: 0.092153, train metric: 0.961684, vali loss: 0.086239, vali metric: 0.963942\n",
            "epoch: 33, time(s): 0.9395, train loss: 0.091322, train metric: 0.962201, vali loss: 0.086106, vali metric: 0.963341\n",
            "epoch: 34, time(s): 1.0222, train loss: 0.092838, train metric: 0.962316, vali loss: 0.086113, vali metric: 0.963141\n",
            "epoch: 35, time(s): 0.9506, train loss: 0.088293, train metric: 0.963178, vali loss: 0.086054, vali metric: 0.963341\n",
            "epoch: 36, time(s): 0.9500, train loss: 0.089391, train metric: 0.963293, vali loss: 0.086053, vali metric: 0.963341\n",
            "epoch: 37, time(s): 0.9783, train loss: 0.092212, train metric: 0.962718, vali loss: 0.086082, vali metric: 0.963141\n",
            "epoch: 38, time(s): 0.9794, train loss: 0.091244, train metric: 0.963006, vali loss: 0.086085, vali metric: 0.962740\n",
            "epoch: 39, time(s): 0.9529, train loss: 0.090737, train metric: 0.963810, vali loss: 0.086123, vali metric: 0.963341\n",
            "epoch: 40, time(s): 0.9488, train loss: 0.088800, train metric: 0.962776, vali loss: 0.086152, vali metric: 0.963141\n"
          ]
        }
      ]
    },
    {
      "cell_type": "code",
      "source": [
        "# draw training curves\n",
        "plt.figure(figsize=(10, 7))\n",
        "plt.subplot(1,2,1)\n",
        "plt.plot(range(1,len(hist_loss)+1), hist_loss, color='green', linestyle='-', label='train loss')\n",
        "plt.plot(range(1,len(hist_vloss)+1), hist_vloss, color='blue', linestyle='-', label='validation loss')\n",
        "plt.xlabel('Epochs')\n",
        "plt.ylabel('Loss')\n",
        "plt.legend()\n",
        "\n",
        "plt.subplot(1,2,2)\n",
        "plt.plot(range(1,len(hist_metric)+1),hist_metric, color='green', linestyle='-', label='train metric')\n",
        "plt.plot(range(1,len(hist_vmetric)+1),hist_vmetric, color='blue', linestyle='-', label='validation metric')\n",
        "plt.xlabel('Epochs')\n",
        "plt.ylabel('Metric')\n",
        "plt.legend()\n",
        "plt.show()"
      ],
      "metadata": {
        "colab": {
          "base_uri": "https://localhost:8080/",
          "height": 642
        },
        "id": "OMSwarbgAfrF",
        "outputId": "371608e7-9fd6-4ffd-c0a9-e2ed5e506580"
      },
      "execution_count": 22,
      "outputs": [
        {
          "output_type": "display_data",
          "data": {
            "text/plain": [
              "<Figure size 1000x700 with 2 Axes>"
            ],
            "image/png": "[encoded data removed]"
          },
          "metadata": {}
        }
      ]
    },
    {
      "cell_type": "code",
      "source": [
        "# load the best model weights\n",
        "checkpoint = torch.load('./best_model_w.pth')\n",
        "model = myVGG()\n",
        "model.load_state_dict(checkpoint)\n",
        "model.eval()"
      ],
      "metadata": {
        "colab": {
          "base_uri": "https://localhost:8080/"
        },
        "id": "b_bUeCbfAEvQ",
        "outputId": "feb23b26-792e-457a-9980-00f489c9deac"
      },
      "execution_count": 23,
      "outputs": [
        {
          "output_type": "execute_result",
          "data": {
            "text/plain": [
              "myVGG(\n",
              "  (conv1): Conv2d(1, 8, kernel_size=(3, 3), stride=(1, 1))\n",
              "  (pool1): MaxPool2d(kernel_size=(2, 2), stride=(2, 2), padding=0, dilation=1, ceil_mode=False)\n",
              "  (conv2): Conv2d(8, 16, kernel_size=(3, 3), stride=(1, 1))\n",
              "  (pool2): MaxPool2d(kernel_size=(2, 2), stride=(2, 2), padding=0, dilation=1, ceil_mode=False)\n",
              "  (flatten): Flatten(start_dim=1, end_dim=-1)\n",
              "  (drop1): Dropout(p=0.5, inplace=False)\n",
              "  (fc1): Linear(in_features=400, out_features=32, bias=True)\n",
              "  (drop2): Dropout(p=0.5, inplace=False)\n",
              "  (fc2): Linear(in_features=32, out_features=32, bias=True)\n",
              "  (fc3): Linear(in_features=32, out_features=3, bias=True)\n",
              ")"
            ]
          },
          "metadata": {},
          "execution_count": 23
        }
      ]
    },
    {
      "cell_type": "code",
      "source": [
        "# test set perfromance\n",
        "\n",
        "model.to(torch.device('cpu'))\n",
        "metric_fun = metric_fun.to('cpu')\n",
        "\n",
        "loss = 0\n",
        "metric = 0\n",
        "counter = 0\n",
        "\n",
        "for xb, yb,_ in dl_test:\n",
        "  counter += 1\n",
        "  xb=xb.to('cpu')\n",
        "  yb=yb.to('cpu')\n",
        "  pred = model(xb)\n",
        "\n",
        "  loss += loss_func(pred, yb).item()\n",
        "  metric += metric_fun(pred, yb).item()\n",
        "\n",
        "\n",
        "loss /= counter\n",
        "metric /= counter\n",
        "\n",
        "print('Test loss/accuracy: ',loss, ' / ', metric)"
      ],
      "metadata": {
        "colab": {
          "base_uri": "https://localhost:8080/"
        },
        "id": "JYAT6jDvA9sA",
        "outputId": "8cbfbdee-96eb-4fa8-ac3a-b25f22a2e1f1"
      },
      "execution_count": 24,
      "outputs": [
        {
          "output_type": "stream",
          "name": "stdout",
          "text": [
            "Test loss/accuracy:  0.07842889898877758  /  0.9684\n"
          ]
        }
      ]
    },
    {
      "cell_type": "code",
      "source": [
        "#confusion matrix\n",
        "\n",
        "#nice printout\n",
        "def print_cm(cm, labels, hide_zeroes=False, hide_diagonal=False, hide_threshold=None):\n",
        "    \"\"\"pretty print for confusion matrixes\"\"\"\n",
        "    columnwidth = max([len(x) for x in labels] + [5])  # 5 is value length\n",
        "    empty_cell = \" \" * columnwidth\n",
        "    # Print header\n",
        "    print(\"    \" + empty_cell, end=\" \")\n",
        "    for label in labels:\n",
        "        print(\"%{0}s\".format(columnwidth) % label, end=\" \")\n",
        "    print()\n",
        "\n",
        "    # Print rows\n",
        "    for i, label1 in enumerate(labels):\n",
        "        print(\"    %{0}s\".format(columnwidth) % label1, end=\" \")\n",
        "        for j in range(len(labels)):\n",
        "            cell = \"%{0}.2f\".format(columnwidth) % cm[i, j]\n",
        "            if hide_zeroes:\n",
        "                cell = cell if float(cm[i, j]) != 0 else empty_cell\n",
        "            if hide_diagonal:\n",
        "                cell = cell if i != j else empty_cell\n",
        "            if hide_threshold:\n",
        "                cell = cell if cm[i, j] > hide_threshold else empty_cell\n",
        "            print(cell, end=\" \")\n",
        "        print()\n",
        "\n",
        "predictions = np.empty(shape=(0,))\n",
        "truths = np.empty(shape=(0,))\n",
        "\n",
        "for xb, yb, _ in dl_test:\n",
        "  counter += 1\n",
        "  xb=xb.to('cpu')\n",
        "  yb=yb.to('cpu')\n",
        "  pred = model(xb)\n",
        "\n",
        "  res = torch.argmax(pred, dim=1)\n",
        "\n",
        "  predictions = np.concatenate((predictions,res.detach().numpy()))\n",
        "  truths = np.concatenate((truths,yb.detach().numpy()))\n",
        "\n",
        "from sklearn.metrics import confusion_matrix\n",
        "c_mat = confusion_matrix(predictions, truths, normalize='true')\n",
        "print(\"Confusion Matrix:\")\n",
        "labels = ['0','1','2']\n",
        "print_cm(c_mat, labels)"
      ],
      "metadata": {
        "colab": {
          "base_uri": "https://localhost:8080/"
        },
        "id": "nUxDUL9aBLVT",
        "outputId": "62d234e7-fbe0-45ca-c66e-8d68038cae38"
      },
      "execution_count": 25,
      "outputs": [
        {
          "output_type": "stream",
          "name": "stdout",
          "text": [
            "Confusion Matrix:\n",
            "              0     1     2 \n",
            "        0  0.98  0.02  0.00 \n",
            "        1  0.06  0.84  0.09 \n",
            "        2  0.00  0.01  0.99 \n"
          ]
        }
      ]
    },
    {
      "cell_type": "markdown",
      "source": [
        "**Part 3:**\n",
        "\n",
        "Transfer Learning: let's get a pretrained CNN model and fine tune it for our task ..."
      ],
      "metadata": {
        "id": "olgieiNMDLbB"
      }
    },
    {
      "cell_type": "code",
      "source": [
        "# let's take a pretrained model from torchvision repository\n",
        "\n",
        "from torchvision import datasets, transforms, models\n",
        "\n",
        "# example VGG11\n",
        "model = models.vgg11(pretrained=True)\n",
        "\n",
        "#model = models.mobilenet_v3_large(pretrained=True)\n",
        "\n",
        "#model = models.resnet18(pretrained=True)\n",
        "\n",
        "\n",
        "print(model)"
      ],
      "metadata": {
        "colab": {
          "base_uri": "https://localhost:8080/"
        },
        "id": "ywAJuOpBDI8-",
        "outputId": "fd78a5b2-2fca-4d14-cb2a-eb6c98eedfc2"
      },
      "execution_count": 26,
      "outputs": [
        {
          "output_type": "stream",
          "name": "stderr",
          "text": [
            "/usr/local/lib/python3.11/dist-packages/torchvision/models/_utils.py:208: UserWarning: The parameter 'pretrained' is deprecated since 0.13 and may be removed in the future, please use 'weights' instead.\n",
            "  warnings.warn(\n",
            "/usr/local/lib/python3.11/dist-packages/torchvision/models/_utils.py:223: UserWarning: Arguments other than a weight enum or `None` for 'weights' are deprecated since 0.13 and may be removed in the future. The current behavior is equivalent to passing `weights=VGG11_Weights.IMAGENET1K_V1`. You can also use `weights=VGG11_Weights.DEFAULT` to get the most up-to-date weights.\n",
            "  warnings.warn(msg)\n",
            "Downloading: \"https://download.pytorch.org/models/vgg11-8a719046.pth\" to /root/.cache/torch/hub/checkpoints/vgg11-8a719046.pth\n",
            "100%|██████████| 507M/507M [00:02<00:00, 242MB/s]\n"
          ]
        },
        {
          "output_type": "stream",
          "name": "stdout",
          "text": [
            "VGG(\n",
            "  (features): Sequential(\n",
            "    (0): Conv2d(3, 64, kernel_size=(3, 3), stride=(1, 1), padding=(1, 1))\n",
            "    (1): ReLU(inplace=True)\n",
            "    (2): MaxPool2d(kernel_size=2, stride=2, padding=0, dilation=1, ceil_mode=False)\n",
            "    (3): Conv2d(64, 128, kernel_size=(3, 3), stride=(1, 1), padding=(1, 1))\n",
            "    (4): ReLU(inplace=True)\n",
            "    (5): MaxPool2d(kernel_size=2, stride=2, padding=0, dilation=1, ceil_mode=False)\n",
            "    (6): Conv2d(128, 256, kernel_size=(3, 3), stride=(1, 1), padding=(1, 1))\n",
            "    (7): ReLU(inplace=True)\n",
            "    (8): Conv2d(256, 256, kernel_size=(3, 3), stride=(1, 1), padding=(1, 1))\n",
            "    (9): ReLU(inplace=True)\n",
            "    (10): MaxPool2d(kernel_size=2, stride=2, padding=0, dilation=1, ceil_mode=False)\n",
            "    (11): Conv2d(256, 512, kernel_size=(3, 3), stride=(1, 1), padding=(1, 1))\n",
            "    (12): ReLU(inplace=True)\n",
            "    (13): Conv2d(512, 512, kernel_size=(3, 3), stride=(1, 1), padding=(1, 1))\n",
            "    (14): ReLU(inplace=True)\n",
            "    (15): MaxPool2d(kernel_size=2, stride=2, padding=0, dilation=1, ceil_mode=False)\n",
            "    (16): Conv2d(512, 512, kernel_size=(3, 3), stride=(1, 1), padding=(1, 1))\n",
            "    (17): ReLU(inplace=True)\n",
            "    (18): Conv2d(512, 512, kernel_size=(3, 3), stride=(1, 1), padding=(1, 1))\n",
            "    (19): ReLU(inplace=True)\n",
            "    (20): MaxPool2d(kernel_size=2, stride=2, padding=0, dilation=1, ceil_mode=False)\n",
            "  )\n",
            "  (avgpool): AdaptiveAvgPool2d(output_size=(7, 7))\n",
            "  (classifier): Sequential(\n",
            "    (0): Linear(in_features=25088, out_features=4096, bias=True)\n",
            "    (1): ReLU(inplace=True)\n",
            "    (2): Dropout(p=0.5, inplace=False)\n",
            "    (3): Linear(in_features=4096, out_features=4096, bias=True)\n",
            "    (4): ReLU(inplace=True)\n",
            "    (5): Dropout(p=0.5, inplace=False)\n",
            "    (6): Linear(in_features=4096, out_features=1000, bias=True)\n",
            "  )\n",
            ")\n"
          ]
        }
      ]
    },
    {
      "cell_type": "code",
      "source": [
        "# freeze\n",
        "\n",
        "for param in model.parameters():\n",
        "    param.requires_grad = False\n",
        "\n",
        "# classification Head\n",
        "\n",
        "from collections import OrderedDict\n",
        "\n",
        "classifier = nn.Sequential(OrderedDict([\n",
        "    ('dropout1',nn.Dropout(0.5)),\n",
        "    # define the inputs\n",
        "    ('fc1',nn.Linear(25088,64)),\n",
        "    ('relu1', nn.ReLU()),\n",
        "    ('dropout2',nn.Dropout(0.5)),\n",
        "    ('fc2',nn.Linear(64,64)),\n",
        "    ('relu2', nn.ReLU()),\n",
        "    ('output',nn.Linear(64,3)),\n",
        "    #('output', nn.LogSoftmax(dim=1))\n",
        "]))\n",
        "\n",
        "model.classifier = classifier"
      ],
      "metadata": {
        "id": "CQreQKX4_w31"
      },
      "execution_count": 27,
      "outputs": []
    },
    {
      "cell_type": "code",
      "source": [
        "# loss e optmizer\n",
        "\n",
        "loss_func = nn.CrossEntropyLoss() #cross entropy loss\n",
        "\n",
        "# metric accuracy\n",
        "from torchmetrics.classification import Accuracy\n",
        "\n",
        "metric_fun = Accuracy(task=\"multiclass\", num_classes=3)\n",
        "metric_fun = metric_fun.to(device)\n",
        "\n",
        "# optimizer\n",
        "from torch import optim\n",
        "LR_ST = 1e-3\n",
        "opt = optim.Adam(model.parameters(), lr=LR_ST)"
      ],
      "metadata": {
        "id": "topKCkwD6f8h"
      },
      "execution_count": 29,
      "outputs": []
    },
    {
      "cell_type": "code",
      "source": [
        "# NOTE: we need to transform our dataset to match the requirements of the pretrained model. In this case:\n",
        "\n",
        "# image shape: (3,224,244) <-- we have (1,28,28), so we need to resize to 224x224 and then stack three times the same channel\n",
        "\n",
        "data = data.reshape(25000,28,28)\n",
        "\n",
        "# convert data, temp and labels in torch tensors\n",
        "data_tensor = torch.from_numpy(data).type(torch.float32)\n",
        "\n",
        "from torchvision import datasets, transforms\n",
        "transform = transforms.Compose([\n",
        "    transforms.Resize((224, 224))\n",
        "])\n",
        "\n",
        "data_tensor_3 = transform(data_tensor)\n",
        "print(data_tensor_3.shape)\n",
        "\n",
        "data_tensor_3 = torch.stack((data_tensor_3, data_tensor_3, data_tensor_3), dim=-1)\n",
        "data_tensor_3 = data_tensor_3.permute(0,3,1,2)\n",
        "\n",
        "print(data_tensor_3.shape)\n",
        "\n"
      ],
      "metadata": {
        "colab": {
          "base_uri": "https://localhost:8080/"
        },
        "id": "6q19A-hJ5gxR",
        "outputId": "1be25e1d-82d7-414d-f198-2e9c88050617"
      },
      "execution_count": 30,
      "outputs": [
        {
          "output_type": "stream",
          "name": "stdout",
          "text": [
            "torch.Size([25000, 224, 224])\n",
            "torch.Size([25000, 3, 224, 224])\n"
          ]
        }
      ]
    },
    {
      "cell_type": "code",
      "source": [
        "#create datasets\n",
        "dataset = torch.utils.data.TensorDataset(data_tensor_3, labels_tensor, temp_tensor)\n",
        "\n",
        "# split dataset in training, validation and test\n",
        "ds_train, ds_vali, ds_test = torch.utils.data.random_split(dataset, [0.7,0.2,0.1])\n",
        "\n",
        "\n",
        "print('Trainign set size: ', len(ds_train))\n",
        "print('Validation set size: ',len(ds_vali))\n",
        "print('Test set size: ',len(ds_test))\n",
        "\n",
        "# create dataloader\n",
        "batch_size = 128\n",
        "dl_train = torch.utils.data.DataLoader(ds_train, batch_size=batch_size, shuffle=True, num_workers=2, drop_last=True)\n",
        "dl_vali = torch.utils.data.DataLoader(ds_vali, batch_size=batch_size, shuffle=True, num_workers=2, drop_last=True)\n",
        "dl_test = torch.utils.data.DataLoader(ds_test, batch_size=1, shuffle=True, num_workers=2)"
      ],
      "metadata": {
        "colab": {
          "base_uri": "https://localhost:8080/"
        },
        "id": "f_7j8QJW-qli",
        "outputId": "ba724350-93d9-411c-f6e2-fafc2d5dc470"
      },
      "execution_count": 31,
      "outputs": [
        {
          "output_type": "stream",
          "name": "stdout",
          "text": [
            "Trainign set size:  17500\n",
            "Validation set size:  5000\n",
            "Test set size:  2500\n"
          ]
        }
      ]
    },
    {
      "cell_type": "code",
      "source": [
        "# Training\n",
        "\n",
        "model.to(device)\n",
        "\n",
        "epochs = 20\n",
        "model, hist_loss, hist_metric, hist_vloss, hist_vmetric = train_model(nn_model=model, criterion=loss_func, metric=metric_fun, n_epochs=epochs, dl_train=dl_train, dl_vali=dl_vali)"
      ],
      "metadata": {
        "id": "GZ7zvnPy-x7J",
        "colab": {
          "base_uri": "https://localhost:8080/",
          "height": 768
        },
        "outputId": "910a0d8b-cf5f-4bf6-a91b-ed0438e826ed"
      },
      "execution_count": 32,
      "outputs": [
        {
          "output_type": "stream",
          "name": "stdout",
          "text": [
            "epoch: 1, time(s): 59.3276, train loss: 0.139484, train metric: 0.945427, vali loss: 0.086734, vali metric: 0.965345\n",
            "\n",
            "Best validation loss: 0.08673421885722722\n",
            "\n",
            "Saving best model for epoch: 1\n",
            "\n",
            "epoch: 2, time(s): 57.8647, train loss: 0.084071, train metric: 0.966050, vali loss: 0.083272, vali metric: 0.969752\n",
            "\n",
            "Best validation loss: 0.08327198988543107\n",
            "\n",
            "Saving best model for epoch: 2\n",
            "\n",
            "epoch: 3, time(s): 57.8818, train loss: 0.069470, train metric: 0.972599, vali loss: 0.082260, vali metric: 0.967548\n",
            "\n",
            "Best validation loss: 0.08226026432254376\n",
            "\n",
            "Saving best model for epoch: 3\n",
            "\n",
            "epoch: 4, time(s): 57.9584, train loss: 0.064848, train metric: 0.974035, vali loss: 0.087375, vali metric: 0.968349\n",
            "epoch: 5, time(s): 57.9264, train loss: 0.053751, train metric: 0.978171, vali loss: 0.094297, vali metric: 0.968149\n",
            "epoch: 6, time(s): 57.9005, train loss: 0.048016, train metric: 0.980871, vali loss: 0.102932, vali metric: 0.967348\n",
            "epoch: 7, time(s): 57.8848, train loss: 0.046450, train metric: 0.981043, vali loss: 0.090622, vali metric: 0.968750\n",
            "epoch: 8, time(s): 58.0514, train loss: 0.041088, train metric: 0.982709, vali loss: 0.115300, vali metric: 0.967348\n",
            "epoch: 9, time(s): 57.9813, train loss: 0.034826, train metric: 0.986443, vali loss: 0.100870, vali metric: 0.969151\n",
            "epoch: 10, time(s): 57.8980, train loss: 0.034710, train metric: 0.986156, vali loss: 0.099396, vali metric: 0.969151\n"
          ]
        },
        {
          "output_type": "error",
          "ename": "KeyboardInterrupt",
          "evalue": "",
          "traceback": [
            "\u001b[0;31m---------------------------------------------------------------------------\u001b[0m",
            "\u001b[0;31mKeyboardInterrupt\u001b[0m                         Traceback (most recent call last)",
            "\u001b[0;32m<ipython-input-32-3332367780>\u001b[0m in \u001b[0;36m<cell line: 0>\u001b[0;34m()\u001b[0m\n\u001b[1;32m      4\u001b[0m \u001b[0;34m\u001b[0m\u001b[0m\n\u001b[1;32m      5\u001b[0m \u001b[0mepochs\u001b[0m \u001b[0;34m=\u001b[0m \u001b[0;36m20\u001b[0m\u001b[0;34m\u001b[0m\u001b[0;34m\u001b[0m\u001b[0m\n\u001b[0;32m----> 6\u001b[0;31m \u001b[0mmodel\u001b[0m\u001b[0;34m,\u001b[0m \u001b[0mhist_loss\u001b[0m\u001b[0;34m,\u001b[0m \u001b[0mhist_metric\u001b[0m\u001b[0;34m,\u001b[0m \u001b[0mhist_vloss\u001b[0m\u001b[0;34m,\u001b[0m \u001b[0mhist_vmetric\u001b[0m \u001b[0;34m=\u001b[0m \u001b[0mtrain_model\u001b[0m\u001b[0;34m(\u001b[0m\u001b[0mnn_model\u001b[0m\u001b[0;34m=\u001b[0m\u001b[0mmodel\u001b[0m\u001b[0;34m,\u001b[0m \u001b[0mcriterion\u001b[0m\u001b[0;34m=\u001b[0m\u001b[0mloss_func\u001b[0m\u001b[0;34m,\u001b[0m \u001b[0mmetric\u001b[0m\u001b[0;34m=\u001b[0m\u001b[0mmetric_fun\u001b[0m\u001b[0;34m,\u001b[0m \u001b[0mn_epochs\u001b[0m\u001b[0;34m=\u001b[0m\u001b[0mepochs\u001b[0m\u001b[0;34m,\u001b[0m \u001b[0mdl_train\u001b[0m\u001b[0;34m=\u001b[0m\u001b[0mdl_train\u001b[0m\u001b[0;34m,\u001b[0m \u001b[0mdl_vali\u001b[0m\u001b[0;34m=\u001b[0m\u001b[0mdl_vali\u001b[0m\u001b[0;34m)\u001b[0m\u001b[0;34m\u001b[0m\u001b[0;34m\u001b[0m\u001b[0m\n\u001b[0m",
            "\u001b[0;32m<ipython-input-20-170793641>\u001b[0m in \u001b[0;36mtrain_model\u001b[0;34m(nn_model, criterion, metric, n_epochs, dl_train, dl_vali)\u001b[0m\n\u001b[1;32m     33\u001b[0m           \u001b[0mtmetric\u001b[0m \u001b[0;34m=\u001b[0m \u001b[0mmetric\u001b[0m\u001b[0;34m(\u001b[0m\u001b[0mpred\u001b[0m\u001b[0;34m,\u001b[0m \u001b[0myb\u001b[0m\u001b[0;34m)\u001b[0m\u001b[0;34m\u001b[0m\u001b[0;34m\u001b[0m\u001b[0m\n\u001b[1;32m     34\u001b[0m \u001b[0;34m\u001b[0m\u001b[0m\n\u001b[0;32m---> 35\u001b[0;31m         \u001b[0mtrain_loss\u001b[0m \u001b[0;34m+=\u001b[0m \u001b[0mloss\u001b[0m\u001b[0;34m.\u001b[0m\u001b[0mitem\u001b[0m\u001b[0;34m(\u001b[0m\u001b[0;34m)\u001b[0m\u001b[0;34m\u001b[0m\u001b[0;34m\u001b[0m\u001b[0m\n\u001b[0m\u001b[1;32m     36\u001b[0m         \u001b[0;32mif\u001b[0m \u001b[0mmetric\u001b[0m \u001b[0;34m!=\u001b[0m \u001b[0;32mNone\u001b[0m\u001b[0;34m:\u001b[0m\u001b[0;34m\u001b[0m\u001b[0;34m\u001b[0m\u001b[0m\n\u001b[1;32m     37\u001b[0m           \u001b[0mtrain_metric\u001b[0m \u001b[0;34m+=\u001b[0m \u001b[0mtmetric\u001b[0m\u001b[0;34m.\u001b[0m\u001b[0mitem\u001b[0m\u001b[0;34m(\u001b[0m\u001b[0;34m)\u001b[0m\u001b[0;34m\u001b[0m\u001b[0;34m\u001b[0m\u001b[0m\n",
            "\u001b[0;31mKeyboardInterrupt\u001b[0m: "
          ]
        }
      ]
    },
    {
      "cell_type": "code",
      "source": [
        "# fine tuning:\n",
        "for param in model.parameters():\n",
        "    param.requires_grad = True\n",
        "\n",
        "LR_ST = 1e-6\n",
        "opt = optim.Adam(model.parameters(), lr=LR_ST)\n",
        "\n",
        "\n",
        "epochs = 5\n",
        "model, hist_loss, hist_metric, hist_vloss, hist_vmetric = train_model(nn_model=model, criterion=loss_func, metric=metric_fun, n_epochs=epochs, dl_train=dl_train, dl_vali=dl_vali)"
      ],
      "metadata": {
        "id": "voOrfT4yDxYv",
        "colab": {
          "base_uri": "https://localhost:8080/",
          "height": 439
        },
        "outputId": "e9f66b21-2235-46b6-93c8-eb9c9b9f9d12"
      },
      "execution_count": 33,
      "outputs": [
        {
          "output_type": "stream",
          "name": "stdout",
          "text": [
            "epoch: 1, time(s): 129.7748, train loss: 0.028346, train metric: 0.988741, vali loss: 0.111158, vali metric: 0.969752\n",
            "\n",
            "Best validation loss: 0.11115777577297428\n",
            "\n",
            "Saving best model for epoch: 1\n",
            "\n"
          ]
        },
        {
          "output_type": "error",
          "ename": "KeyboardInterrupt",
          "evalue": "",
          "traceback": [
            "\u001b[0;31m---------------------------------------------------------------------------\u001b[0m",
            "\u001b[0;31mKeyboardInterrupt\u001b[0m                         Traceback (most recent call last)",
            "\u001b[0;32m<ipython-input-33-2975570237>\u001b[0m in \u001b[0;36m<cell line: 0>\u001b[0;34m()\u001b[0m\n\u001b[1;32m      8\u001b[0m \u001b[0;34m\u001b[0m\u001b[0m\n\u001b[1;32m      9\u001b[0m \u001b[0mepochs\u001b[0m \u001b[0;34m=\u001b[0m \u001b[0;36m5\u001b[0m\u001b[0;34m\u001b[0m\u001b[0;34m\u001b[0m\u001b[0m\n\u001b[0;32m---> 10\u001b[0;31m \u001b[0mmodel\u001b[0m\u001b[0;34m,\u001b[0m \u001b[0mhist_loss\u001b[0m\u001b[0;34m,\u001b[0m \u001b[0mhist_metric\u001b[0m\u001b[0;34m,\u001b[0m \u001b[0mhist_vloss\u001b[0m\u001b[0;34m,\u001b[0m \u001b[0mhist_vmetric\u001b[0m \u001b[0;34m=\u001b[0m \u001b[0mtrain_model\u001b[0m\u001b[0;34m(\u001b[0m\u001b[0mnn_model\u001b[0m\u001b[0;34m=\u001b[0m\u001b[0mmodel\u001b[0m\u001b[0;34m,\u001b[0m \u001b[0mcriterion\u001b[0m\u001b[0;34m=\u001b[0m\u001b[0mloss_func\u001b[0m\u001b[0;34m,\u001b[0m \u001b[0mmetric\u001b[0m\u001b[0;34m=\u001b[0m\u001b[0mmetric_fun\u001b[0m\u001b[0;34m,\u001b[0m \u001b[0mn_epochs\u001b[0m\u001b[0;34m=\u001b[0m\u001b[0mepochs\u001b[0m\u001b[0;34m,\u001b[0m \u001b[0mdl_train\u001b[0m\u001b[0;34m=\u001b[0m\u001b[0mdl_train\u001b[0m\u001b[0;34m,\u001b[0m \u001b[0mdl_vali\u001b[0m\u001b[0;34m=\u001b[0m\u001b[0mdl_vali\u001b[0m\u001b[0;34m)\u001b[0m\u001b[0;34m\u001b[0m\u001b[0;34m\u001b[0m\u001b[0m\n\u001b[0m",
            "\u001b[0;32m<ipython-input-20-170793641>\u001b[0m in \u001b[0;36mtrain_model\u001b[0;34m(nn_model, criterion, metric, n_epochs, dl_train, dl_vali)\u001b[0m\n\u001b[1;32m     23\u001b[0m     \u001b[0;32mfor\u001b[0m \u001b[0mxb\u001b[0m\u001b[0;34m,\u001b[0m \u001b[0myb\u001b[0m\u001b[0;34m,\u001b[0m \u001b[0m_\u001b[0m \u001b[0;32min\u001b[0m \u001b[0mdl_train\u001b[0m\u001b[0;34m:\u001b[0m\u001b[0;34m\u001b[0m\u001b[0;34m\u001b[0m\u001b[0m\n\u001b[1;32m     24\u001b[0m         \u001b[0mcounter\u001b[0m \u001b[0;34m+=\u001b[0m \u001b[0;36m1\u001b[0m\u001b[0;34m\u001b[0m\u001b[0;34m\u001b[0m\u001b[0m\n\u001b[0;32m---> 25\u001b[0;31m         \u001b[0mxb\u001b[0m\u001b[0;34m=\u001b[0m\u001b[0mxb\u001b[0m\u001b[0;34m.\u001b[0m\u001b[0mto\u001b[0m\u001b[0;34m(\u001b[0m\u001b[0mdevice\u001b[0m\u001b[0;34m)\u001b[0m\u001b[0;34m\u001b[0m\u001b[0;34m\u001b[0m\u001b[0m\n\u001b[0m\u001b[1;32m     26\u001b[0m         \u001b[0myb\u001b[0m\u001b[0;34m=\u001b[0m\u001b[0myb\u001b[0m\u001b[0;34m.\u001b[0m\u001b[0mto\u001b[0m\u001b[0;34m(\u001b[0m\u001b[0mdevice\u001b[0m\u001b[0;34m)\u001b[0m\u001b[0;34m\u001b[0m\u001b[0;34m\u001b[0m\u001b[0m\n\u001b[1;32m     27\u001b[0m \u001b[0;34m\u001b[0m\u001b[0m\n",
            "\u001b[0;31mKeyboardInterrupt\u001b[0m: "
          ]
        }
      ]
    }
  ]
}