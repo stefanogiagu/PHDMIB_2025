{
  "cells": [
    {
      "cell_type": "markdown",
      "metadata": {
        "id": "view-in-github",
        "colab_type": "text"
      },
      "source": [
        "<a href=\"https://colab.research.google.com/github/stefanogiagu/PHDMIB_2025/blob/main/notebooks/PyTorch_MLP_TwoTasks.ipynb\" target=\"_parent\"><img src=\"https://colab.research.google.com/assets/colab-badge.svg\" alt=\"Open In Colab\"/></a>"
      ]
    },
    {
      "cell_type": "code",
      "execution_count": 1,
      "metadata": {
        "id": "q_cd7xkhhQo6"
      },
      "outputs": [],
      "source": [
        "# Implementation of a basic pytorch MLP architecture that will solve\n",
        "# two tasks: a classification and a regression task at the same time\n",
        "#\n",
        "# Stefano Giagu - v1.0 - 16.6.2025"
      ]
    },
    {
      "cell_type": "code",
      "execution_count": 2,
      "metadata": {
        "id": "F6cJhPLThtRq"
      },
      "outputs": [],
      "source": [
        "import numpy as np\n",
        "import matplotlib.pyplot as plt\n",
        "from scipy.stats import norm"
      ]
    },
    {
      "cell_type": "code",
      "execution_count": 3,
      "metadata": {
        "colab": {
          "base_uri": "https://localhost:8080/"
        },
        "id": "V3rnBiO-nwPM",
        "outputId": "957d200d-4c8e-43b8-9d77-f3cc8965f99f"
      },
      "outputs": [
        {
          "output_type": "stream",
          "name": "stdout",
          "text": [
            "2.6.0+cu124\n",
            "0.21.0+cu124\n"
          ]
        }
      ],
      "source": [
        "import torch\n",
        "import torchvision\n",
        "\n",
        "print(torch.__version__)\n",
        "print(torchvision.__version__)"
      ]
    },
    {
      "cell_type": "code",
      "execution_count": 4,
      "metadata": {
        "colab": {
          "base_uri": "https://localhost:8080/"
        },
        "id": "ZL2plVoan5H6",
        "outputId": "4b29af63-fc66-4631-919f-058778a83e91"
      },
      "outputs": [
        {
          "output_type": "stream",
          "name": "stdout",
          "text": [
            "number fo devices:  1\n",
            "Tesla T4\n",
            "Mon Jun 16 17:25:56 2025       \n",
            "+-----------------------------------------------------------------------------------------+\n",
            "| NVIDIA-SMI 550.54.15              Driver Version: 550.54.15      CUDA Version: 12.4     |\n",
            "|-----------------------------------------+------------------------+----------------------+\n",
            "| GPU  Name                 Persistence-M | Bus-Id          Disp.A | Volatile Uncorr. ECC |\n",
            "| Fan  Temp   Perf          Pwr:Usage/Cap |           Memory-Usage | GPU-Util  Compute M. |\n",
            "|                                         |                        |               MIG M. |\n",
            "|=========================================+========================+======================|\n",
            "|   0  Tesla T4                       Off |   00000000:00:04.0 Off |                    0 |\n",
            "| N/A   49C    P8             10W /   70W |       2MiB /  15360MiB |      0%      Default |\n",
            "|                                         |                        |                  N/A |\n",
            "+-----------------------------------------+------------------------+----------------------+\n",
            "                                                                                         \n",
            "+-----------------------------------------------------------------------------------------+\n",
            "| Processes:                                                                              |\n",
            "|  GPU   GI   CI        PID   Type   Process name                              GPU Memory |\n",
            "|        ID   ID                                                               Usage      |\n",
            "|=========================================================================================|\n",
            "|  No running processes found                                                             |\n",
            "+-----------------------------------------------------------------------------------------+\n",
            "Computation device: cuda\n",
            "\n"
          ]
        }
      ],
      "source": [
        "# in torch/pytorch data and models need to be moved in the specific processing unit\n",
        "# this code snippet allows to set the variable \"device\" according to available resoirce (cpu or cuda gpu)\n",
        "\n",
        "if torch.cuda.is_available():\n",
        "  print('number fo devices: ', torch.cuda.device_count())\n",
        "  print(torch.cuda.get_device_name(0))\n",
        "  !nvidia-smi\n",
        "device = ('cuda' if torch.cuda.is_available() else 'cpu')\n",
        "print(f\"Computation device: {device}\\n\")"
      ]
    },
    {
      "cell_type": "code",
      "execution_count": 6,
      "metadata": {
        "colab": {
          "base_uri": "https://localhost:8080/"
        },
        "id": "1F3TrSrLuRJW",
        "outputId": "f7f71deb-98e3-41e2-f8c0-272822d5f27e"
      },
      "outputs": [
        {
          "output_type": "stream",
          "name": "stdout",
          "text": [
            "(6400, 8)\n",
            "(6400,)\n",
            "(6400,)\n",
            "(800, 8)\n",
            "(800,)\n",
            "(800,)\n",
            "(800, 8)\n",
            "(800,)\n",
            "(800,)\n"
          ]
        }
      ],
      "source": [
        "# Dataset: in this simple example, we'll produce a toy dataset generated using\n",
        "# numpy\n",
        "#\n",
        "# two class problem, with 8 uncorrelated features, gaussian distributed with different\n",
        "# means and variance among features and classes\n",
        "\n",
        "meanS = [-4.,-3.,-2.,-1.,1.,2.,3.,4.]\n",
        "meanB = [-4.5,-3.5,-2.5,-1.5,1.5,2.5,3.5,4.5]\n",
        "features_S = np.random.normal(loc=meanS, scale=np.random.uniform(0.2,0.7,size=(8)), size=(4000,8))\n",
        "features_B = np.random.normal(loc=meanB, scale=np.random.uniform(0.2,0.7,size=(8)), size=(4000,8))\n",
        "labels_S = np.zeros(shape=(4000))\n",
        "labels_B = np.ones(shape=(4000))\n",
        "\n",
        "target_S = np.sum(features_S, axis=1)**2 + np.random.normal(loc=0, scale=0.05, size=(4000))\n",
        "target_B = np.sum(features_B, axis=1)**2 + np.random.normal(loc=0, scale=0.05, size=(4000))\n",
        "\n",
        "X = np.concatenate((features_S, features_B), axis=0)\n",
        "Y = np.concatenate((labels_S, labels_B), axis=0)\n",
        "S = np.concatenate((target_S, target_B), axis=0)\n",
        "\n",
        "# divide the dataset in train and test\n",
        "from sklearn.model_selection import train_test_split\n",
        "\n",
        "X_train, X_test, Y_train, Y_test, S_train, S_test = train_test_split(X, Y, S, test_size=0.2, random_state=12345)\n",
        "X_test, X_vali, Y_test, Y_vali, S_test, S_vali = train_test_split(X_test, Y_test, S_test, test_size=0.5, random_state=456789)\n",
        "print(X_train.shape)\n",
        "print(Y_train.shape)\n",
        "print(S_train.shape)\n",
        "print(X_vali.shape)\n",
        "print(Y_vali.shape)\n",
        "print(S_vali.shape)\n",
        "print(X_test.shape)\n",
        "print(Y_test.shape)\n",
        "print(S_test.shape)"
      ]
    },
    {
      "cell_type": "code",
      "source": [
        "# plot variables\n",
        "\n",
        "sel_S = tuple([Y_train<0.5])\n",
        "sel_B = tuple([Y_train>0.5])\n",
        "\n",
        "for idx in range(8):\n",
        "  plt.subplot(2,4,idx+1)\n",
        "  minr = min(meanS[idx],meanB[idx])\n",
        "  maxr = max(meanS[idx],meanB[idx])\n",
        "  plt.hist((X_train[sel_S])[:,idx], bins=50, range=[minr-1.4,maxr+1.4], alpha=0.5, log=True, density=True)\n",
        "  plt.hist((X_train[sel_B])[:,idx], bins=50, range=[minr-1.4,maxr+1.4], alpha=0.5, log=True, density=True)\n",
        "plt.tight_layout()"
      ],
      "metadata": {
        "colab": {
          "base_uri": "https://localhost:8080/",
          "height": 487
        },
        "id": "qHpIRa6SmFQO",
        "outputId": "f0821f40-bb9f-4756-939f-19b70910d7c4"
      },
      "execution_count": 8,
      "outputs": [
        {
          "output_type": "display_data",
          "data": {
            "text/plain": [
              "<Figure size 640x480 with 8 Axes>"
            ],
            "image/png": "[encoded data removed]"
          },
          "metadata": {}
        }
      ]
    },
    {
      "cell_type": "code",
      "source": [
        "plt.hist((S_train[sel_S]), bins=50, alpha=0.5, log=True, density=True)\n",
        "plt.hist((S_train[sel_B]), bins=50, alpha=0.5, log=True, density=True)\n",
        "plt.draw()"
      ],
      "metadata": {
        "colab": {
          "base_uri": "https://localhost:8080/",
          "height": 430
        },
        "id": "oQrM7OnQx1A7",
        "outputId": "c605f219-a6ee-4313-b65c-b68e11e5ffdf"
      },
      "execution_count": 11,
      "outputs": [
        {
          "output_type": "display_data",
          "data": {
            "text/plain": [
              "<Figure size 640x480 with 1 Axes>"
            ],
            "image/png": "[encoded data removed]"
          },
          "metadata": {}
        }
      ]
    },
    {
      "cell_type": "code",
      "execution_count": 12,
      "metadata": {
        "colab": {
          "base_uri": "https://localhost:8080/"
        },
        "id": "u1Lymch5XTw8",
        "outputId": "c25780a0-115b-4647-8b45-a9103d6bae4d"
      },
      "outputs": [
        {
          "output_type": "stream",
          "name": "stdout",
          "text": [
            "torch.Size([6400, 8])\n",
            "torch.Size([6400])\n",
            "torch.Size([6400])\n",
            "torch.Size([800, 8])\n",
            "torch.Size([800])\n",
            "torch.Size([800])\n",
            "torch.Size([800, 8])\n",
            "torch.Size([800])\n",
            "torch.Size([800])\n"
          ]
        }
      ],
      "source": [
        "# transform the numpy arrays to torch tensors (pytorch works with torch tensors)\n",
        "\n",
        "X_train_pt = torch.Tensor(X_train).float()\n",
        "Y_train_pt = torch.Tensor(Y_train).float()\n",
        "S_train_pt = torch.Tensor(S_train).float()\n",
        "X_vali_pt = torch.Tensor(X_vali).float()\n",
        "Y_vali_pt = torch.Tensor(Y_vali).float()\n",
        "S_vali_pt = torch.Tensor(S_vali).float()\n",
        "X_test_pt = torch.Tensor(X_test).float()\n",
        "Y_test_pt = torch.Tensor(Y_test).float()\n",
        "S_test_pt = torch.Tensor(S_test).float()\n",
        "\n",
        "print(X_train_pt.shape)\n",
        "print(Y_train_pt.shape)\n",
        "print(S_train_pt.shape)\n",
        "print(X_vali_pt.shape)\n",
        "print(Y_vali_pt.shape)\n",
        "print(S_vali_pt.shape)\n",
        "print(X_test_pt.shape)\n",
        "print(Y_test_pt.shape)\n",
        "print(S_test_pt.shape)\n",
        "\n",
        "# create a pytorch dataset and a pytroch dataloader (a python iterable that allows to iterate among sample's events\n",
        "# mini-batch it, reshuffle at every epoch, etc...)\n",
        "from torch.utils.data import TensorDataset, DataLoader\n",
        "\n",
        "dataset_train = TensorDataset(X_train_pt, Y_train_pt, S_train_pt)\n",
        "dataloader_train = DataLoader(dataset_train, batch_size=32, shuffle=True)\n",
        "\n",
        "dataset_vali = TensorDataset(X_vali_pt, Y_vali_pt, S_vali_pt)\n",
        "dataloader_vali = DataLoader(dataset_vali, batch_size=32, shuffle=True)"
      ]
    },
    {
      "cell_type": "code",
      "source": [
        "# note: move torch tensors between cpu and gpu\n",
        "\n",
        "print('X_train_pt is in GPU: ', X_train_pt.is_cuda)\n",
        "X_train_pt = X_train_pt.to(device)\n",
        "print('X_train_pt is in GPU: ', X_train_pt.is_cuda)\n",
        "X_train_pt = X_train_pt.to('cpu')\n",
        "print('X_train_pt is in GPU: ', X_train_pt.is_cuda)\n",
        "\n",
        "\n",
        "# alteranative way (earlier torch style)\n",
        "# use .cuda() e .cpu()\n",
        "print('X_train_pt is in GPU: ', X_train_pt.cpu())\n",
        "print('X_train_pt is in GPU: ', X_train_pt.cuda())"
      ],
      "metadata": {
        "colab": {
          "base_uri": "https://localhost:8080/"
        },
        "id": "eL6Lhlndh3Ee",
        "outputId": "5416267f-11fd-4e7e-9b01-89340854557a"
      },
      "execution_count": 13,
      "outputs": [
        {
          "output_type": "stream",
          "name": "stdout",
          "text": [
            "X_train_pt is in GPU:  False\n",
            "X_train_pt is in GPU:  True\n",
            "X_train_pt is in GPU:  False\n",
            "X_train_pt is in GPU:  tensor([[-4.6346, -3.5305, -3.0865,  ...,  1.8111,  3.7808,  3.8518],\n",
            "        [-3.7088, -3.1521, -2.2746,  ...,  1.6798,  3.2668,  3.9288],\n",
            "        [-4.6271, -3.5952, -2.3002,  ...,  2.2618,  3.6665,  4.2878],\n",
            "        ...,\n",
            "        [-4.3183, -3.4269, -1.6927,  ...,  2.9078,  3.7196,  3.8671],\n",
            "        [-3.2577, -2.3089, -1.4307,  ...,  1.3861,  3.7638,  3.4574],\n",
            "        [-4.2695, -3.6562, -3.3508,  ...,  3.0209,  3.2256,  5.1061]])\n",
            "X_train_pt is in GPU:  tensor([[-4.6346, -3.5305, -3.0865,  ...,  1.8111,  3.7808,  3.8518],\n",
            "        [-3.7088, -3.1521, -2.2746,  ...,  1.6798,  3.2668,  3.9288],\n",
            "        [-4.6271, -3.5952, -2.3002,  ...,  2.2618,  3.6665,  4.2878],\n",
            "        ...,\n",
            "        [-4.3183, -3.4269, -1.6927,  ...,  2.9078,  3.7196,  3.8671],\n",
            "        [-3.2577, -2.3089, -1.4307,  ...,  1.3861,  3.7638,  3.4574],\n",
            "        [-4.2695, -3.6562, -3.3508,  ...,  3.0209,  3.2256,  5.1061]],\n",
            "       device='cuda:0')\n"
          ]
        }
      ]
    },
    {
      "cell_type": "code",
      "source": [
        "# example of iteration through the dataloader\n",
        "\n",
        "train_features, train_labels, train_target = next(iter(dataloader_train))\n",
        "\n",
        "print(f\"Feature batch shape: {train_features.size()}\")\n",
        "print(f\"Labels batch shape: {train_labels.size()}\")\n",
        "print(f\"Target batch shape: {train_target.size()}\")\n",
        "\n",
        "an_event = train_features[0].squeeze()\n",
        "a_label = train_labels[0]\n",
        "a_target = train_target[0]\n",
        "\n",
        "print(f\"Feature: {an_event}\")\n",
        "print(f\"Label: {a_label}\")\n",
        "print(f\"Target: {a_target}\")"
      ],
      "metadata": {
        "colab": {
          "base_uri": "https://localhost:8080/"
        },
        "id": "hzLJyiBNvZVg",
        "outputId": "a46dc67e-7b3d-46c8-95fa-b14f92e682b0"
      },
      "execution_count": 14,
      "outputs": [
        {
          "output_type": "stream",
          "name": "stdout",
          "text": [
            "Feature batch shape: torch.Size([32, 8])\n",
            "Labels batch shape: torch.Size([32])\n",
            "Target batch shape: torch.Size([32])\n",
            "Feature: tensor([-4.7018, -3.9374, -3.7082, -2.1663,  1.8654,  2.1659,  3.4512,  3.4114])\n",
            "Label: 1.0\n",
            "Target: 13.17542552947998\n"
          ]
        }
      ]
    },
    {
      "cell_type": "code",
      "execution_count": 54,
      "metadata": {
        "id": "At2pTSb5uJ0O"
      },
      "outputs": [],
      "source": [
        "# a pytorch nn model: it is just a python class inheriting from nn.Module that defines\n",
        "# the layers and activations used in the DNN model and a forward(x) method that defines\n",
        "# how the model act on an input example x\n",
        "\n",
        "from torch import nn\n",
        "import torch.nn.functional as F\n",
        "\n",
        "# as a basic example let'd define a MLP\n",
        "class MyANN(nn.Module):\n",
        "  def __init__(self, input_dim):\n",
        "    super(MyANN, self).__init__()\n",
        "\n",
        "    #torch.nn.Linear(in_features, out_features, bias=True, device=None, dtype=None)\n",
        "    #Linear in pytorch is the equivalent of Dense in keras\n",
        "    self.layer1 = nn.Linear(input_dim, 40)\n",
        "    self.activ1 = nn.ReLU()\n",
        "    self.layer2 = nn.Linear(40, 40)\n",
        "    self.activ2 = nn.ReLU()\n",
        "    self.dropout = nn.Dropout(p=0.5)\n",
        "    self.layer3 = nn.Linear(40, 1)\n",
        "    self.activ3 = nn.Sigmoid()\n",
        "    self.layer4 = nn.Linear(40, 1)\n",
        "\n",
        "  def forward(self, x):\n",
        "\n",
        "    # shared layers\n",
        "    out = self.layer1(x)\n",
        "    out = self.activ1(out)\n",
        "    out = self.layer2(out)\n",
        "    out = self.activ2(out)\n",
        "    out = self.dropout(out)\n",
        "\n",
        "    # classification head\n",
        "    outc = self.layer3(out)\n",
        "    outc = self.activ3(outc)\n",
        "\n",
        "    # regression head\n",
        "    outs = self.layer4(out)\n",
        "\n",
        "    return outc, outs"
      ]
    },
    {
      "cell_type": "code",
      "execution_count": null,
      "metadata": {
        "id": "CW_NlvdnuRJZ"
      },
      "outputs": [],
      "source": [
        "#%pip install torchsummary #already installed in google colab"
      ]
    },
    {
      "cell_type": "code",
      "execution_count": 55,
      "metadata": {
        "colab": {
          "base_uri": "https://localhost:8080/"
        },
        "id": "uaLMNMzt1TAK",
        "outputId": "d65400ac-1f4c-40fa-f679-0ca902af71d5"
      },
      "outputs": [
        {
          "output_type": "stream",
          "name": "stdout",
          "text": [
            "MyANN(\n",
            "  (layer1): Linear(in_features=8, out_features=40, bias=True)\n",
            "  (activ1): ReLU()\n",
            "  (layer2): Linear(in_features=40, out_features=40, bias=True)\n",
            "  (activ2): ReLU()\n",
            "  (dropout): Dropout(p=0.5, inplace=False)\n",
            "  (layer3): Linear(in_features=40, out_features=1, bias=True)\n",
            "  (activ3): Sigmoid()\n",
            "  (layer4): Linear(in_features=40, out_features=1, bias=True)\n",
            ")\n",
            "----------------------------------------------------------------\n",
            "        Layer (type)               Output Shape         Param #\n",
            "================================================================\n",
            "            Linear-1                [-1, 1, 40]             360\n",
            "              ReLU-2                [-1, 1, 40]               0\n",
            "            Linear-3                [-1, 1, 40]           1,640\n",
            "              ReLU-4                [-1, 1, 40]               0\n",
            "           Dropout-5                [-1, 1, 40]               0\n",
            "            Linear-6                 [-1, 1, 1]              41\n",
            "           Sigmoid-7                 [-1, 1, 1]               0\n",
            "            Linear-8                 [-1, 1, 1]              41\n",
            "================================================================\n",
            "Total params: 2,082\n",
            "Trainable params: 2,082\n",
            "Non-trainable params: 0\n",
            "----------------------------------------------------------------\n",
            "Input size (MB): 0.00\n",
            "Forward/backward pass size (MB): 0.00\n",
            "Params size (MB): 0.01\n",
            "Estimated Total Size (MB): 0.01\n",
            "----------------------------------------------------------------\n"
          ]
        }
      ],
      "source": [
        "model = MyANN(input_dim=8)\n",
        "print(model)\n",
        "\n",
        "from torchsummary import summary\n",
        "if torch.cuda.is_available():\n",
        "  summary(model.cuda(), input_size=(1,8))\n",
        "else:\n",
        "  summary(model, input_size=(1,8))"
      ]
    },
    {
      "cell_type": "code",
      "source": [
        "#install torchmetrics: collection of useful PyTorch metrics implementations and an easy-to-use API to create custom metrics]\n",
        "%pip install torchmetrics"
      ],
      "metadata": {
        "colab": {
          "base_uri": "https://localhost:8080/"
        },
        "id": "bn2FIc6jlvnz",
        "outputId": "0246a542-cf5b-47ca-ae7e-a62a7cc09b26"
      },
      "execution_count": 23,
      "outputs": [
        {
          "output_type": "stream",
          "name": "stdout",
          "text": [
            "Collecting torchmetrics\n",
            "  Downloading torchmetrics-1.7.3-py3-none-any.whl.metadata (21 kB)\n",
            "Requirement already satisfied: numpy>1.20.0 in /usr/local/lib/python3.11/dist-packages (from torchmetrics) (2.0.2)\n",
            "Requirement already satisfied: packaging>17.1 in /usr/local/lib/python3.11/dist-packages (from torchmetrics) (24.2)\n",
            "Requirement already satisfied: torch>=2.0.0 in /usr/local/lib/python3.11/dist-packages (from torchmetrics) (2.6.0+cu124)\n",
            "Collecting lightning-utilities>=0.8.0 (from torchmetrics)\n",
            "  Downloading lightning_utilities-0.14.3-py3-none-any.whl.metadata (5.6 kB)\n",
            "Requirement already satisfied: setuptools in /usr/local/lib/python3.11/dist-packages (from lightning-utilities>=0.8.0->torchmetrics) (75.2.0)\n",
            "Requirement already satisfied: typing_extensions in /usr/local/lib/python3.11/dist-packages (from lightning-utilities>=0.8.0->torchmetrics) (4.14.0)\n",
            "Requirement already satisfied: filelock in /usr/local/lib/python3.11/dist-packages (from torch>=2.0.0->torchmetrics) (3.18.0)\n",
            "Requirement already satisfied: networkx in /usr/local/lib/python3.11/dist-packages (from torch>=2.0.0->torchmetrics) (3.5)\n",
            "Requirement already satisfied: jinja2 in /usr/local/lib/python3.11/dist-packages (from torch>=2.0.0->torchmetrics) (3.1.6)\n",
            "Requirement already satisfied: fsspec in /usr/local/lib/python3.11/dist-packages (from torch>=2.0.0->torchmetrics) (2025.3.2)\n",
            "Collecting nvidia-cuda-nvrtc-cu12==12.4.127 (from torch>=2.0.0->torchmetrics)\n",
            "  Downloading nvidia_cuda_nvrtc_cu12-12.4.127-py3-none-manylinux2014_x86_64.whl.metadata (1.5 kB)\n",
            "Collecting nvidia-cuda-runtime-cu12==12.4.127 (from torch>=2.0.0->torchmetrics)\n",
            "  Downloading nvidia_cuda_runtime_cu12-12.4.127-py3-none-manylinux2014_x86_64.whl.metadata (1.5 kB)\n",
            "Collecting nvidia-cuda-cupti-cu12==12.4.127 (from torch>=2.0.0->torchmetrics)\n",
            "  Downloading nvidia_cuda_cupti_cu12-12.4.127-py3-none-manylinux2014_x86_64.whl.metadata (1.6 kB)\n",
            "Collecting nvidia-cudnn-cu12==9.1.0.70 (from torch>=2.0.0->torchmetrics)\n",
            "  Downloading nvidia_cudnn_cu12-9.1.0.70-py3-none-manylinux2014_x86_64.whl.metadata (1.6 kB)\n",
            "Collecting nvidia-cublas-cu12==12.4.5.8 (from torch>=2.0.0->torchmetrics)\n",
            "  Downloading nvidia_cublas_cu12-12.4.5.8-py3-none-manylinux2014_x86_64.whl.metadata (1.5 kB)\n",
            "Collecting nvidia-cufft-cu12==11.2.1.3 (from torch>=2.0.0->torchmetrics)\n",
            "  Downloading nvidia_cufft_cu12-11.2.1.3-py3-none-manylinux2014_x86_64.whl.metadata (1.5 kB)\n",
            "Collecting nvidia-curand-cu12==10.3.5.147 (from torch>=2.0.0->torchmetrics)\n",
            "  Downloading nvidia_curand_cu12-10.3.5.147-py3-none-manylinux2014_x86_64.whl.metadata (1.5 kB)\n",
            "Collecting nvidia-cusolver-cu12==11.6.1.9 (from torch>=2.0.0->torchmetrics)\n",
            "  Downloading nvidia_cusolver_cu12-11.6.1.9-py3-none-manylinux2014_x86_64.whl.metadata (1.6 kB)\n",
            "Collecting nvidia-cusparse-cu12==12.3.1.170 (from torch>=2.0.0->torchmetrics)\n",
            "  Downloading nvidia_cusparse_cu12-12.3.1.170-py3-none-manylinux2014_x86_64.whl.metadata (1.6 kB)\n",
            "Requirement already satisfied: nvidia-cusparselt-cu12==0.6.2 in /usr/local/lib/python3.11/dist-packages (from torch>=2.0.0->torchmetrics) (0.6.2)\n",
            "Requirement already satisfied: nvidia-nccl-cu12==2.21.5 in /usr/local/lib/python3.11/dist-packages (from torch>=2.0.0->torchmetrics) (2.21.5)\n",
            "Requirement already satisfied: nvidia-nvtx-cu12==12.4.127 in /usr/local/lib/python3.11/dist-packages (from torch>=2.0.0->torchmetrics) (12.4.127)\n",
            "Collecting nvidia-nvjitlink-cu12==12.4.127 (from torch>=2.0.0->torchmetrics)\n",
            "  Downloading nvidia_nvjitlink_cu12-12.4.127-py3-none-manylinux2014_x86_64.whl.metadata (1.5 kB)\n",
            "Requirement already satisfied: triton==3.2.0 in /usr/local/lib/python3.11/dist-packages (from torch>=2.0.0->torchmetrics) (3.2.0)\n",
            "Requirement already satisfied: sympy==1.13.1 in /usr/local/lib/python3.11/dist-packages (from torch>=2.0.0->torchmetrics) (1.13.1)\n",
            "Requirement already satisfied: mpmath<1.4,>=1.1.0 in /usr/local/lib/python3.11/dist-packages (from sympy==1.13.1->torch>=2.0.0->torchmetrics) (1.3.0)\n",
            "Requirement already satisfied: MarkupSafe>=2.0 in /usr/local/lib/python3.11/dist-packages (from jinja2->torch>=2.0.0->torchmetrics) (3.0.2)\n",
            "Downloading torchmetrics-1.7.3-py3-none-any.whl (962 kB)\n",
            "\u001b[2K   \u001b[90m━━━━━━━━━━━━━━━━━━━━━━━━━━━━━━━━━━━━━━━━\u001b[0m \u001b[32m962.6/962.6 kB\u001b[0m \u001b[31m42.5 MB/s\u001b[0m eta \u001b[36m0:00:00\u001b[0m\n",
            "\u001b[?25hDownloading lightning_utilities-0.14.3-py3-none-any.whl (28 kB)\n",
            "Downloading nvidia_cublas_cu12-12.4.5.8-py3-none-manylinux2014_x86_64.whl (363.4 MB)\n",
            "\u001b[2K   \u001b[90m━━━━━━━━━━━━━━━━━━━━━━━━━━━━━━━━━━━━━━━━\u001b[0m \u001b[32m363.4/363.4 MB\u001b[0m \u001b[31m3.8 MB/s\u001b[0m eta \u001b[36m0:00:00\u001b[0m\n",
            "\u001b[?25hDownloading nvidia_cuda_cupti_cu12-12.4.127-py3-none-manylinux2014_x86_64.whl (13.8 MB)\n",
            "\u001b[2K   \u001b[90m━━━━━━━━━━━━━━━━━━━━━━━━━━━━━━━━━━━━━━━━\u001b[0m \u001b[32m13.8/13.8 MB\u001b[0m \u001b[31m92.9 MB/s\u001b[0m eta \u001b[36m0:00:00\u001b[0m\n",
            "\u001b[?25hDownloading nvidia_cuda_nvrtc_cu12-12.4.127-py3-none-manylinux2014_x86_64.whl (24.6 MB)\n",
            "\u001b[2K   \u001b[90m━━━━━━━━━━━━━━━━━━━━━━━━━━━━━━━━━━━━━━━━\u001b[0m \u001b[32m24.6/24.6 MB\u001b[0m \u001b[31m71.0 MB/s\u001b[0m eta \u001b[36m0:00:00\u001b[0m\n",
            "\u001b[?25hDownloading nvidia_cuda_runtime_cu12-12.4.127-py3-none-manylinux2014_x86_64.whl (883 kB)\n",
            "\u001b[2K   \u001b[90m━━━━━━━━━━━━━━━━━━━━━━━━━━━━━━━━━━━━━━━━\u001b[0m \u001b[32m883.7/883.7 kB\u001b[0m \u001b[31m51.8 MB/s\u001b[0m eta \u001b[36m0:00:00\u001b[0m\n",
            "\u001b[?25hDownloading nvidia_cudnn_cu12-9.1.0.70-py3-none-manylinux2014_x86_64.whl (664.8 MB)\n",
            "\u001b[2K   \u001b[90m━━━━━━━━━━━━━━━━━━━━━━━━━━━━━━━━━━━━━━━━\u001b[0m \u001b[32m664.8/664.8 MB\u001b[0m \u001b[31m2.8 MB/s\u001b[0m eta \u001b[36m0:00:00\u001b[0m\n",
            "\u001b[?25hDownloading nvidia_cufft_cu12-11.2.1.3-py3-none-manylinux2014_x86_64.whl (211.5 MB)\n",
            "\u001b[2K   \u001b[90m━━━━━━━━━━━━━━━━━━━━━━━━━━━━━━━━━━━━━━━━\u001b[0m \u001b[32m211.5/211.5 MB\u001b[0m \u001b[31m5.5 MB/s\u001b[0m eta \u001b[36m0:00:00\u001b[0m\n",
            "\u001b[?25hDownloading nvidia_curand_cu12-10.3.5.147-py3-none-manylinux2014_x86_64.whl (56.3 MB)\n",
            "\u001b[2K   \u001b[90m━━━━━━━━━━━━━━━━━━━━━━━━━━━━━━━━━━━━━━━━\u001b[0m \u001b[32m56.3/56.3 MB\u001b[0m \u001b[31m14.6 MB/s\u001b[0m eta \u001b[36m0:00:00\u001b[0m\n",
            "\u001b[?25hDownloading nvidia_cusolver_cu12-11.6.1.9-py3-none-manylinux2014_x86_64.whl (127.9 MB)\n",
            "\u001b[2K   \u001b[90m━━━━━━━━━━━━━━━━━━━━━━━━━━━━━━━━━━━━━━━━\u001b[0m \u001b[32m127.9/127.9 MB\u001b[0m \u001b[31m7.7 MB/s\u001b[0m eta \u001b[36m0:00:00\u001b[0m\n",
            "\u001b[?25hDownloading nvidia_cusparse_cu12-12.3.1.170-py3-none-manylinux2014_x86_64.whl (207.5 MB)\n",
            "\u001b[2K   \u001b[90m━━━━━━━━━━━━━━━━━━━━━━━━━━━━━━━━━━━━━━━━\u001b[0m \u001b[32m207.5/207.5 MB\u001b[0m \u001b[31m5.6 MB/s\u001b[0m eta \u001b[36m0:00:00\u001b[0m\n",
            "\u001b[?25hDownloading nvidia_nvjitlink_cu12-12.4.127-py3-none-manylinux2014_x86_64.whl (21.1 MB)\n",
            "\u001b[2K   \u001b[90m━━━━━━━━━━━━━━━━━━━━━━━━━━━━━━━━━━━━━━━━\u001b[0m \u001b[32m21.1/21.1 MB\u001b[0m \u001b[31m43.7 MB/s\u001b[0m eta \u001b[36m0:00:00\u001b[0m\n",
            "\u001b[?25hInstalling collected packages: nvidia-nvjitlink-cu12, nvidia-curand-cu12, nvidia-cufft-cu12, nvidia-cuda-runtime-cu12, nvidia-cuda-nvrtc-cu12, nvidia-cuda-cupti-cu12, nvidia-cublas-cu12, lightning-utilities, nvidia-cusparse-cu12, nvidia-cudnn-cu12, nvidia-cusolver-cu12, torchmetrics\n",
            "  Attempting uninstall: nvidia-nvjitlink-cu12\n",
            "    Found existing installation: nvidia-nvjitlink-cu12 12.5.82\n",
            "    Uninstalling nvidia-nvjitlink-cu12-12.5.82:\n",
            "      Successfully uninstalled nvidia-nvjitlink-cu12-12.5.82\n",
            "  Attempting uninstall: nvidia-curand-cu12\n",
            "    Found existing installation: nvidia-curand-cu12 10.3.6.82\n",
            "    Uninstalling nvidia-curand-cu12-10.3.6.82:\n",
            "      Successfully uninstalled nvidia-curand-cu12-10.3.6.82\n",
            "  Attempting uninstall: nvidia-cufft-cu12\n",
            "    Found existing installation: nvidia-cufft-cu12 11.2.3.61\n",
            "    Uninstalling nvidia-cufft-cu12-11.2.3.61:\n",
            "      Successfully uninstalled nvidia-cufft-cu12-11.2.3.61\n",
            "  Attempting uninstall: nvidia-cuda-runtime-cu12\n",
            "    Found existing installation: nvidia-cuda-runtime-cu12 12.5.82\n",
            "    Uninstalling nvidia-cuda-runtime-cu12-12.5.82:\n",
            "      Successfully uninstalled nvidia-cuda-runtime-cu12-12.5.82\n",
            "  Attempting uninstall: nvidia-cuda-nvrtc-cu12\n",
            "    Found existing installation: nvidia-cuda-nvrtc-cu12 12.5.82\n",
            "    Uninstalling nvidia-cuda-nvrtc-cu12-12.5.82:\n",
            "      Successfully uninstalled nvidia-cuda-nvrtc-cu12-12.5.82\n",
            "  Attempting uninstall: nvidia-cuda-cupti-cu12\n",
            "    Found existing installation: nvidia-cuda-cupti-cu12 12.5.82\n",
            "    Uninstalling nvidia-cuda-cupti-cu12-12.5.82:\n",
            "      Successfully uninstalled nvidia-cuda-cupti-cu12-12.5.82\n",
            "  Attempting uninstall: nvidia-cublas-cu12\n",
            "    Found existing installation: nvidia-cublas-cu12 12.5.3.2\n",
            "    Uninstalling nvidia-cublas-cu12-12.5.3.2:\n",
            "      Successfully uninstalled nvidia-cublas-cu12-12.5.3.2\n",
            "  Attempting uninstall: nvidia-cusparse-cu12\n",
            "    Found existing installation: nvidia-cusparse-cu12 12.5.1.3\n",
            "    Uninstalling nvidia-cusparse-cu12-12.5.1.3:\n",
            "      Successfully uninstalled nvidia-cusparse-cu12-12.5.1.3\n",
            "  Attempting uninstall: nvidia-cudnn-cu12\n",
            "    Found existing installation: nvidia-cudnn-cu12 9.3.0.75\n",
            "    Uninstalling nvidia-cudnn-cu12-9.3.0.75:\n",
            "      Successfully uninstalled nvidia-cudnn-cu12-9.3.0.75\n",
            "  Attempting uninstall: nvidia-cusolver-cu12\n",
            "    Found existing installation: nvidia-cusolver-cu12 11.6.3.83\n",
            "    Uninstalling nvidia-cusolver-cu12-11.6.3.83:\n",
            "      Successfully uninstalled nvidia-cusolver-cu12-11.6.3.83\n",
            "Successfully installed lightning-utilities-0.14.3 nvidia-cublas-cu12-12.4.5.8 nvidia-cuda-cupti-cu12-12.4.127 nvidia-cuda-nvrtc-cu12-12.4.127 nvidia-cuda-runtime-cu12-12.4.127 nvidia-cudnn-cu12-9.1.0.70 nvidia-cufft-cu12-11.2.1.3 nvidia-curand-cu12-10.3.5.147 nvidia-cusolver-cu12-11.6.1.9 nvidia-cusparse-cu12-12.3.1.170 nvidia-nvjitlink-cu12-12.4.127 torchmetrics-1.7.3\n"
          ]
        }
      ]
    },
    {
      "cell_type": "code",
      "execution_count": 56,
      "metadata": {
        "colab": {
          "base_uri": "https://localhost:8080/"
        },
        "id": "qKuuD7vzrdff",
        "outputId": "72955384-d9ec-4a1e-f222-9b5985929795"
      },
      "outputs": [
        {
          "output_type": "stream",
          "name": "stdout",
          "text": [
            "model is on GPU:  True\n"
          ]
        }
      ],
      "source": [
        "# reinstantiate a new model (reset weight etc) and put it on GPU\n",
        "model = MyANN(input_dim=8)\n",
        "model.to(device)\n",
        "print('model is on GPU: ',next(model.parameters()).is_cuda)"
      ]
    },
    {
      "cell_type": "code",
      "execution_count": 57,
      "metadata": {
        "id": "asMI2TET1_wS"
      },
      "outputs": [],
      "source": [
        "#loss\n",
        "\n",
        "# NOTE: BCELoss for binary classification\n",
        "#       CrossEntropyLoss for multiclass classification (already includes softmax calculation, output the ANN foward method must be logits)\n",
        "loss_func1 = nn.BCELoss() #binary cross entropy loss (classification task)\n",
        "loss_func2 = nn.MSELoss() #mean squared error loss (regression task)\n",
        "\n",
        "\n",
        "# metrics\n",
        "import torchmetrics\n",
        "from torchmetrics.classification import BinaryAccuracy\n",
        "\n",
        "#metric binary accuracy (hand's made)\n",
        "def my_binary_accuracy(yhat, y):\n",
        "  assert y.ndim == 1 and y.size() == yhat.size()\n",
        "  yhat = yhat > 0.5\n",
        "  return (y == yhat).sum().item() / y.size(0)\n",
        "\n",
        "# NOTE: better to use metrics from torchmetrics:\n",
        "my_metric_func = BinaryAccuracy()\n",
        "my_metric_func.to(device)\n",
        "\n",
        "# optim\n",
        "from torch import optim\n",
        "#opt = optim.SGD(model.parameters(), lr=0.001, momentum=0.9)\n",
        "\n",
        "# alternative\n",
        "\n",
        "opt = optim.Adam(model.parameters(), lr=1e-3)\n",
        "\n",
        "# scheduler for multi step decay lr schedule\n",
        "# Decays the learning rate of each parameter group by gamma once the number of epoch reaches one of the milestones\n",
        "#lr_scheduler = optim.lr_scheduler.MultiStepLR(opt, milestones=[20,40,60], gamma=0.1)"
      ]
    },
    {
      "cell_type": "code",
      "source": [
        "# test implementation on one batch before to train\n",
        "xb,yb,sb = next(iter(dataloader_train))\n",
        "\n",
        "xb=xb.type(torch.float).to(device) #put tensors on device\n",
        "yb=yb.type(torch.float).to(device)\n",
        "sb=sb.type(torch.float).to(device)\n",
        "\n",
        "# prediction\n",
        "\n",
        "pred = model(xb)\n",
        "print('output1 shape: ', pred[0].shape)\n",
        "print('output2 shape: ', pred[1].shape)\n",
        "\n",
        "# loss and metric\n",
        "loss1 = loss_func1(pred[0], torch.unsqueeze(yb,1))\n",
        "loss2 = loss_func2(pred[1], torch.unsqueeze(sb,1))\n",
        "loss = loss1 + loss2\n",
        "#metric = binary_accuracy(pred, torch.unsqueeze(yb,1))\n",
        "#or also: metric = binary_accuracy(torch.squeeze(pred), yb)\n",
        "metric = my_metric_func(torch.squeeze(pred[0]), yb)\n",
        "mymetric = my_binary_accuracy(torch.squeeze(pred[0]), yb)\n",
        "\n",
        "print('loss1: ', loss1.item())\n",
        "print('loss2: ', loss2.item())\n",
        "print('loss: ', loss.item())\n",
        "print('metric: ', metric.item())\n",
        "print('my_metric: ', mymetric)"
      ],
      "metadata": {
        "colab": {
          "base_uri": "https://localhost:8080/"
        },
        "id": "6Aev66vFnbiq",
        "outputId": "c47c432f-6697-4165-ef6c-3640f0d1fa78"
      },
      "execution_count": 58,
      "outputs": [
        {
          "output_type": "stream",
          "name": "stdout",
          "text": [
            "output1 shape:  torch.Size([32, 1])\n",
            "output2 shape:  torch.Size([32, 1])\n",
            "loss1:  0.7088826298713684\n",
            "loss2:  5.0887451171875\n",
            "loss:  5.797627925872803\n",
            "metric:  0.5\n",
            "my_metric:  0.5\n"
          ]
        }
      ]
    },
    {
      "cell_type": "code",
      "execution_count": 59,
      "metadata": {
        "colab": {
          "base_uri": "https://localhost:8080/"
        },
        "id": "ULR6JSud2M0e",
        "outputId": "0fa2f36e-ee8f-48e2-9fc2-c70408c20554"
      },
      "outputs": [
        {
          "output_type": "stream",
          "name": "stdout",
          "text": [
            "epoch: 1, time(s): 0.7463, train loss: 12.152683, train metric: 0.530469, vali loss: 12.612446, vali metric: 0.641250\n",
            "epoch: 2, time(s): 0.7597, train loss: 11.074623, train metric: 0.578594, vali loss: 11.197331, vali metric: 0.623750\n",
            "epoch: 3, time(s): 0.7688, train loss: 8.666459, train metric: 0.609688, vali loss: 7.194092, vali metric: 0.652500\n",
            "epoch: 4, time(s): 0.7404, train loss: 5.353539, train metric: 0.610000, vali loss: 3.841506, vali metric: 0.618750\n",
            "epoch: 5, time(s): 0.7542, train loss: 3.478517, train metric: 0.605781, vali loss: 2.377592, vali metric: 0.625000\n",
            "epoch: 6, time(s): 0.8119, train loss: 2.504269, train metric: 0.624844, vali loss: 1.615909, vali metric: 0.667500\n",
            "epoch: 7, time(s): 0.9435, train loss: 2.052026, train metric: 0.646406, vali loss: 1.396157, vali metric: 0.697500\n",
            "epoch: 8, time(s): 0.9766, train loss: 1.762804, train metric: 0.649062, vali loss: 1.155454, vali metric: 0.685000\n",
            "epoch: 9, time(s): 0.7285, train loss: 1.752939, train metric: 0.647188, vali loss: 1.117021, vali metric: 0.683750\n",
            "epoch: 10, time(s): 0.7684, train loss: 1.667328, train metric: 0.654844, vali loss: 1.079425, vali metric: 0.690000\n",
            "epoch: 11, time(s): 0.7680, train loss: 1.724129, train metric: 0.659687, vali loss: 1.188552, vali metric: 0.693750\n",
            "epoch: 12, time(s): 0.7485, train loss: 1.504508, train metric: 0.655937, vali loss: 0.865416, vali metric: 0.715000\n",
            "epoch: 13, time(s): 0.7192, train loss: 1.531445, train metric: 0.657656, vali loss: 0.882637, vali metric: 0.713750\n",
            "epoch: 14, time(s): 0.7485, train loss: 1.554647, train metric: 0.668438, vali loss: 0.789132, vali metric: 0.728750\n",
            "epoch: 15, time(s): 0.7636, train loss: 1.476251, train metric: 0.672344, vali loss: 0.892403, vali metric: 0.741250\n",
            "epoch: 16, time(s): 0.7428, train loss: 1.454322, train metric: 0.680000, vali loss: 0.820383, vali metric: 0.747500\n",
            "epoch: 17, time(s): 0.7443, train loss: 1.512281, train metric: 0.680000, vali loss: 0.788778, vali metric: 0.743750\n",
            "epoch: 18, time(s): 0.7493, train loss: 1.456916, train metric: 0.679688, vali loss: 0.816528, vali metric: 0.761250\n",
            "epoch: 19, time(s): 0.7670, train loss: 1.445232, train metric: 0.685937, vali loss: 0.740765, vali metric: 0.760000\n",
            "epoch: 20, time(s): 0.7291, train loss: 1.351044, train metric: 0.688594, vali loss: 0.728444, vali metric: 0.777500\n",
            "epoch: 21, time(s): 0.7748, train loss: 1.437616, train metric: 0.690781, vali loss: 0.728927, vali metric: 0.770000\n",
            "epoch: 22, time(s): 0.9599, train loss: 1.396550, train metric: 0.699531, vali loss: 0.768520, vali metric: 0.811250\n",
            "epoch: 23, time(s): 0.9628, train loss: 1.354942, train metric: 0.692969, vali loss: 0.750031, vali metric: 0.803750\n",
            "epoch: 24, time(s): 0.8156, train loss: 1.296057, train metric: 0.707812, vali loss: 0.634762, vali metric: 0.817500\n",
            "epoch: 25, time(s): 0.7473, train loss: 1.277982, train metric: 0.712969, vali loss: 0.619931, vali metric: 0.817500\n",
            "epoch: 26, time(s): 0.7574, train loss: 1.301655, train metric: 0.713750, vali loss: 0.663468, vali metric: 0.830000\n",
            "epoch: 27, time(s): 0.7434, train loss: 1.229126, train metric: 0.712031, vali loss: 0.580190, vali metric: 0.843750\n",
            "epoch: 28, time(s): 0.7511, train loss: 1.276041, train metric: 0.742031, vali loss: 0.580885, vali metric: 0.833750\n",
            "epoch: 29, time(s): 0.7537, train loss: 1.302184, train metric: 0.736094, vali loss: 0.609890, vali metric: 0.857500\n",
            "epoch: 30, time(s): 0.7541, train loss: 1.150839, train metric: 0.748437, vali loss: 0.533252, vali metric: 0.848750\n",
            "epoch: 31, time(s): 0.7766, train loss: 1.245846, train metric: 0.749062, vali loss: 0.587576, vali metric: 0.868750\n",
            "epoch: 32, time(s): 0.7631, train loss: 1.189550, train metric: 0.757031, vali loss: 0.651673, vali metric: 0.878750\n",
            "epoch: 33, time(s): 0.7296, train loss: 1.198402, train metric: 0.756250, vali loss: 0.576598, vali metric: 0.878750\n",
            "epoch: 34, time(s): 0.7768, train loss: 1.217797, train metric: 0.764844, vali loss: 0.726381, vali metric: 0.875000\n",
            "epoch: 35, time(s): 0.7699, train loss: 1.183717, train metric: 0.751875, vali loss: 0.518544, vali metric: 0.888750\n",
            "epoch: 36, time(s): 0.7839, train loss: 1.168752, train metric: 0.769062, vali loss: 0.475543, vali metric: 0.877500\n",
            "epoch: 37, time(s): 0.8756, train loss: 1.259868, train metric: 0.757969, vali loss: 0.492515, vali metric: 0.880000\n",
            "epoch: 38, time(s): 1.0239, train loss: 1.279708, train metric: 0.776563, vali loss: 0.722569, vali metric: 0.872500\n",
            "epoch: 39, time(s): 0.9318, train loss: 1.116674, train metric: 0.774219, vali loss: 0.445194, vali metric: 0.885000\n",
            "epoch: 40, time(s): 0.7814, train loss: 1.234605, train metric: 0.779687, vali loss: 0.500698, vali metric: 0.883750\n",
            "epoch: 41, time(s): 0.7846, train loss: 1.157353, train metric: 0.770000, vali loss: 0.503993, vali metric: 0.888750\n",
            "epoch: 42, time(s): 0.7535, train loss: 1.147252, train metric: 0.770469, vali loss: 0.460632, vali metric: 0.862500\n",
            "epoch: 43, time(s): 0.7640, train loss: 1.147294, train metric: 0.772656, vali loss: 0.460401, vali metric: 0.882500\n",
            "epoch: 44, time(s): 0.7445, train loss: 1.180653, train metric: 0.780781, vali loss: 0.475954, vali metric: 0.893750\n",
            "epoch: 45, time(s): 0.7713, train loss: 1.220394, train metric: 0.776406, vali loss: 0.510940, vali metric: 0.892500\n",
            "epoch: 46, time(s): 0.7375, train loss: 1.175523, train metric: 0.777813, vali loss: 0.463997, vali metric: 0.893750\n",
            "epoch: 47, time(s): 0.7663, train loss: 1.176703, train metric: 0.785156, vali loss: 0.440001, vali metric: 0.886250\n",
            "epoch: 48, time(s): 0.7633, train loss: 1.290656, train metric: 0.780937, vali loss: 0.427273, vali metric: 0.893750\n",
            "epoch: 49, time(s): 0.7795, train loss: 1.133593, train metric: 0.782969, vali loss: 0.486227, vali metric: 0.875000\n",
            "epoch: 50, time(s): 0.7532, train loss: 1.147079, train metric: 0.795625, vali loss: 0.657227, vali metric: 0.888750\n",
            "epoch: 51, time(s): 0.7566, train loss: 1.191777, train metric: 0.794844, vali loss: 0.448286, vali metric: 0.891250\n",
            "epoch: 52, time(s): 0.9201, train loss: 1.165131, train metric: 0.809219, vali loss: 0.408298, vali metric: 0.887500\n",
            "epoch: 53, time(s): 0.9279, train loss: 1.149384, train metric: 0.810625, vali loss: 0.434810, vali metric: 0.898750\n",
            "epoch: 54, time(s): 0.9617, train loss: 1.135268, train metric: 0.820781, vali loss: 0.351613, vali metric: 0.891250\n",
            "epoch: 55, time(s): 0.7579, train loss: 1.173477, train metric: 0.825313, vali loss: 0.599841, vali metric: 0.888750\n",
            "epoch: 56, time(s): 0.7817, train loss: 1.163863, train metric: 0.828906, vali loss: 0.446284, vali metric: 0.892500\n",
            "epoch: 57, time(s): 0.7728, train loss: 1.091848, train metric: 0.822500, vali loss: 0.463743, vali metric: 0.882500\n",
            "epoch: 58, time(s): 0.7707, train loss: 1.166002, train metric: 0.822187, vali loss: 0.369615, vali metric: 0.891250\n",
            "epoch: 59, time(s): 0.7255, train loss: 1.090241, train metric: 0.829688, vali loss: 0.343488, vali metric: 0.895000\n",
            "epoch: 60, time(s): 0.7484, train loss: 1.141920, train metric: 0.830937, vali loss: 0.453676, vali metric: 0.893750\n",
            "epoch: 61, time(s): 0.7433, train loss: 1.133088, train metric: 0.827656, vali loss: 0.388932, vali metric: 0.901250\n",
            "epoch: 62, time(s): 0.7616, train loss: 1.137176, train metric: 0.842031, vali loss: 0.422161, vali metric: 0.890000\n",
            "epoch: 63, time(s): 1.2527, train loss: 1.104010, train metric: 0.835000, vali loss: 0.470403, vali metric: 0.896250\n",
            "epoch: 64, time(s): 0.7493, train loss: 1.097963, train metric: 0.842344, vali loss: 0.350648, vali metric: 0.891250\n",
            "epoch: 65, time(s): 0.7486, train loss: 1.082274, train metric: 0.834219, vali loss: 0.361079, vali metric: 0.892500\n",
            "epoch: 66, time(s): 0.7596, train loss: 1.200168, train metric: 0.835938, vali loss: 0.506861, vali metric: 0.895000\n",
            "epoch: 67, time(s): 0.9578, train loss: 1.163319, train metric: 0.831875, vali loss: 0.366915, vali metric: 0.880000\n",
            "epoch: 68, time(s): 1.0180, train loss: 1.098406, train metric: 0.837031, vali loss: 0.413172, vali metric: 0.887500\n",
            "epoch: 69, time(s): 0.7808, train loss: 1.165890, train metric: 0.834531, vali loss: 0.351893, vali metric: 0.898750\n",
            "epoch: 70, time(s): 0.7266, train loss: 1.021790, train metric: 0.840313, vali loss: 0.358774, vali metric: 0.897500\n",
            "epoch: 71, time(s): 0.7434, train loss: 1.040442, train metric: 0.833281, vali loss: 0.398754, vali metric: 0.900000\n",
            "epoch: 72, time(s): 0.7475, train loss: 1.115719, train metric: 0.842500, vali loss: 0.457477, vali metric: 0.902500\n",
            "epoch: 73, time(s): 0.7561, train loss: 1.101245, train metric: 0.840469, vali loss: 0.347401, vali metric: 0.893750\n",
            "epoch: 74, time(s): 0.7428, train loss: 1.087478, train metric: 0.835000, vali loss: 0.484629, vali metric: 0.891250\n",
            "epoch: 75, time(s): 0.7520, train loss: 1.090548, train metric: 0.841562, vali loss: 0.414750, vali metric: 0.896250\n",
            "epoch: 76, time(s): 0.7597, train loss: 1.072182, train metric: 0.842187, vali loss: 0.450241, vali metric: 0.875000\n",
            "epoch: 77, time(s): 0.7368, train loss: 1.071561, train metric: 0.842969, vali loss: 0.699331, vali metric: 0.897500\n",
            "epoch: 78, time(s): 0.7391, train loss: 1.077364, train metric: 0.853594, vali loss: 0.342605, vali metric: 0.898750\n",
            "epoch: 79, time(s): 0.7634, train loss: 1.068020, train metric: 0.852656, vali loss: 0.351845, vali metric: 0.890000\n",
            "epoch: 80, time(s): 0.7428, train loss: 1.066503, train metric: 0.849219, vali loss: 0.452437, vali metric: 0.883750\n",
            "epoch: 81, time(s): 0.7544, train loss: 1.121009, train metric: 0.850156, vali loss: 0.624834, vali metric: 0.890000\n",
            "epoch: 82, time(s): 0.8795, train loss: 1.040819, train metric: 0.856406, vali loss: 0.380622, vali metric: 0.897500\n",
            "epoch: 83, time(s): 1.0354, train loss: 1.105658, train metric: 0.855313, vali loss: 0.311903, vali metric: 0.895000\n",
            "epoch: 84, time(s): 0.9138, train loss: 1.084864, train metric: 0.851875, vali loss: 0.350582, vali metric: 0.893750\n",
            "epoch: 85, time(s): 0.7762, train loss: 1.017781, train metric: 0.852812, vali loss: 0.417526, vali metric: 0.890000\n",
            "epoch: 86, time(s): 0.7756, train loss: 1.080434, train metric: 0.854219, vali loss: 0.363479, vali metric: 0.896250\n",
            "epoch: 87, time(s): 0.7676, train loss: 1.051681, train metric: 0.852969, vali loss: 0.358770, vali metric: 0.893750\n",
            "epoch: 88, time(s): 0.7644, train loss: 1.087461, train metric: 0.859062, vali loss: 0.363863, vali metric: 0.896250\n",
            "epoch: 89, time(s): 0.7612, train loss: 1.090518, train metric: 0.856563, vali loss: 0.414781, vali metric: 0.895000\n",
            "epoch: 90, time(s): 0.7452, train loss: 1.058308, train metric: 0.856719, vali loss: 0.324183, vali metric: 0.890000\n",
            "epoch: 91, time(s): 1.9722, train loss: 1.012380, train metric: 0.854844, vali loss: 0.297802, vali metric: 0.896250\n",
            "epoch: 92, time(s): 0.8690, train loss: 1.093554, train metric: 0.851406, vali loss: 0.371342, vali metric: 0.896250\n",
            "epoch: 93, time(s): 0.7474, train loss: 0.988252, train metric: 0.861406, vali loss: 0.374666, vali metric: 0.897500\n",
            "epoch: 94, time(s): 0.7723, train loss: 0.991735, train metric: 0.853281, vali loss: 0.346572, vali metric: 0.896250\n",
            "epoch: 95, time(s): 0.7957, train loss: 1.104538, train metric: 0.849531, vali loss: 0.298667, vali metric: 0.896250\n",
            "epoch: 96, time(s): 0.9427, train loss: 1.005908, train metric: 0.850313, vali loss: 0.397887, vali metric: 0.888750\n",
            "epoch: 97, time(s): 1.0513, train loss: 1.036501, train metric: 0.855781, vali loss: 0.364798, vali metric: 0.893750\n",
            "epoch: 98, time(s): 0.7713, train loss: 1.099524, train metric: 0.859688, vali loss: 0.369414, vali metric: 0.893750\n",
            "epoch: 99, time(s): 0.7948, train loss: 1.000467, train metric: 0.855000, vali loss: 0.491911, vali metric: 0.892500\n",
            "epoch: 100, time(s): 0.7364, train loss: 1.129035, train metric: 0.870156, vali loss: 0.327415, vali metric: 0.897500\n"
          ]
        }
      ],
      "source": [
        "#training loop (in pytorch you need to write yourself it (alternatively use PyTorch Lightning for more keras-like APIs))\n",
        "import time\n",
        "epochs = 100\n",
        "\n",
        "# define a couple of lists to store loss and accuracy during training for monitorin purposes\n",
        "hist_loss = []\n",
        "hist_metric = []\n",
        "hist_val_loss = []\n",
        "hist_val_metric = []\n",
        "\n",
        "# loop over epochs\n",
        "for epoch in range(epochs):\n",
        "    t0 = time.time()\n",
        "\n",
        "    #training step\n",
        "    model.train() #important!\n",
        "    train_loss = 0.0\n",
        "    train_metric = 0.0\n",
        "    counter = 0\n",
        "    for xb, yb, sb in dataloader_train: #loop over minibatches\n",
        "        counter += 1\n",
        "        xb=xb.type(torch.float).to(device)\n",
        "        yb=yb.type(torch.float).to(device)\n",
        "        sb=sb.type(torch.float).to(device)\n",
        "\n",
        "        pred = model(xb)\n",
        "        loss1 = loss_func1(pred[0], torch.unsqueeze(yb,1))\n",
        "        loss2 = loss_func2(pred[1], torch.unsqueeze(sb,1))\n",
        "        loss = loss1 + loss2\n",
        "\n",
        "        metric = my_metric_func(pred[0], torch.unsqueeze(yb,1))\n",
        "        train_loss += loss.item()\n",
        "        train_metric += metric.item()\n",
        "\n",
        "        # backpropagation\n",
        "        loss.backward()\n",
        "        opt.step()\n",
        "        opt.zero_grad()\n",
        "\n",
        "    train_loss = train_loss/counter\n",
        "    train_metric = train_metric/counter\n",
        "\n",
        "    hist_loss.append(train_loss)\n",
        "    hist_metric.append(train_metric)\n",
        "\n",
        "    # validation step\n",
        "    model.eval() #important!\n",
        "    vali_loss = 0.0\n",
        "    vali_metric = 0.0\n",
        "    counter = 0\n",
        "    with torch.no_grad():\n",
        "      for xb, yb, sb in dataloader_vali:\n",
        "        counter += 1\n",
        "        xb=xb.type(torch.float).to(device)\n",
        "        yb=yb.type(torch.float).to(device)\n",
        "        sb=sb.type(torch.float).to(device)\n",
        "        pred = model(xb)\n",
        "        vloss1 = loss_func1(pred[0], torch.unsqueeze(yb,1))\n",
        "        vloss2 = loss_func2(pred[1], torch.unsqueeze(sb,1))\n",
        "        vloss = vloss1 + vloss2\n",
        "        vmetric = my_metric_func(pred[0], torch.unsqueeze(yb,1))\n",
        "        vali_loss += vloss.item()\n",
        "        vali_metric += vmetric.item()\n",
        "\n",
        "    vali_loss = vali_loss/counter\n",
        "    vali_metric = vali_metric/counter\n",
        "\n",
        "    hist_val_loss.append(vali_loss)\n",
        "    hist_val_metric.append(vali_metric)\n",
        "\n",
        "    elapsed_time = time.time()-t0\n",
        "    #current_lr = lr_scheduler.get_last_lr()[0]\n",
        "    #print(\"epoch: %d, time(s): %.4f, train loss: %.6f, train metric: %.6f, vali loss: %.6f, vali metric: %.6f, lr : %1.2e\"\n",
        "    #      % (epoch+1, elapsed_time, train_loss, train_metric, vali_loss, vali_metric, current_lr))\n",
        "    print(\"epoch: %d, time(s): %.4f, train loss: %.6f, train metric: %.6f, vali loss: %.6f, vali metric: %.6f\"\n",
        "          % (epoch+1, elapsed_time, train_loss, train_metric, vali_loss, vali_metric))\n",
        "\n",
        "    # update learning rate schedule\n",
        "    #lr_scheduler.step()"
      ]
    },
    {
      "cell_type": "code",
      "execution_count": 60,
      "metadata": {
        "id": "FZyfz3ZsX5Br",
        "colab": {
          "base_uri": "https://localhost:8080/",
          "height": 636
        },
        "outputId": "c8fa5cb9-74c6-4f3c-f490-9e52a83c7152"
      },
      "outputs": [
        {
          "output_type": "execute_result",
          "data": {
            "text/plain": [
              "<matplotlib.legend.Legend at 0x7cb50062b2d0>"
            ]
          },
          "metadata": {},
          "execution_count": 60
        },
        {
          "output_type": "display_data",
          "data": {
            "text/plain": [
              "<Figure size 1000x700 with 2 Axes>"
            ],
            "image/png": "[encoded data removed]"
          },
          "metadata": {}
        }
      ],
      "source": [
        "# plot training results (loss and accuracy vs epoch)\n",
        "plt.figure(figsize=(10, 7))\n",
        "plt.subplot(1,2,1)\n",
        "plt.plot(range(1,len(hist_loss)+1), hist_loss, color='green', linestyle='-', label='train loss')\n",
        "plt.plot(range(1,len(hist_val_loss)+1), hist_val_loss, color='blue', linestyle='-', label='validation loss')\n",
        "plt.xlabel('Epochs')\n",
        "plt.ylabel('Loss')\n",
        "plt.ylim(ymin = 0.0)\n",
        "plt.legend()\n",
        "plt.subplot(1,2,2)\n",
        "plt.plot(range(1,len(hist_metric)+1), hist_metric,  color='green', linestyle='-', label='train metric')\n",
        "plt.plot(range(1,len(hist_val_metric)+1),hist_val_metric, color='blue', linestyle='-', label='validation metric')\n",
        "plt.xlabel('Epochs')\n",
        "plt.ylabel('Accuracy')\n",
        "plt.ylim(ymin = 0.0)\n",
        "plt.legend()"
      ]
    },
    {
      "cell_type": "code",
      "execution_count": 61,
      "metadata": {
        "id": "Mw_C3GGq2QHa"
      },
      "outputs": [],
      "source": [
        "#test the trained model\n",
        "\n",
        "# let's test it on cpu\n",
        "model.to(torch.device(\"cpu\"))\n",
        "\n",
        "X_test_pt = X_test_pt.type(torch.float).to(torch.device(\"cpu\"))\n",
        "res = model(X_test_pt)"
      ]
    },
    {
      "cell_type": "code",
      "execution_count": 62,
      "metadata": {
        "colab": {
          "base_uri": "https://localhost:8080/"
        },
        "id": "l829A8uyuRJd",
        "outputId": "2cdca435-bd85-4492-cddc-e6d126ed6e8e"
      },
      "outputs": [
        {
          "output_type": "stream",
          "name": "stdout",
          "text": [
            "Test accuracy:  0.9175000190734863\n",
            "Test MSE:  0.1097421646118164\n"
          ]
        }
      ],
      "source": [
        "print('Test accuracy: ',my_metric_func(res[0], torch.unsqueeze(Y_test_pt,1)).item())\n",
        "print('Test MSE: ', loss_func2(res[1], torch.unsqueeze(S_test_pt,1)).item())"
      ]
    },
    {
      "cell_type": "code",
      "source": [
        "plt.figure(figsize=(5, 5))\n",
        "plt.scatter(res[1].squeeze().detach().numpy(), S_test_pt.detach().numpy())\n",
        "plt.plot([0,30],[0,30], color='red')\n",
        "plt.xlabel('prediction')\n",
        "plt.ylabel('target')\n",
        "plt.draw()"
      ],
      "metadata": {
        "colab": {
          "base_uri": "https://localhost:8080/",
          "height": 465
        },
        "id": "0g7YhdYK3D-9",
        "outputId": "212aa0ec-0ee6-423c-83fa-115fec78eced"
      },
      "execution_count": 63,
      "outputs": [
        {
          "output_type": "display_data",
          "data": {
            "text/plain": [
              "<Figure size 500x500 with 1 Axes>"
            ],
            "image/png": "[encoded data removed]"
          },
          "metadata": {}
        }
      ]
    }
  ],
  "metadata": {
    "colab": {
      "provenance": [],
      "include_colab_link": true
    },
    "kernelspec": {
      "display_name": "default:Python",
      "language": "python",
      "name": "conda-env-default-py"
    },
    "language_info": {
      "codemirror_mode": {
        "name": "ipython",
        "version": 3
      },
      "file_extension": ".py",
      "mimetype": "text/x-python",
      "name": "python",
      "nbconvert_exporter": "python",
      "pygments_lexer": "ipython3",
      "version": "3.9.7"
    },
    "accelerator": "GPU",
    "gpuClass": "standard"
  },
  "nbformat": 4,
  "nbformat_minor": 0
}